{
 "cells": [
  {
   "cell_type": "code",
   "execution_count": 1,
   "metadata": {},
   "outputs": [],
   "source": [
    "# !pip install -U spacy -q"
   ]
  },
  {
   "cell_type": "code",
   "execution_count": 1,
   "metadata": {},
   "outputs": [],
   "source": [
    "import spacy"
   ]
  },
  {
   "cell_type": "code",
   "execution_count": 2,
   "metadata": {},
   "outputs": [],
   "source": [
    "from spacy.tokens import DocBin\n",
    "from tqdm import tqdm\n",
    "\n",
    "nlp = spacy.blank(\"id\") # load a new spacy model\n",
    "db = DocBin() # create a DocBin object"
   ]
  },
  {
   "cell_type": "code",
   "execution_count": 3,
   "metadata": {},
   "outputs": [],
   "source": [
    "import json\n",
    "f = open('responsibility.json')\n",
    "train_data = json.load(f)"
   ]
  },
  {
   "cell_type": "code",
   "execution_count": 4,
   "metadata": {},
   "outputs": [],
   "source": [
    "f = open('qualification.json')\n",
    "val_data = json.load(f)"
   ]
  },
  {
   "cell_type": "code",
   "execution_count": 7,
   "metadata": {},
   "outputs": [
    {
     "name": "stderr",
     "output_type": "stream",
     "text": [
      "100%|██████████| 113/113 [00:00<00:00, 3777.18it/s]\n"
     ]
    }
   ],
   "source": [
    "for text, annot in tqdm(train_data['annotations']): \n",
    "    doc = nlp.make_doc(text) \n",
    "    ents = []\n",
    "    for start, end, label in annot[\"entities\"]:\n",
    "        span = doc.char_span(start, end, label=label, alignment_mode=\"contract\")\n",
    "        if span is None:\n",
    "            print(\"Skipping entity\")\n",
    "        else:\n",
    "            ents.append(span)\n",
    "    doc.ents = ents \n",
    "    db.add(doc)\n",
    "\n",
    "db.to_disk(\"./training_data.spacy\") # save the docbin object"
   ]
  },
  {
   "cell_type": "code",
   "execution_count": 8,
   "metadata": {},
   "outputs": [
    {
     "name": "stderr",
     "output_type": "stream",
     "text": [
      "100%|██████████| 88/88 [00:00<00:00, 4624.60it/s]\n"
     ]
    }
   ],
   "source": [
    "for text, annot in tqdm(val_data['annotations']): \n",
    "    doc = nlp.make_doc(text) \n",
    "    ents = []\n",
    "    for start, end, label in annot[\"entities\"]:\n",
    "        span = doc.char_span(start, end, label=label, alignment_mode=\"contract\")\n",
    "        if span is None:\n",
    "            print(\"Skipping entity\")\n",
    "        else:\n",
    "            ents.append(span)\n",
    "    doc.ents = ents \n",
    "    db.add(doc)\n",
    "\n",
    "db.to_disk(\"./validation_data.spacy\") # save the docbin object"
   ]
  },
  {
   "cell_type": "code",
   "execution_count": 9,
   "metadata": {},
   "outputs": [
    {
     "name": "stdout",
     "output_type": "stream",
     "text": [
      "⚠ To generate a more effective transformer-based config (GPU-only), install the\n",
      "spacy-transformers package and re-run this command. The config generated now\n",
      "does not use transformers.\n",
      "ℹ Generated config template specific for your use case\n",
      "- Language: id\n",
      "- Pipeline: ner\n",
      "- Optimize for: efficiency\n",
      "- Hardware: CPU\n",
      "- Transformer: None\n",
      "✔ Auto-filled config with all values\n",
      "✔ Saved config\n",
      "config.cfg\n",
      "You can now add your data and train your pipeline:\n",
      "python -m spacy train config.cfg --paths.train ./train.spacy --paths.dev ./dev.spacy\n"
     ]
    },
    {
     "name": "stderr",
     "output_type": "stream",
     "text": [
      "2022-05-09 06:10:57.629188: W tensorflow/stream_executor/platform/default/dso_loader.cc:64] Could not load dynamic library 'cudart64_110.dll'; dlerror: cudart64_110.dll not found\n",
      "2022-05-09 06:10:57.630261: I tensorflow/stream_executor/cuda/cudart_stub.cc:29] Ignore above cudart dlerror if you do not have a GPU set up on your machine.\n"
     ]
    }
   ],
   "source": [
    "! python -m spacy init config config.cfg --lang id --pipeline ner --optimize efficiency"
   ]
  },
  {
   "cell_type": "code",
   "execution_count": 10,
   "metadata": {},
   "outputs": [
    {
     "name": "stdout",
     "output_type": "stream",
     "text": [
      "ℹ Saving to output directory: .\n",
      "ℹ Using CPU\n",
      "\u001b[1m\n",
      "=========================== Initializing pipeline ===========================\u001b[0m\n",
      "✔ Initialized pipeline\n",
      "\u001b[1m\n",
      "============================= Training pipeline =============================\u001b[0m\n",
      "ℹ Pipeline: ['tok2vec', 'ner']\n",
      "ℹ Initial learn rate: 0.001\n",
      "E    #       LOSS TOK2VEC  LOSS NER  ENTS_F  ENTS_P  ENTS_R  SCORE \n",
      "---  ------  ------------  --------  ------  ------  ------  ------\n",
      "  0       0          0.00     53.43    0.00    0.00    0.00    0.00\n",
      " 14     200         52.27   1516.21   95.94   96.17   95.71    0.96\n",
      " 33     400        106.68    129.52   94.76   90.83   99.05    0.95\n",
      " 55     600          0.01      0.01   96.93   96.24   97.62    0.97\n",
      " 83     800          0.00      0.00   97.16   96.70   97.62    0.97\n",
      "117    1000          0.00      0.00   98.55  100.00   97.14    0.99\n",
      "158    1200          0.00      0.00   97.84   98.55   97.14    0.98\n",
      "208    1400          0.00      0.00   97.40   96.71   98.10    0.97\n",
      "270    1600          0.00      0.00   97.40   96.71   98.10    0.97\n",
      "337    1800          0.00      0.00   97.14   97.14   97.14    0.97\n",
      "435    2000          0.00      0.00   97.14   97.14   97.14    0.97\n",
      "535    2200          0.00      0.00   97.14   97.14   97.14    0.97\n",
      "635    2400         35.32     17.72   95.10   93.15   97.14    0.95\n",
      "735    2600       1198.47    774.63   93.91   89.27   99.05    0.94\n",
      "✔ Saved pipeline to output directory\n",
      "model-last\n"
     ]
    },
    {
     "name": "stderr",
     "output_type": "stream",
     "text": [
      "2022-05-09 06:11:17.640750: W tensorflow/stream_executor/platform/default/dso_loader.cc:64] Could not load dynamic library 'cudart64_110.dll'; dlerror: cudart64_110.dll not found\n",
      "2022-05-09 06:11:17.641229: I tensorflow/stream_executor/cuda/cudart_stub.cc:29] Ignore above cudart dlerror if you do not have a GPU set up on your machine.\n",
      "[2022-05-09 06:11:24,372] [INFO] Set up nlp object from config\n",
      "[2022-05-09 06:11:24,381] [INFO] Pipeline: ['tok2vec', 'ner']\n",
      "[2022-05-09 06:11:24,384] [INFO] Created vocabulary\n",
      "[2022-05-09 06:11:24,385] [INFO] Finished initializing nlp object\n",
      "[2022-05-09 06:11:24,533] [INFO] Initialized pipeline components: ['tok2vec', 'ner']\n"
     ]
    }
   ],
   "source": [
    "! python -m spacy train config.cfg --output ./ --paths.train ./training_data.spacy --paths.dev ./validation_data.spacy"
   ]
  },
  {
   "cell_type": "code",
   "execution_count": 11,
   "metadata": {},
   "outputs": [],
   "source": [
    "ner_model = spacy.load('model-best')"
   ]
  },
  {
   "cell_type": "code",
   "execution_count": 12,
   "metadata": {},
   "outputs": [],
   "source": [
    "doc = ner_model('''\n",
    "\"intent\": \"qualification-DS\",\n",
    "\"apa kompetensi yang dibutuhkan role data scientist?\",\n",
    "\"apa kompetensi yang dibutuhkan posisi data analis?\",\n",
    "\"kompetensi buat enginer apa aja?\",\n",
    "\"data science harus bisa apa?\",\n",
    "\"lulusan non teknik bisa daftar jadi scientist?\",\n",
    "\"kalau ga bisa IT bisa jadi analis?\",\n",
    "\"kalau belum punya pengalaman bisa jadi engineer?\",\n",
    "\"kualifikasi data analyst gimana?\",\n",
    "\"daftar jadi data analitik harus bisa apa aja?\",\n",
    "\"kalau jurusan tidak tertulis apa bisa jadi data scientis?\",\n",
    "\"bagaimana kualifikasi data engine yang dicari?\",\n",
    "\"kalau ga bisa data science boleh daftar data scientist?\",\n",
    "\"ga bisa coding boleh daftar data science?\",\n",
    "\"ga bisa coding boleh daftar data scientist?\",\n",
    "\"ga ngerti data science tapi mau daftar\",\n",
    "\"belum punya pengalaman mau daftar data scientist\",\n",
    "\"pengalaman lebih dari tiga tahun mau lamar data scientist\"\n",
    "\"Untuk posisi Data Scientist ada beberapa kualifikasi yang harus dipenuhi:\\n1. Memiliki gelar sarjana di bidang informatika, ilmu komputer, statistika, matematika, atau bidang lain yang berhubungan\\n2. Memiliki pemahaman mendasar tentang Statistika Analitik, Machine Learning, Deep Learning untuk menyelesaikan permasalahan bisnis\\n3. Memiliki pengalaman kerja di bidang Data Science selama 1-3 tahun\\n4. Memiliki pemahaman dan pengalaman tentang Big Data\\n5. Memiliki kemampuan bekerja sama, kepemimpinan, dan problem solving yang baik\"\n",
    "''')"
   ]
  },
  {
   "cell_type": "code",
   "execution_count": 13,
   "metadata": {},
   "outputs": [
    {
     "data": {
      "text/html": [
       "<span class=\"tex2jax_ignore\"><div class=\"entities\" style=\"line-height: 2.5; direction: ltr\"></br>&quot;intent&quot;: &quot;qualification-DS&quot;,</br>&quot;apa kompetensi yang dibutuhkan role \n",
       "<mark class=\"entity\" style=\"background: #ddd; padding: 0.45em 0.6em; margin: 0 0.25em; line-height: 1; border-radius: 0.35em;\">\n",
       "    data scientist\n",
       "    <span style=\"font-size: 0.8em; font-weight: bold; line-height: 1; border-radius: 0.35em; vertical-align: middle; margin-left: 0.5rem\">SCIENTIST</span>\n",
       "</mark>\n",
       "?&quot;,</br>&quot;apa kompetensi yang dibutuhkan posisi \n",
       "<mark class=\"entity\" style=\"background: #ddd; padding: 0.45em 0.6em; margin: 0 0.25em; line-height: 1; border-radius: 0.35em;\">\n",
       "    data analis\n",
       "    <span style=\"font-size: 0.8em; font-weight: bold; line-height: 1; border-radius: 0.35em; vertical-align: middle; margin-left: 0.5rem\">ANALIS</span>\n",
       "</mark>\n",
       "?&quot;,</br>&quot;kompetensi buat enginer apa aja?&quot;,</br>&quot;\n",
       "<mark class=\"entity\" style=\"background: #ddd; padding: 0.45em 0.6em; margin: 0 0.25em; line-height: 1; border-radius: 0.35em;\">\n",
       "    data science\n",
       "    <span style=\"font-size: 0.8em; font-weight: bold; line-height: 1; border-radius: 0.35em; vertical-align: middle; margin-left: 0.5rem\">SCIENTIST</span>\n",
       "</mark>\n",
       " harus bisa apa?&quot;,</br>&quot;lulusan non teknik bisa daftar jadi \n",
       "<mark class=\"entity\" style=\"background: #ddd; padding: 0.45em 0.6em; margin: 0 0.25em; line-height: 1; border-radius: 0.35em;\">\n",
       "    scientist\n",
       "    <span style=\"font-size: 0.8em; font-weight: bold; line-height: 1; border-radius: 0.35em; vertical-align: middle; margin-left: 0.5rem\">SCIENTIST</span>\n",
       "</mark>\n",
       "?&quot;,</br>&quot;kalau ga bisa IT bisa jadi \n",
       "<mark class=\"entity\" style=\"background: #ddd; padding: 0.45em 0.6em; margin: 0 0.25em; line-height: 1; border-radius: 0.35em;\">\n",
       "    analis\n",
       "    <span style=\"font-size: 0.8em; font-weight: bold; line-height: 1; border-radius: 0.35em; vertical-align: middle; margin-left: 0.5rem\">ANALIS</span>\n",
       "</mark>\n",
       "?&quot;,</br>&quot;kalau belum punya pengalaman bisa jadi \n",
       "<mark class=\"entity\" style=\"background: #ddd; padding: 0.45em 0.6em; margin: 0 0.25em; line-height: 1; border-radius: 0.35em;\">\n",
       "    engineer\n",
       "    <span style=\"font-size: 0.8em; font-weight: bold; line-height: 1; border-radius: 0.35em; vertical-align: middle; margin-left: 0.5rem\">ENGINEER</span>\n",
       "</mark>\n",
       "?&quot;,</br>&quot;kualifikasi \n",
       "<mark class=\"entity\" style=\"background: #ddd; padding: 0.45em 0.6em; margin: 0 0.25em; line-height: 1; border-radius: 0.35em;\">\n",
       "    data analyst\n",
       "    <span style=\"font-size: 0.8em; font-weight: bold; line-height: 1; border-radius: 0.35em; vertical-align: middle; margin-left: 0.5rem\">ANALIS</span>\n",
       "</mark>\n",
       " gimana?&quot;,</br>&quot;daftar jadi \n",
       "<mark class=\"entity\" style=\"background: #ddd; padding: 0.45em 0.6em; margin: 0 0.25em; line-height: 1; border-radius: 0.35em;\">\n",
       "    data analitik\n",
       "    <span style=\"font-size: 0.8em; font-weight: bold; line-height: 1; border-radius: 0.35em; vertical-align: middle; margin-left: 0.5rem\">ANALIS</span>\n",
       "</mark>\n",
       " harus bisa apa aja?&quot;,</br>&quot;kalau jurusan tidak tertulis apa bisa jadi \n",
       "<mark class=\"entity\" style=\"background: #ddd; padding: 0.45em 0.6em; margin: 0 0.25em; line-height: 1; border-radius: 0.35em;\">\n",
       "    data scientis\n",
       "    <span style=\"font-size: 0.8em; font-weight: bold; line-height: 1; border-radius: 0.35em; vertical-align: middle; margin-left: 0.5rem\">SCIENTIST</span>\n",
       "</mark>\n",
       "?&quot;,</br>&quot;bagaimana kualifikasi \n",
       "<mark class=\"entity\" style=\"background: #ddd; padding: 0.45em 0.6em; margin: 0 0.25em; line-height: 1; border-radius: 0.35em;\">\n",
       "    data engine\n",
       "    <span style=\"font-size: 0.8em; font-weight: bold; line-height: 1; border-radius: 0.35em; vertical-align: middle; margin-left: 0.5rem\">ENGINEER</span>\n",
       "</mark>\n",
       " yang dicari?&quot;,</br>&quot;kalau ga bisa \n",
       "<mark class=\"entity\" style=\"background: #ddd; padding: 0.45em 0.6em; margin: 0 0.25em; line-height: 1; border-radius: 0.35em;\">\n",
       "    data science\n",
       "    <span style=\"font-size: 0.8em; font-weight: bold; line-height: 1; border-radius: 0.35em; vertical-align: middle; margin-left: 0.5rem\">SCIENTIST</span>\n",
       "</mark>\n",
       " boleh daftar \n",
       "<mark class=\"entity\" style=\"background: #ddd; padding: 0.45em 0.6em; margin: 0 0.25em; line-height: 1; border-radius: 0.35em;\">\n",
       "    data scientist\n",
       "    <span style=\"font-size: 0.8em; font-weight: bold; line-height: 1; border-radius: 0.35em; vertical-align: middle; margin-left: 0.5rem\">SCIENTIST</span>\n",
       "</mark>\n",
       "?&quot;,</br>&quot;ga bisa coding boleh daftar \n",
       "<mark class=\"entity\" style=\"background: #ddd; padding: 0.45em 0.6em; margin: 0 0.25em; line-height: 1; border-radius: 0.35em;\">\n",
       "    data science\n",
       "    <span style=\"font-size: 0.8em; font-weight: bold; line-height: 1; border-radius: 0.35em; vertical-align: middle; margin-left: 0.5rem\">SCIENTIST</span>\n",
       "</mark>\n",
       "?&quot;,</br>&quot;ga bisa coding boleh daftar \n",
       "<mark class=\"entity\" style=\"background: #ddd; padding: 0.45em 0.6em; margin: 0 0.25em; line-height: 1; border-radius: 0.35em;\">\n",
       "    data scientist\n",
       "    <span style=\"font-size: 0.8em; font-weight: bold; line-height: 1; border-radius: 0.35em; vertical-align: middle; margin-left: 0.5rem\">SCIENTIST</span>\n",
       "</mark>\n",
       "?&quot;,</br>&quot;ga ngerti \n",
       "<mark class=\"entity\" style=\"background: #ddd; padding: 0.45em 0.6em; margin: 0 0.25em; line-height: 1; border-radius: 0.35em;\">\n",
       "    data science\n",
       "    <span style=\"font-size: 0.8em; font-weight: bold; line-height: 1; border-radius: 0.35em; vertical-align: middle; margin-left: 0.5rem\">SCIENTIST</span>\n",
       "</mark>\n",
       " tapi mau daftar&quot;,</br>&quot;belum punya pengalaman mau daftar \n",
       "<mark class=\"entity\" style=\"background: #ddd; padding: 0.45em 0.6em; margin: 0 0.25em; line-height: 1; border-radius: 0.35em;\">\n",
       "    data scientist\n",
       "    <span style=\"font-size: 0.8em; font-weight: bold; line-height: 1; border-radius: 0.35em; vertical-align: middle; margin-left: 0.5rem\">SCIENTIST</span>\n",
       "</mark>\n",
       "&quot;,</br>&quot;pengalaman lebih dari tiga tahun mau lamar \n",
       "<mark class=\"entity\" style=\"background: #ddd; padding: 0.45em 0.6em; margin: 0 0.25em; line-height: 1; border-radius: 0.35em;\">\n",
       "    data scientist\n",
       "    <span style=\"font-size: 0.8em; font-weight: bold; line-height: 1; border-radius: 0.35em; vertical-align: middle; margin-left: 0.5rem\">SCIENTIST</span>\n",
       "</mark>\n",
       "&quot;</br>&quot;Untuk posisi \n",
       "<mark class=\"entity\" style=\"background: #ddd; padding: 0.45em 0.6em; margin: 0 0.25em; line-height: 1; border-radius: 0.35em;\">\n",
       "    Data Scientist\n",
       "    <span style=\"font-size: 0.8em; font-weight: bold; line-height: 1; border-radius: 0.35em; vertical-align: middle; margin-left: 0.5rem\">SCIENTIST</span>\n",
       "</mark>\n",
       " ada beberapa kualifikasi yang harus dipenuhi:</br>1. Memiliki gelar sarjana di bidang informatika, ilmu komputer, statistika, matematika, atau bidang lain yang berhubungan</br>2. Memiliki pemahaman mendasar tentang Statistika Analitik, Machine Learning, Deep Learning untuk menyelesaikan permasalahan bisnis</br>3. Memiliki pengalaman kerja di bidang \n",
       "<mark class=\"entity\" style=\"background: #ddd; padding: 0.45em 0.6em; margin: 0 0.25em; line-height: 1; border-radius: 0.35em;\">\n",
       "    Data Science\n",
       "    <span style=\"font-size: 0.8em; font-weight: bold; line-height: 1; border-radius: 0.35em; vertical-align: middle; margin-left: 0.5rem\">SCIENTIST</span>\n",
       "</mark>\n",
       " selama 1-3 tahun</br>4. Memiliki pemahaman dan pengalaman tentang Big \n",
       "<mark class=\"entity\" style=\"background: #ddd; padding: 0.45em 0.6em; margin: 0 0.25em; line-height: 1; border-radius: 0.35em;\">\n",
       "    Data\n",
       "\n",
       "    <span style=\"font-size: 0.8em; font-weight: bold; line-height: 1; border-radius: 0.35em; vertical-align: middle; margin-left: 0.5rem\">SCIENTIST</span>\n",
       "</mark>\n",
       "5. Memiliki kemampuan bekerja sama, kepemimpinan, dan problem solving yang baik&quot;</br></div></span>"
      ],
      "text/plain": [
       "<IPython.core.display.HTML object>"
      ]
     },
     "metadata": {},
     "output_type": "display_data"
    }
   ],
   "source": [
    "spacy.displacy.render(doc, style=\"ent\", jupyter=True) # display in Jupyter"
   ]
  },
  {
   "cell_type": "code",
   "execution_count": 17,
   "metadata": {},
   "outputs": [],
   "source": [
    "doc = ner_model('''\n",
    "data scientist itu apa, data engineer, analis, data analyst, data analist, data science, DS, DA, DE, science, analyst, engine, engineer\n",
    "''')"
   ]
  },
  {
   "cell_type": "code",
   "execution_count": 18,
   "metadata": {},
   "outputs": [
    {
     "data": {
      "text/plain": [
       "(data scientist,\n",
       " data engineer,\n",
       " analis,\n",
       " data analyst,\n",
       " data analist,\n",
       " data science,\n",
       " DS,\n",
       " DA,\n",
       " DE,\n",
       " analyst,\n",
       " engineer)"
      ]
     },
     "execution_count": 18,
     "metadata": {},
     "output_type": "execute_result"
    }
   ],
   "source": [
    "doc.ents"
   ]
  },
  {
   "cell_type": "code",
   "execution_count": 19,
   "metadata": {},
   "outputs": [
    {
     "name": "stdout",
     "output_type": "stream",
     "text": [
      "data scientist SCIENTIST\n",
      "data engineer ENGINEER\n",
      "analis ANALIS\n",
      "data analyst ANALIS\n",
      "data analist ANALIS\n",
      "data science SCIENTIST\n",
      "DS SCIENTIST\n",
      "DA ANALIS\n",
      "DE ENGINEER\n",
      "analyst ANALIS\n",
      "engineer ENGINEER\n"
     ]
    }
   ],
   "source": [
    "for ent in doc.ents:\n",
    "  print(ent.text, ent.label_)"
   ]
  },
  {
   "cell_type": "code",
   "execution_count": 20,
   "metadata": {},
   "outputs": [
    {
     "name": "stdout",
     "output_type": "stream",
     "text": [
      "SCIENTIST\n",
      "ENGINEER\n",
      "ANALIS\n",
      "ANALIS\n",
      "ANALIS\n",
      "SCIENTIST\n",
      "SCIENTIST\n",
      "ANALIS\n",
      "ENGINEER\n",
      "ANALIS\n",
      "ENGINEER\n"
     ]
    }
   ],
   "source": [
    "for ent in doc.ents:\n",
    "  print(ent.label_)"
   ]
  },
  {
   "cell_type": "code",
   "execution_count": 21,
   "metadata": {},
   "outputs": [],
   "source": [
    "cek = ner_model('''\n",
    "Data scientis ngapain aja\n",
    "''')"
   ]
  },
  {
   "cell_type": "code",
   "execution_count": 22,
   "metadata": {},
   "outputs": [
    {
     "name": "stdout",
     "output_type": "stream",
     "text": [
      "SCIENTIST\n"
     ]
    }
   ],
   "source": [
    "for ent in cek.ents:\n",
    "    print(ent.label_)"
   ]
  },
  {
   "cell_type": "code",
   "execution_count": 23,
   "metadata": {},
   "outputs": [
    {
     "name": "stdout",
     "output_type": "stream",
     "text": [
      "SCIENTIST\n"
     ]
    }
   ],
   "source": [
    "for ent in cek.ents:\n",
    "    print(ent.label_)\n",
    "    if ent.label_ == \"ANALIS\":\n",
    "        print('yes')"
   ]
  },
  {
   "cell_type": "code",
   "execution_count": null,
   "metadata": {},
   "outputs": [],
   "source": []
  }
 ],
 "metadata": {
  "interpreter": {
   "hash": "27f6fea6f47ae512550f0b8facdbd035a93e1dd89633f7bf2dd00a2502c71d0d"
  },
  "kernelspec": {
   "display_name": "Python 3.10.3 64-bit",
   "language": "python",
   "name": "python3"
  },
  "language_info": {
   "codemirror_mode": {
    "name": "ipython",
    "version": 3
   },
   "file_extension": ".py",
   "mimetype": "text/x-python",
   "name": "python",
   "nbconvert_exporter": "python",
   "pygments_lexer": "ipython3",
   "version": "3.10.3"
  },
  "orig_nbformat": 4
 },
 "nbformat": 4,
 "nbformat_minor": 2
}
