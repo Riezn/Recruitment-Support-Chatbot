{
 "cells": [
  {
   "cell_type": "code",
   "execution_count": 184,
   "metadata": {},
   "outputs": [
    {
     "name": "stderr",
     "output_type": "stream",
     "text": [
      "[nltk_data] Downloading package punkt to C:\\Users\\Judan Syamsul\n",
      "[nltk_data]     Hadad\\AppData\\Roaming\\nltk_data...\n",
      "[nltk_data]   Package punkt is already up-to-date!\n"
     ]
    }
   ],
   "source": [
    "import json\n",
    "import string\n",
    "import pickle\n",
    "import numpy as np\n",
    "import pandas as pd\n",
    "import tensorflow as tf\n",
    "\n",
    "from Sastrawi.Stemmer.StemmerFactory import StemmerFactory\n",
    "from Sastrawi.StopWordRemover.StopWordRemoverFactory import StopWordRemoverFactory\n",
    "\n",
    "\n",
    "import nltk\n",
    "nltk.download('punkt')\n",
    "from nltk.tokenize import word_tokenize"
   ]
  },
  {
   "cell_type": "code",
   "execution_count": 185,
   "metadata": {},
   "outputs": [],
   "source": [
    "# Load json file\n",
    "f = open('intent/intent.json', 'r')\n",
    "intent_json = json.load(f)"
   ]
  },
  {
   "cell_type": "code",
   "execution_count": 186,
   "metadata": {},
   "outputs": [],
   "source": [
    "# Create list from json\n",
    "input = []\n",
    "intent = []\n",
    "\n",
    "for i in range(len(intent_json['intents'])):\n",
    "    for user_input in intent_json['intents'][i]['input']:\n",
    "        input.append(user_input)\n",
    "        intent.append(intent_json['intents'][i]['intent'])"
   ]
  },
  {
   "cell_type": "code",
   "execution_count": 187,
   "metadata": {},
   "outputs": [
    {
     "data": {
      "text/html": [
       "<div>\n",
       "<style scoped>\n",
       "    .dataframe tbody tr th:only-of-type {\n",
       "        vertical-align: middle;\n",
       "    }\n",
       "\n",
       "    .dataframe tbody tr th {\n",
       "        vertical-align: top;\n",
       "    }\n",
       "\n",
       "    .dataframe thead th {\n",
       "        text-align: right;\n",
       "    }\n",
       "</style>\n",
       "<table border=\"1\" class=\"dataframe\">\n",
       "  <thead>\n",
       "    <tr style=\"text-align: right;\">\n",
       "      <th></th>\n",
       "      <th>input</th>\n",
       "      <th>intent</th>\n",
       "    </tr>\n",
       "  </thead>\n",
       "  <tbody>\n",
       "    <tr>\n",
       "      <th>0</th>\n",
       "      <td>halo</td>\n",
       "      <td>sapa</td>\n",
       "    </tr>\n",
       "    <tr>\n",
       "      <th>1</th>\n",
       "      <td>hei</td>\n",
       "      <td>sapa</td>\n",
       "    </tr>\n",
       "    <tr>\n",
       "      <th>2</th>\n",
       "      <td>hey</td>\n",
       "      <td>sapa</td>\n",
       "    </tr>\n",
       "    <tr>\n",
       "      <th>3</th>\n",
       "      <td>hello</td>\n",
       "      <td>sapa</td>\n",
       "    </tr>\n",
       "    <tr>\n",
       "      <th>4</th>\n",
       "      <td>hallo</td>\n",
       "      <td>sapa</td>\n",
       "    </tr>\n",
       "  </tbody>\n",
       "</table>\n",
       "</div>"
      ],
      "text/plain": [
       "   input intent\n",
       "0   halo   sapa\n",
       "1    hei   sapa\n",
       "2    hey   sapa\n",
       "3  hello   sapa\n",
       "4  hallo   sapa"
      ]
     },
     "execution_count": 187,
     "metadata": {},
     "output_type": "execute_result"
    }
   ],
   "source": [
    "# Create dataframe from json\n",
    "df = pd.DataFrame({\n",
    "    'input': input,\n",
    "    'intent' : intent\n",
    "    # 'response' : response\n",
    "})\n",
    "df.head()"
   ]
  },
  {
   "cell_type": "code",
   "execution_count": 188,
   "metadata": {},
   "outputs": [],
   "source": [
    "# Define stemmer and stopword remover\n",
    "factory = StemmerFactory()\n",
    "stemmer = factory.create_stemmer()\n",
    "\n",
    "factory = StopWordRemoverFactory()\n",
    "stopwords = factory.get_stop_words()"
   ]
  },
  {
   "cell_type": "code",
   "execution_count": 189,
   "metadata": {},
   "outputs": [],
   "source": [
    "slang = pd.read_csv('lexicon/slang ke semi baku.csv')\n",
    "\n",
    "slang_replace = {}\n",
    "for i, row in enumerate(slang['slang']):\n",
    "    slang_replace[row] = slang['formal'].iloc[i]"
   ]
  },
  {
   "cell_type": "code",
   "execution_count": 190,
   "metadata": {},
   "outputs": [],
   "source": [
    "baku = pd.read_csv('lexicon/slang ke baku.csv')\n",
    "\n",
    "baku_replace = {}\n",
    "for i, row in enumerate(baku['slang']):\n",
    "    baku_replace[row] = baku['baku'].iloc[i]"
   ]
  },
  {
   "cell_type": "code",
   "execution_count": 191,
   "metadata": {},
   "outputs": [],
   "source": [
    "stopwords.remove('ok')\n",
    "stopwords.remove('tidak')"
   ]
  },
  {
   "cell_type": "code",
   "execution_count": 193,
   "metadata": {},
   "outputs": [],
   "source": [
    "# Create text cleaning function\n",
    "def clean_text(text):\n",
    "    new_text = []\n",
    "\n",
    "    text = text.lower()\n",
    "\n",
    "    for kata in text.split():\n",
    "        if kata not in (slang_replace|baku_replace):\n",
    "            new_text.append(kata)\n",
    "        elif kata in baku_replace:\n",
    "            new_text+=baku_replace[kata].split()\n",
    "        elif kata in slang_replace:\n",
    "            new_text+=slang_replace[kata].split()\n",
    "    new_text = ' '.join(\n",
    "        stemmer.stem(\n",
    "            baku_replace.get(\n",
    "                word,\n",
    "                word\n",
    "            )\n",
    "        ) for word in new_text if word not in stopwords\n",
    "    )\n",
    "\n",
    "    new_text = new_text.translate(\n",
    "        str.maketrans(\n",
    "            '',\n",
    "            '',\n",
    "            string.punctuation\n",
    "        )\n",
    "    )\n",
    "    \n",
    "    return new_text"
   ]
  },
  {
   "cell_type": "code",
   "execution_count": 194,
   "metadata": {},
   "outputs": [
    {
     "data": {
      "text/plain": [
       "'aku lapar banget tidak tahu mau makan jeruk apa tiru deh lamar'"
      ]
     },
     "execution_count": 194,
     "metadata": {},
     "output_type": "execute_result"
    }
   ],
   "source": [
    "kalimat = 'Aku laper banget gatau maunya makan jeruk apa lagi meniru-niru... daah ngelamar'\n",
    "clean_text(kalimat)"
   ]
  },
  {
   "cell_type": "code",
   "execution_count": 195,
   "metadata": {},
   "outputs": [
    {
     "data": {
      "text/plain": [
       "0     halo\n",
       "1      hei\n",
       "2      hai\n",
       "3    hello\n",
       "4     halo\n",
       "Name: clean_input, dtype: object"
      ]
     },
     "execution_count": 195,
     "metadata": {},
     "output_type": "execute_result"
    }
   ],
   "source": [
    "df['clean_input'] = df['input'].apply(clean_text)\n",
    "df['clean_input'].head()"
   ]
  },
  {
   "cell_type": "code",
   "execution_count": 196,
   "metadata": {},
   "outputs": [],
   "source": [
    "# Create corpus\n",
    "words = set([\n",
    "    word for word in df['clean_input'] for word in word_tokenize(word)\n",
    "    ]\n",
    ")"
   ]
  },
  {
   "cell_type": "code",
   "execution_count": 197,
   "metadata": {},
   "outputs": [],
   "source": [
    "corpus_size = len(words)"
   ]
  },
  {
   "cell_type": "code",
   "execution_count": 198,
   "metadata": {},
   "outputs": [],
   "source": [
    "# Calculate word length of each row\n",
    "df['length'] = df['clean_input'].apply(word_tokenize).apply(len)"
   ]
  },
  {
   "cell_type": "code",
   "execution_count": 199,
   "metadata": {},
   "outputs": [],
   "source": [
    "sequence_length = int(round(df['length'].max(),0))"
   ]
  },
  {
   "cell_type": "code",
   "execution_count": 200,
   "metadata": {},
   "outputs": [
    {
     "data": {
      "text/plain": [
       "(302, 8)"
      ]
     },
     "execution_count": 200,
     "metadata": {},
     "output_type": "execute_result"
    }
   ],
   "source": [
    "corpus_size, sequence_length"
   ]
  },
  {
   "cell_type": "code",
   "execution_count": 201,
   "metadata": {},
   "outputs": [],
   "source": [
    "# Label encoding\n",
    "from sklearn.preprocessing import LabelEncoder\n",
    "from tensorflow.keras.utils import to_categorical\n",
    "\n",
    "le = LabelEncoder()\n",
    "y_train = le.fit_transform(df['intent'])\n",
    "y_train = to_categorical(y_train)"
   ]
  },
  {
   "cell_type": "code",
   "execution_count": 202,
   "metadata": {},
   "outputs": [
    {
     "data": {
      "text/plain": [
       "array(['CV', 'biaya', 'daftar', 'dokumen', 'error upload', 'ktp',\n",
       "       'link sosmed', 'lowongan', 'lupa password', 'nama', 'pas foto',\n",
       "       'pengantar', 'penutup', 'qualification', 'responsibilities',\n",
       "       'salary', 'sapa', 'sertifikat', 'skck', 'timeline', 'training',\n",
       "       'transkrip-ijazah'], dtype=object)"
      ]
     },
     "execution_count": 202,
     "metadata": {},
     "output_type": "execute_result"
    }
   ],
   "source": [
    "le.classes_"
   ]
  },
  {
   "cell_type": "code",
   "execution_count": 203,
   "metadata": {},
   "outputs": [
    {
     "data": {
      "text/plain": [
       "22"
      ]
     },
     "execution_count": 203,
     "metadata": {},
     "output_type": "execute_result"
    }
   ],
   "source": [
    "len(le.classes_)"
   ]
  },
  {
   "cell_type": "code",
   "execution_count": 204,
   "metadata": {},
   "outputs": [],
   "source": [
    "textvect = tf.keras.layers.TextVectorization(\n",
    "    max_tokens=corpus_size,\n",
    "    standardize='lower_and_strip_punctuation',\n",
    "    split='whitespace',\n",
    "    ngrams=None,\n",
    "    output_mode='int',\n",
    "    output_sequence_length=sequence_length\n",
    ")\n",
    "textvect.adapt(df['clean_input'])"
   ]
  },
  {
   "cell_type": "code",
   "execution_count": 205,
   "metadata": {},
   "outputs": [],
   "source": [
    "embedding = tf.keras.layers.Embedding(\n",
    "    input_dim=corpus_size,\n",
    "    output_dim=16,\n",
    "    input_length=sequence_length,\n",
    "    embeddings_initializer='uniform'\n",
    ")"
   ]
  },
  {
   "cell_type": "code",
   "execution_count": 206,
   "metadata": {},
   "outputs": [
    {
     "data": {
      "text/plain": [
       "<tf.Tensor: shape=(8,), dtype=int64, numpy=array([19, 13,  9,  0,  0,  0,  0,  0], dtype=int64)>"
      ]
     },
     "execution_count": 206,
     "metadata": {},
     "output_type": "execute_result"
    }
   ],
   "source": [
    "tes = 'saya mau daftar rekrutmen'\n",
    "textvect(clean_text(tes))"
   ]
  },
  {
   "cell_type": "code",
   "execution_count": 207,
   "metadata": {},
   "outputs": [
    {
     "data": {
      "text/plain": [
       "<tf.Tensor: shape=(8, 16), dtype=float32, numpy=\n",
       "array([[ 0.02602616, -0.00233669, -0.00157882,  0.0107664 ,  0.01552376,\n",
       "         0.02170381,  0.01976177, -0.01147447,  0.00224482,  0.04782111,\n",
       "        -0.04961878, -0.02931265,  0.00936665, -0.00975845,  0.0277995 ,\n",
       "         0.01213394],\n",
       "       [ 0.01847312, -0.04169055,  0.00519992, -0.02603018, -0.02136955,\n",
       "        -0.02666293,  0.02691633,  0.02731865, -0.0304291 , -0.02631148,\n",
       "         0.04042557,  0.03144511,  0.00719743, -0.0259292 ,  0.01389143,\n",
       "         0.00269145],\n",
       "       [-0.03238012, -0.01309792,  0.01792368,  0.04275905, -0.02144547,\n",
       "         0.03008294, -0.01082361,  0.03866122, -0.01051319,  0.01639554,\n",
       "        -0.03229091, -0.00112914, -0.00718968,  0.03750296,  0.00700215,\n",
       "        -0.03392418],\n",
       "       [ 0.03017514,  0.01008932,  0.02843987,  0.04292668,  0.03386657,\n",
       "         0.04759934, -0.03848273,  0.03099462, -0.00232458, -0.03826989,\n",
       "        -0.0118816 , -0.010799  , -0.01647909, -0.01562829,  0.03071154,\n",
       "         0.03545351],\n",
       "       [ 0.03017514,  0.01008932,  0.02843987,  0.04292668,  0.03386657,\n",
       "         0.04759934, -0.03848273,  0.03099462, -0.00232458, -0.03826989,\n",
       "        -0.0118816 , -0.010799  , -0.01647909, -0.01562829,  0.03071154,\n",
       "         0.03545351],\n",
       "       [ 0.03017514,  0.01008932,  0.02843987,  0.04292668,  0.03386657,\n",
       "         0.04759934, -0.03848273,  0.03099462, -0.00232458, -0.03826989,\n",
       "        -0.0118816 , -0.010799  , -0.01647909, -0.01562829,  0.03071154,\n",
       "         0.03545351],\n",
       "       [ 0.03017514,  0.01008932,  0.02843987,  0.04292668,  0.03386657,\n",
       "         0.04759934, -0.03848273,  0.03099462, -0.00232458, -0.03826989,\n",
       "        -0.0118816 , -0.010799  , -0.01647909, -0.01562829,  0.03071154,\n",
       "         0.03545351],\n",
       "       [ 0.03017514,  0.01008932,  0.02843987,  0.04292668,  0.03386657,\n",
       "         0.04759934, -0.03848273,  0.03099462, -0.00232458, -0.03826989,\n",
       "        -0.0118816 , -0.010799  , -0.01647909, -0.01562829,  0.03071154,\n",
       "         0.03545351]], dtype=float32)>"
      ]
     },
     "execution_count": 207,
     "metadata": {},
     "output_type": "execute_result"
    }
   ],
   "source": [
    "embedding(textvect(clean_text(tes)))"
   ]
  },
  {
   "cell_type": "code",
   "execution_count": 208,
   "metadata": {},
   "outputs": [],
   "source": [
    "# Create model\n",
    "input = tf.keras.layers.Input(shape=(1,), dtype='string')\n",
    "hidden_layer = textvect(input)\n",
    "hidden_layer = embedding(hidden_layer)\n",
    "hidden_layer = tf.keras.layers.Bidirectional(tf.keras.layers.LSTM(16))(hidden_layer)\n",
    "output = tf.keras.layers.Dense(len(le.classes_), activation='softmax')(hidden_layer)\n",
    "model = tf.keras.Model(inputs=input, outputs=output)\n",
    "\n",
    "# Compile model\n",
    "model.compile(\n",
    "    optimizer='adam',\n",
    "    loss='categorical_crossentropy',\n",
    "    metrics=['categorical_accuracy']\n",
    ")"
   ]
  },
  {
   "cell_type": "code",
   "execution_count": 209,
   "metadata": {},
   "outputs": [
    {
     "data": {
      "text/html": [
       "<div>\n",
       "<style scoped>\n",
       "    .dataframe tbody tr th:only-of-type {\n",
       "        vertical-align: middle;\n",
       "    }\n",
       "\n",
       "    .dataframe tbody tr th {\n",
       "        vertical-align: top;\n",
       "    }\n",
       "\n",
       "    .dataframe thead th {\n",
       "        text-align: right;\n",
       "    }\n",
       "</style>\n",
       "<table border=\"1\" class=\"dataframe\">\n",
       "  <thead>\n",
       "    <tr style=\"text-align: right;\">\n",
       "      <th></th>\n",
       "      <th>loss</th>\n",
       "      <th>categorical_accuracy</th>\n",
       "    </tr>\n",
       "  </thead>\n",
       "  <tbody>\n",
       "    <tr>\n",
       "      <th>95</th>\n",
       "      <td>0.023880</td>\n",
       "      <td>1.0</td>\n",
       "    </tr>\n",
       "    <tr>\n",
       "      <th>96</th>\n",
       "      <td>0.023373</td>\n",
       "      <td>1.0</td>\n",
       "    </tr>\n",
       "    <tr>\n",
       "      <th>97</th>\n",
       "      <td>0.023037</td>\n",
       "      <td>1.0</td>\n",
       "    </tr>\n",
       "    <tr>\n",
       "      <th>98</th>\n",
       "      <td>0.022409</td>\n",
       "      <td>1.0</td>\n",
       "    </tr>\n",
       "    <tr>\n",
       "      <th>99</th>\n",
       "      <td>0.021866</td>\n",
       "      <td>1.0</td>\n",
       "    </tr>\n",
       "  </tbody>\n",
       "</table>\n",
       "</div>"
      ],
      "text/plain": [
       "        loss  categorical_accuracy\n",
       "95  0.023880                   1.0\n",
       "96  0.023373                   1.0\n",
       "97  0.023037                   1.0\n",
       "98  0.022409                   1.0\n",
       "99  0.021866                   1.0"
      ]
     },
     "execution_count": 209,
     "metadata": {},
     "output_type": "execute_result"
    }
   ],
   "source": [
    "hist = model.fit(df['clean_input'], y_train, epochs=100, verbose=0)\n",
    "pd.DataFrame(hist.history).tail()"
   ]
  },
  {
   "cell_type": "code",
   "execution_count": 210,
   "metadata": {},
   "outputs": [
    {
     "name": "stdout",
     "output_type": "stream",
     "text": [
      "15/15 [==============================] - 1s 1ms/step - loss: 0.0213 - categorical_accuracy: 1.0000\n"
     ]
    },
    {
     "data": {
      "text/plain": [
       "[0.02132023498415947, 1.0]"
      ]
     },
     "execution_count": 210,
     "metadata": {},
     "output_type": "execute_result"
    }
   ],
   "source": [
    "model.evaluate(df['clean_input'], y_train)"
   ]
  },
  {
   "cell_type": "code",
   "execution_count": 211,
   "metadata": {},
   "outputs": [
    {
     "name": "stdout",
     "output_type": "stream",
     "text": [
      "                  precision    recall  f1-score   support\n",
      "\n",
      "              CV       1.00      1.00      1.00        12\n",
      "           biaya       1.00      1.00      1.00        27\n",
      "          daftar       1.00      1.00      1.00        22\n",
      "         dokumen       1.00      1.00      1.00        23\n",
      "    error upload       1.00      1.00      1.00         9\n",
      "             ktp       1.00      1.00      1.00        16\n",
      "     link sosmed       1.00      1.00      1.00        17\n",
      "        lowongan       1.00      1.00      1.00        17\n",
      "   lupa password       1.00      1.00      1.00        21\n",
      "            nama       1.00      1.00      1.00         8\n",
      "        pas foto       1.00      1.00      1.00        16\n",
      "       pengantar       1.00      1.00      1.00        10\n",
      "         penutup       1.00      1.00      1.00        28\n",
      "   qualification       1.00      1.00      1.00        18\n",
      "responsibilities       1.00      1.00      1.00        21\n",
      "          salary       1.00      1.00      1.00        52\n",
      "            sapa       1.00      1.00      1.00        19\n",
      "      sertifikat       1.00      1.00      1.00        14\n",
      "            skck       1.00      1.00      1.00        16\n",
      "        timeline       1.00      1.00      1.00        38\n",
      "        training       1.00      1.00      1.00        22\n",
      "transkrip-ijazah       1.00      1.00      1.00        31\n",
      "\n",
      "        accuracy                           1.00       457\n",
      "       macro avg       1.00      1.00      1.00       457\n",
      "    weighted avg       1.00      1.00      1.00       457\n",
      "\n"
     ]
    }
   ],
   "source": [
    "y_train_df = pd.DataFrame(y_train, columns=le.classes_)\n",
    "y_train_df['intent'] = y_train_df.idxmax(axis=1)\n",
    "\n",
    "model_pred = model.predict(df['clean_input'])\n",
    "model_pred = pd.DataFrame(model_pred, columns=le.classes_)\n",
    "model_pred['intent'] = model_pred.idxmax(axis=1)\n",
    "\n",
    "from sklearn.metrics import classification_report\n",
    "print(classification_report(y_train_df['intent'], model_pred['intent']))"
   ]
  },
  {
   "cell_type": "code",
   "execution_count": 212,
   "metadata": {},
   "outputs": [],
   "source": [
    "def bot_response(text):\n",
    "    \"\"\"Take text as function input then predict using model. Return response based on highest probability using numpy argmax    \n",
    "    \"\"\"\n",
    "    text = clean_text(text)\n",
    "    pred = model.predict([text])\n",
    "    res = le.classes_[pred.argmax()]\n",
    "    try:\n",
    "        if textvect(text).numpy().max() > 1:\n",
    "            for label_pred in intent_json['intents']:\n",
    "                if label_pred['intent'] == res:\n",
    "                    response = label_pred['response']\n",
    "        else:\n",
    "            response = ['Maaf, saya tidak mengerti']\n",
    "    except:\n",
    "        response = ['Maaf, saya tidak mengerti']\n",
    "\n",
    "    dict_temp = []\n",
    "    for i in range(len(pred[0])):\n",
    "        temp = {le.classes_[i]: pred[0][i]}\n",
    "        dict_temp.append(temp)\n",
    "    print(dict_temp)\n",
    "    print(le.classes_[pred.argmax()])\n",
    "    return print(np.random.choice(response))"
   ]
  },
  {
   "cell_type": "code",
   "execution_count": 213,
   "metadata": {},
   "outputs": [],
   "source": [
    "import pickle\n",
    "pickle.dump(le, open('saved_model/encoder.pkl', 'wb'))"
   ]
  },
  {
   "cell_type": "code",
   "execution_count": 214,
   "metadata": {},
   "outputs": [],
   "source": [
    "pickle.dump({'config': textvect.get_config(),\n",
    "             'weights': textvect.get_weights()}\n",
    "            , open(\"saved_model/textvect.pkl\", \"wb\"))"
   ]
  },
  {
   "cell_type": "code",
   "execution_count": 215,
   "metadata": {},
   "outputs": [
    {
     "name": "stderr",
     "output_type": "stream",
     "text": [
      "WARNING:absl:Found untraced functions such as lstm_cell_13_layer_call_fn, lstm_cell_13_layer_call_and_return_conditional_losses, lstm_cell_14_layer_call_fn, lstm_cell_14_layer_call_and_return_conditional_losses while saving (showing 4 of 4). These functions will not be directly callable after loading.\n"
     ]
    },
    {
     "name": "stdout",
     "output_type": "stream",
     "text": [
      "INFO:tensorflow:Assets written to: saved_model/model\\assets\n"
     ]
    },
    {
     "name": "stderr",
     "output_type": "stream",
     "text": [
      "INFO:tensorflow:Assets written to: saved_model/model\\assets\n",
      "WARNING:absl:<keras.layers.recurrent.LSTMCell object at 0x000002C8FA8FF280> has the same name 'LSTMCell' as a built-in Keras object. Consider renaming <class 'keras.layers.recurrent.LSTMCell'> to avoid naming conflicts when loading with `tf.keras.models.load_model`. If renaming is not possible, pass the object in the `custom_objects` parameter of the load function.\n",
      "WARNING:absl:<keras.layers.recurrent.LSTMCell object at 0x000002C8FA8FFB20> has the same name 'LSTMCell' as a built-in Keras object. Consider renaming <class 'keras.layers.recurrent.LSTMCell'> to avoid naming conflicts when loading with `tf.keras.models.load_model`. If renaming is not possible, pass the object in the `custom_objects` parameter of the load function.\n"
     ]
    }
   ],
   "source": [
    "model.save('saved_model/model', save_traces=True)"
   ]
  },
  {
   "cell_type": "code",
   "execution_count": 216,
   "metadata": {},
   "outputs": [
    {
     "data": {
      "text/plain": [
       "<tf.Tensor: shape=(8,), dtype=int64, numpy=array([225,   0,   0,   0,   0,   0,   0,   0], dtype=int64)>"
      ]
     },
     "execution_count": 216,
     "metadata": {},
     "output_type": "execute_result"
    }
   ],
   "source": [
    "textvect('ok')"
   ]
  },
  {
   "cell_type": "code",
   "execution_count": 217,
   "metadata": {},
   "outputs": [
    {
     "data": {
      "text/plain": [
       "'ok'"
      ]
     },
     "execution_count": 217,
     "metadata": {},
     "output_type": "execute_result"
    }
   ],
   "source": [
    "clean_text('ok')"
   ]
  },
  {
   "cell_type": "code",
   "execution_count": 218,
   "metadata": {},
   "outputs": [
    {
     "data": {
      "text/plain": [
       "True"
      ]
     },
     "execution_count": 218,
     "metadata": {},
     "output_type": "execute_result"
    }
   ],
   "source": [
    "textvect('ok').numpy().max() > 1"
   ]
  },
  {
   "cell_type": "code",
   "execution_count": 219,
   "metadata": {},
   "outputs": [
    {
     "name": "stdout",
     "output_type": "stream",
     "text": [
      "[{'CV': 6.064847e-05}, {'biaya': 0.0025005913}, {'daftar': 1.6737331e-05}, {'dokumen': 0.007230959}, {'error upload': 9.070777e-07}, {'ktp': 1.0782406e-05}, {'link sosmed': 0.0007616811}, {'lowongan': 0.0020088304}, {'lupa password': 0.0001566622}, {'nama': 3.1499226e-07}, {'pas foto': 1.6106223e-05}, {'pengantar': 6.570527e-07}, {'penutup': 0.98323405}, {'qualification': 0.0006069163}, {'responsibilities': 0.00021616495}, {'salary': 0.0004097949}, {'sapa': 0.0012286727}, {'sertifikat': 2.2347885e-07}, {'skck': 1.5869287e-05}, {'timeline': 0.0005565079}, {'training': 0.0001900422}, {'transkrip-ijazah': 0.0007768776}]\n",
      "penutup\n",
      "Terima kasih telah bertanya. Senang bisa membantumu :D\n"
     ]
    }
   ],
   "source": [
    "bot_response('ok')"
   ]
  },
  {
   "cell_type": "code",
   "execution_count": 220,
   "metadata": {},
   "outputs": [
    {
     "data": {
      "text/plain": [
       "('jeruk',\n",
       " <tf.Tensor: shape=(8,), dtype=int64, numpy=array([1, 0, 0, 0, 0, 0, 0, 0], dtype=int64)>)"
      ]
     },
     "execution_count": 220,
     "metadata": {},
     "output_type": "execute_result"
    }
   ],
   "source": [
    "testext = 'jeruk'\n",
    "clean_text(testext), textvect(clean_text(testext))"
   ]
  },
  {
   "cell_type": "code",
   "execution_count": 221,
   "metadata": {},
   "outputs": [
    {
     "data": {
      "text/plain": [
       "False"
      ]
     },
     "execution_count": 221,
     "metadata": {},
     "output_type": "execute_result"
    }
   ],
   "source": [
    "textvect(clean_text('laper pengen makan jeruk')).numpy().max() > 1"
   ]
  },
  {
   "cell_type": "code",
   "execution_count": 227,
   "metadata": {},
   "outputs": [
    {
     "name": "stdout",
     "output_type": "stream",
     "text": [
      "[{'CV': 0.0001481711}, {'biaya': 0.0018818047}, {'daftar': 1.3752714e-05}, {'dokumen': 0.026572369}, {'error upload': 1.6646602e-06}, {'ktp': 2.6151522e-06}, {'link sosmed': 0.0020583728}, {'lowongan': 0.90186024}, {'lupa password': 2.6220496e-06}, {'nama': 0.00031909734}, {'pas foto': 1.2690709e-05}, {'pengantar': 0.0017332683}, {'penutup': 0.012268006}, {'qualification': 0.0078046443}, {'responsibilities': 0.0029560975}, {'salary': 2.1275082e-05}, {'sapa': 0.0019646776}, {'sertifikat': 1.321577e-05}, {'skck': 0.00013408503}, {'timeline': 0.029027779}, {'training': 0.004458515}, {'transkrip-ijazah': 0.006744997}]\n",
      "lowongan\n",
      "Saat ini PT Fiktif sedang membuka lowongan untuk posisi Data Analyst, Data Scientist, dan Data Engineer. Yuk daftar lewat https://rekrutmen.fiktif.id/\n"
     ]
    }
   ],
   "source": [
    "bot_response('ada lowongan apa nih di pt fiktif')"
   ]
  },
  {
   "cell_type": "code",
   "execution_count": 223,
   "metadata": {},
   "outputs": [
    {
     "name": "stdout",
     "output_type": "stream",
     "text": [
      "[{'CV': 4.835308e-05}, {'biaya': 0.011099085}, {'daftar': 0.011152483}, {'dokumen': 0.0008918493}, {'error upload': 0.0016470931}, {'ktp': 3.9018214e-05}, {'link sosmed': 0.00041335748}, {'lowongan': 3.9918676e-05}, {'lupa password': 0.00094954704}, {'nama': 2.114538e-05}, {'pas foto': 9.8727425e-05}, {'pengantar': 2.1157604e-07}, {'penutup': 0.013870695}, {'qualification': 3.009443e-05}, {'responsibilities': 0.00048135803}, {'salary': 0.03283696}, {'sapa': 0.91152996}, {'sertifikat': 1.3491325e-06}, {'skck': 0.0009422245}, {'timeline': 0.0006764822}, {'training': 0.013119047}, {'transkrip-ijazah': 0.000111060355}]\n",
      "sapa\n",
      "Maaf, saya tidak mengerti\n"
     ]
    }
   ],
   "source": [
    "bot_response('ingin')"
   ]
  },
  {
   "cell_type": "code",
   "execution_count": 224,
   "metadata": {},
   "outputs": [
    {
     "name": "stdout",
     "output_type": "stream",
     "text": [
      "[{'CV': 0.0007665959}, {'biaya': 0.0010134465}, {'daftar': 0.0075141564}, {'dokumen': 0.000111901616}, {'error upload': 0.00036802498}, {'ktp': 0.064586945}, {'link sosmed': 0.00013491992}, {'lowongan': 2.5624186e-06}, {'lupa password': 0.054476768}, {'nama': 0.00032472145}, {'pas foto': 0.8657897}, {'pengantar': 1.4026862e-05}, {'penutup': 0.0001404407}, {'qualification': 1.8882174e-05}, {'responsibilities': 4.4168744e-05}, {'salary': 0.0004737596}, {'sapa': 5.1739054e-05}, {'sertifikat': 0.0041019386}, {'skck': 6.151869e-05}, {'timeline': 9.2006064e-07}, {'training': 1.6406437e-06}, {'transkrip-ijazah': 1.1907014e-06}]\n",
      "pas foto\n",
      "Pas foto merupakan dokumen wajib pendaftaran ya, Kak.\n",
      "\n",
      "Berikut ketentuan pas foto yang harus dipenuhi:\n",
      "- Background berwarna biru dengan pakaian formal (kemeja dan/atau jas)\n",
      "- Foto berukuran 3x4 dan berwarna\n",
      "- Disarankan untuk menggunakan foto terbaru\n",
      "- Upload foto di https://rekrutmen.fiktif.id/dokumen dengan ukuran file tidak lebih dari 1 MB dengan format file jpg/png/jpeg\n",
      "\n",
      "Kalau ukuran file melebihi, silahkan diperkecil dulu dengan aplikasi edit foto.\n"
     ]
    }
   ],
   "source": [
    "bot_response('pas foto hilang gimana ya')"
   ]
  },
  {
   "cell_type": "markdown",
   "metadata": {},
   "source": [
    "ktp, pas foto, password masih ketuker2"
   ]
  },
  {
   "cell_type": "code",
   "execution_count": 225,
   "metadata": {},
   "outputs": [
    {
     "data": {
      "text/plain": [
       "array(['CV', 'biaya', 'daftar', 'dokumen', 'error upload', 'ktp',\n",
       "       'link sosmed', 'lowongan', 'lupa password', 'nama', 'pas foto',\n",
       "       'pengantar', 'penutup', 'qualification', 'responsibilities',\n",
       "       'salary', 'sapa', 'sertifikat', 'skck', 'timeline', 'training',\n",
       "       'transkrip-ijazah'], dtype=object)"
      ]
     },
     "execution_count": 225,
     "metadata": {},
     "output_type": "execute_result"
    }
   ],
   "source": [
    "le.classes_"
   ]
  },
  {
   "cell_type": "code",
   "execution_count": 228,
   "metadata": {},
   "outputs": [
    {
     "data": {
      "text/plain": [
       "<tf.Tensor: shape=(8,), dtype=int64, numpy=array([151,   0,   0,   0,   0,   0,   0,   0], dtype=int64)>"
      ]
     },
     "execution_count": 228,
     "metadata": {},
     "output_type": "execute_result"
    }
   ],
   "source": [
    "textvect('loker')"
   ]
  },
  {
   "cell_type": "code",
   "execution_count": 230,
   "metadata": {},
   "outputs": [
    {
     "data": {
      "text/plain": [
       "<tf.Tensor: shape=(8,), dtype=int64, numpy=array([1, 0, 0, 0, 0, 0, 0, 0], dtype=int64)>"
      ]
     },
     "execution_count": 230,
     "metadata": {},
     "output_type": "execute_result"
    }
   ],
   "source": [
    "textvect('wis')"
   ]
  }
 ],
 "metadata": {
  "interpreter": {
   "hash": "87147628ceb55968efe4bb59da7a0e7c4394b9758046b539c4601b1e67cb397e"
  },
  "kernelspec": {
   "display_name": "Python 3.9.12 64-bit",
   "language": "python",
   "name": "python3"
  },
  "language_info": {
   "codemirror_mode": {
    "name": "ipython",
    "version": 3
   },
   "file_extension": ".py",
   "mimetype": "text/x-python",
   "name": "python",
   "nbconvert_exporter": "python",
   "pygments_lexer": "ipython3",
   "version": "3.9.12"
  },
  "orig_nbformat": 4
 },
 "nbformat": 4,
 "nbformat_minor": 2
}
