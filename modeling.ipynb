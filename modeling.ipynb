{
 "cells": [
  {
   "cell_type": "code",
   "execution_count": 47,
   "metadata": {},
   "outputs": [
    {
     "name": "stderr",
     "output_type": "stream",
     "text": [
      "[nltk_data] Downloading package punkt to C:\\Users\\Judan Syamsul\n",
      "[nltk_data]     Hadad\\AppData\\Roaming\\nltk_data...\n",
      "[nltk_data]   Package punkt is already up-to-date!\n"
     ]
    }
   ],
   "source": [
    "import json\n",
    "import string\n",
    "import pickle\n",
    "import numpy as np\n",
    "import pandas as pd\n",
    "import tensorflow as tf\n",
    "\n",
    "from Sastrawi.Stemmer.StemmerFactory import StemmerFactory\n",
    "from Sastrawi.StopWordRemover.StopWordRemoverFactory import StopWordRemoverFactory\n",
    "\n",
    "\n",
    "import nltk\n",
    "nltk.download('punkt')\n",
    "from nltk.tokenize import word_tokenize"
   ]
  },
  {
   "cell_type": "code",
   "execution_count": 5,
   "metadata": {},
   "outputs": [],
   "source": [
    "# Load json file\n",
    "f = open('intent/intent.json', 'r')\n",
    "intent_json = json.load(f)"
   ]
  },
  {
   "cell_type": "code",
   "execution_count": 6,
   "metadata": {},
   "outputs": [],
   "source": [
    "# Create list from json\n",
    "input = []\n",
    "intent = []\n",
    "\n",
    "for i in range(len(intent_json['intents'])):\n",
    "    for user_input in intent_json['intents'][i]['input']:\n",
    "        input.append(user_input)\n",
    "        intent.append(intent_json['intents'][i]['intent'])"
   ]
  },
  {
   "cell_type": "code",
   "execution_count": 7,
   "metadata": {},
   "outputs": [
    {
     "data": {
      "text/html": [
       "<div>\n",
       "<style scoped>\n",
       "    .dataframe tbody tr th:only-of-type {\n",
       "        vertical-align: middle;\n",
       "    }\n",
       "\n",
       "    .dataframe tbody tr th {\n",
       "        vertical-align: top;\n",
       "    }\n",
       "\n",
       "    .dataframe thead th {\n",
       "        text-align: right;\n",
       "    }\n",
       "</style>\n",
       "<table border=\"1\" class=\"dataframe\">\n",
       "  <thead>\n",
       "    <tr style=\"text-align: right;\">\n",
       "      <th></th>\n",
       "      <th>input</th>\n",
       "      <th>intent</th>\n",
       "    </tr>\n",
       "  </thead>\n",
       "  <tbody>\n",
       "    <tr>\n",
       "      <th>0</th>\n",
       "      <td>dimana cari skck?</td>\n",
       "      <td>skck</td>\n",
       "    </tr>\n",
       "    <tr>\n",
       "      <th>1</th>\n",
       "      <td>bagaimana cara buat skck?</td>\n",
       "      <td>skck</td>\n",
       "    </tr>\n",
       "    <tr>\n",
       "      <th>2</th>\n",
       "      <td>apa itu skck?</td>\n",
       "      <td>skck</td>\n",
       "    </tr>\n",
       "    <tr>\n",
       "      <th>3</th>\n",
       "      <td>apakah skck saya masih berlaku?</td>\n",
       "      <td>skck</td>\n",
       "    </tr>\n",
       "    <tr>\n",
       "      <th>4</th>\n",
       "      <td>berapa lama skck saya bisa digunakan?</td>\n",
       "      <td>skck</td>\n",
       "    </tr>\n",
       "  </tbody>\n",
       "</table>\n",
       "</div>"
      ],
      "text/plain": [
       "                                   input intent\n",
       "0                      dimana cari skck?   skck\n",
       "1              bagaimana cara buat skck?   skck\n",
       "2                          apa itu skck?   skck\n",
       "3        apakah skck saya masih berlaku?   skck\n",
       "4  berapa lama skck saya bisa digunakan?   skck"
      ]
     },
     "execution_count": 7,
     "metadata": {},
     "output_type": "execute_result"
    }
   ],
   "source": [
    "# Create dataframe from json\n",
    "df = pd.DataFrame({\n",
    "    'input': input,\n",
    "    'intent' : intent\n",
    "    # 'response' : response\n",
    "})\n",
    "df.head()"
   ]
  },
  {
   "cell_type": "code",
   "execution_count": 8,
   "metadata": {},
   "outputs": [],
   "source": [
    "# Define stemmer and stopword remover\n",
    "factory = StemmerFactory()\n",
    "stemmer = factory.create_stemmer()\n",
    "\n",
    "factory = StopWordRemoverFactory()\n",
    "stopwords = factory.get_stop_words()"
   ]
  },
  {
   "cell_type": "code",
   "execution_count": 9,
   "metadata": {},
   "outputs": [],
   "source": [
    "slang = pd.read_csv('lexicon/slang ke semi baku.csv')\n",
    "\n",
    "slang_replace = {}\n",
    "for i, row in enumerate(slang['slang']):\n",
    "    slang_replace[row] = slang['formal'].iloc[i]"
   ]
  },
  {
   "cell_type": "code",
   "execution_count": 10,
   "metadata": {},
   "outputs": [],
   "source": [
    "baku = pd.read_csv('lexicon/slang ke baku.csv')\n",
    "\n",
    "baku_replace = {}\n",
    "for i, row in enumerate(baku['slang']):\n",
    "    baku_replace[row] = baku['baku'].iloc[i]"
   ]
  },
  {
   "cell_type": "code",
   "execution_count": 11,
   "metadata": {},
   "outputs": [],
   "source": [
    "# Create text cleaning function\n",
    "def clean_text(text):\n",
    "    new_text = []\n",
    "\n",
    "    text = text.lower()\n",
    "\n",
    "    for kata in text.split():\n",
    "        if kata not in (slang_replace|baku_replace):\n",
    "            new_text.append(kata)\n",
    "        elif kata in baku_replace:\n",
    "            new_text+=baku_replace[kata].split()\n",
    "        elif kata in slang_replace:\n",
    "            new_text+=slang_replace[kata].split()\n",
    "    new_text = ' '.join(\n",
    "        stemmer.stem(\n",
    "            baku_replace.get(\n",
    "                word,\n",
    "                word\n",
    "            )\n",
    "        ) for word in new_text if word not in stopwords\n",
    "    )\n",
    "\n",
    "    new_text = new_text.translate(\n",
    "        str.maketrans(\n",
    "            '',\n",
    "            '',\n",
    "            string.punctuation\n",
    "        )\n",
    "    )\n",
    "    \n",
    "    return new_text"
   ]
  },
  {
   "cell_type": "code",
   "execution_count": 12,
   "metadata": {},
   "outputs": [
    {
     "data": {
      "text/plain": [
       "'aku lapar banget tahu mau makan jeruk apa tiru deh lamar'"
      ]
     },
     "execution_count": 12,
     "metadata": {},
     "output_type": "execute_result"
    }
   ],
   "source": [
    "kalimat = 'Aku laper banget gatau maunya makan jeruk apa lagi meniru-niru... daah ngelamar'\n",
    "clean_text(kalimat)"
   ]
  },
  {
   "cell_type": "code",
   "execution_count": 13,
   "metadata": {},
   "outputs": [
    {
     "data": {
      "text/plain": [
       "0                   cari skck\n",
       "1    bagaimana cara buat skck\n",
       "2                    apa skck\n",
       "3                   skck laku\n",
       "4       berapa lama skck guna\n",
       "Name: clean_input, dtype: object"
      ]
     },
     "execution_count": 13,
     "metadata": {},
     "output_type": "execute_result"
    }
   ],
   "source": [
    "df['clean_input'] = df['input'].apply(clean_text)\n",
    "df['clean_input'].head()"
   ]
  },
  {
   "cell_type": "code",
   "execution_count": 18,
   "metadata": {},
   "outputs": [],
   "source": [
    "# Create corpus\n",
    "words = set([\n",
    "    word for word in df['clean_input'] for word in word_tokenize(word)\n",
    "    ]\n",
    ")"
   ]
  },
  {
   "cell_type": "code",
   "execution_count": 19,
   "metadata": {},
   "outputs": [],
   "source": [
    "corpus_size = len(words)"
   ]
  },
  {
   "cell_type": "code",
   "execution_count": 20,
   "metadata": {},
   "outputs": [],
   "source": [
    "# Calculate word length of each row\n",
    "df['length'] = df['clean_input'].apply(word_tokenize).apply(len)"
   ]
  },
  {
   "cell_type": "code",
   "execution_count": 21,
   "metadata": {},
   "outputs": [],
   "source": [
    "sequence_length = int(round(df['length'].max(),0))"
   ]
  },
  {
   "cell_type": "code",
   "execution_count": 22,
   "metadata": {},
   "outputs": [
    {
     "data": {
      "text/plain": [
       "(248, 8)"
      ]
     },
     "execution_count": 22,
     "metadata": {},
     "output_type": "execute_result"
    }
   ],
   "source": [
    "corpus_size, sequence_length"
   ]
  },
  {
   "cell_type": "code",
   "execution_count": 23,
   "metadata": {},
   "outputs": [],
   "source": [
    "# Label encoding\n",
    "from sklearn.preprocessing import LabelEncoder\n",
    "from tensorflow.keras.utils import to_categorical\n",
    "\n",
    "le = LabelEncoder()\n",
    "y_train = le.fit_transform(df['intent'])\n",
    "y_train = to_categorical(y_train)"
   ]
  },
  {
   "cell_type": "code",
   "execution_count": 24,
   "metadata": {},
   "outputs": [
    {
     "data": {
      "text/plain": [
       "array(['biaya', 'daftar', 'dokumen', 'error upload', 'ktp', 'link sosmed',\n",
       "       'lowongan', 'lupa password', 'nama_bot', 'pas foto', 'pengantar',\n",
       "       'penutup', 'qualification', 'responsibilities-DS', 'salary',\n",
       "       'sertifikat', 'skck', 'timeline', 'training', 'transkrip-ijazah'],\n",
       "      dtype=object)"
      ]
     },
     "execution_count": 24,
     "metadata": {},
     "output_type": "execute_result"
    }
   ],
   "source": [
    "le.classes_"
   ]
  },
  {
   "cell_type": "code",
   "execution_count": 25,
   "metadata": {},
   "outputs": [
    {
     "data": {
      "text/plain": [
       "20"
      ]
     },
     "execution_count": 25,
     "metadata": {},
     "output_type": "execute_result"
    }
   ],
   "source": [
    "len(le.classes_)"
   ]
  },
  {
   "cell_type": "code",
   "execution_count": 31,
   "metadata": {},
   "outputs": [],
   "source": [
    "textvect = tf.keras.layers.TextVectorization(\n",
    "    max_tokens=corpus_size,\n",
    "    standardize='lower_and_strip_punctuation',\n",
    "    split='whitespace',\n",
    "    ngrams=None,\n",
    "    output_mode='int',\n",
    "    output_sequence_length=sequence_length\n",
    ")\n",
    "textvect.adapt(df['clean_input'])"
   ]
  },
  {
   "cell_type": "code",
   "execution_count": 32,
   "metadata": {},
   "outputs": [],
   "source": [
    "embedding = tf.keras.layers.Embedding(\n",
    "    input_dim=corpus_size,\n",
    "    output_dim=16,\n",
    "    input_length=sequence_length,\n",
    "    embeddings_initializer='uniform'\n",
    ")"
   ]
  },
  {
   "cell_type": "code",
   "execution_count": 33,
   "metadata": {},
   "outputs": [
    {
     "data": {
      "text/plain": [
       "<tf.Tensor: shape=(8,), dtype=int64, numpy=array([23, 12,  9,  0,  0,  0,  0,  0], dtype=int64)>"
      ]
     },
     "execution_count": 33,
     "metadata": {},
     "output_type": "execute_result"
    }
   ],
   "source": [
    "tes = 'saya mau daftar rekrutmen'\n",
    "textvect(clean_text(tes))"
   ]
  },
  {
   "cell_type": "code",
   "execution_count": 34,
   "metadata": {},
   "outputs": [
    {
     "data": {
      "text/plain": [
       "<tf.Tensor: shape=(8, 16), dtype=float32, numpy=\n",
       "array([[-0.02542248,  0.00998279, -0.03977418,  0.0229227 ,  0.02499067,\n",
       "        -0.02349997,  0.02289952, -0.03516664,  0.0185622 ,  0.01135553,\n",
       "        -0.02150436, -0.02754229,  0.03413017, -0.03732336, -0.03473509,\n",
       "        -0.03962176],\n",
       "       [-0.03841554, -0.0339941 , -0.00592101, -0.00311812, -0.02383698,\n",
       "         0.02149773, -0.04878286,  0.02057935, -0.01832103, -0.04783771,\n",
       "        -0.0266579 ,  0.04651934, -0.0121294 ,  0.03836897, -0.00749832,\n",
       "        -0.02303582],\n",
       "       [ 0.02678985,  0.02948945, -0.01625627, -0.02809404, -0.01418747,\n",
       "        -0.02577124,  0.0125531 ,  0.04874678,  0.03672271,  0.03259566,\n",
       "        -0.04959005,  0.03108711, -0.01820128, -0.04516334,  0.02067326,\n",
       "         0.01959218],\n",
       "       [ 0.03421601, -0.0026141 , -0.00448287, -0.01709114, -0.0223838 ,\n",
       "         0.04017873,  0.00644184, -0.03445064, -0.0274464 ,  0.01546094,\n",
       "         0.02669176,  0.04261522, -0.02345103,  0.02969506,  0.00325789,\n",
       "         0.00491427],\n",
       "       [ 0.03421601, -0.0026141 , -0.00448287, -0.01709114, -0.0223838 ,\n",
       "         0.04017873,  0.00644184, -0.03445064, -0.0274464 ,  0.01546094,\n",
       "         0.02669176,  0.04261522, -0.02345103,  0.02969506,  0.00325789,\n",
       "         0.00491427],\n",
       "       [ 0.03421601, -0.0026141 , -0.00448287, -0.01709114, -0.0223838 ,\n",
       "         0.04017873,  0.00644184, -0.03445064, -0.0274464 ,  0.01546094,\n",
       "         0.02669176,  0.04261522, -0.02345103,  0.02969506,  0.00325789,\n",
       "         0.00491427],\n",
       "       [ 0.03421601, -0.0026141 , -0.00448287, -0.01709114, -0.0223838 ,\n",
       "         0.04017873,  0.00644184, -0.03445064, -0.0274464 ,  0.01546094,\n",
       "         0.02669176,  0.04261522, -0.02345103,  0.02969506,  0.00325789,\n",
       "         0.00491427],\n",
       "       [ 0.03421601, -0.0026141 , -0.00448287, -0.01709114, -0.0223838 ,\n",
       "         0.04017873,  0.00644184, -0.03445064, -0.0274464 ,  0.01546094,\n",
       "         0.02669176,  0.04261522, -0.02345103,  0.02969506,  0.00325789,\n",
       "         0.00491427]], dtype=float32)>"
      ]
     },
     "execution_count": 34,
     "metadata": {},
     "output_type": "execute_result"
    }
   ],
   "source": [
    "embedding(textvect(clean_text(tes)))"
   ]
  },
  {
   "cell_type": "code",
   "execution_count": 35,
   "metadata": {},
   "outputs": [],
   "source": [
    "# Create model\n",
    "input = tf.keras.layers.Input(shape=(1,), dtype='string')\n",
    "hidden_layer = textvect(input)\n",
    "hidden_layer = embedding(hidden_layer)\n",
    "hidden_layer = tf.keras.layers.Bidirectional(tf.keras.layers.LSTM(16))(hidden_layer)\n",
    "output = tf.keras.layers.Dense(len(le.classes_), activation='softmax')(hidden_layer)\n",
    "model = tf.keras.Model(inputs=input, outputs=output)\n",
    "\n",
    "# Compile model\n",
    "model.compile(\n",
    "    optimizer='adam',\n",
    "    loss='categorical_crossentropy',\n",
    "    metrics=['categorical_accuracy']\n",
    ")"
   ]
  },
  {
   "cell_type": "code",
   "execution_count": 36,
   "metadata": {},
   "outputs": [
    {
     "data": {
      "text/html": [
       "<div>\n",
       "<style scoped>\n",
       "    .dataframe tbody tr th:only-of-type {\n",
       "        vertical-align: middle;\n",
       "    }\n",
       "\n",
       "    .dataframe tbody tr th {\n",
       "        vertical-align: top;\n",
       "    }\n",
       "\n",
       "    .dataframe thead th {\n",
       "        text-align: right;\n",
       "    }\n",
       "</style>\n",
       "<table border=\"1\" class=\"dataframe\">\n",
       "  <thead>\n",
       "    <tr style=\"text-align: right;\">\n",
       "      <th></th>\n",
       "      <th>loss</th>\n",
       "      <th>categorical_accuracy</th>\n",
       "    </tr>\n",
       "  </thead>\n",
       "  <tbody>\n",
       "    <tr>\n",
       "      <th>95</th>\n",
       "      <td>0.026891</td>\n",
       "      <td>1.0</td>\n",
       "    </tr>\n",
       "    <tr>\n",
       "      <th>96</th>\n",
       "      <td>0.026414</td>\n",
       "      <td>1.0</td>\n",
       "    </tr>\n",
       "    <tr>\n",
       "      <th>97</th>\n",
       "      <td>0.025692</td>\n",
       "      <td>1.0</td>\n",
       "    </tr>\n",
       "    <tr>\n",
       "      <th>98</th>\n",
       "      <td>0.025105</td>\n",
       "      <td>1.0</td>\n",
       "    </tr>\n",
       "    <tr>\n",
       "      <th>99</th>\n",
       "      <td>0.024784</td>\n",
       "      <td>1.0</td>\n",
       "    </tr>\n",
       "  </tbody>\n",
       "</table>\n",
       "</div>"
      ],
      "text/plain": [
       "        loss  categorical_accuracy\n",
       "95  0.026891                   1.0\n",
       "96  0.026414                   1.0\n",
       "97  0.025692                   1.0\n",
       "98  0.025105                   1.0\n",
       "99  0.024784                   1.0"
      ]
     },
     "execution_count": 36,
     "metadata": {},
     "output_type": "execute_result"
    }
   ],
   "source": [
    "hist = model.fit(df['clean_input'], y_train, epochs=100, verbose=0)\n",
    "pd.DataFrame(hist.history).tail()"
   ]
  },
  {
   "cell_type": "code",
   "execution_count": 37,
   "metadata": {},
   "outputs": [
    {
     "name": "stdout",
     "output_type": "stream",
     "text": [
      "12/12 [==============================] - 1s 3ms/step - loss: 0.0240 - categorical_accuracy: 1.0000\n"
     ]
    },
    {
     "data": {
      "text/plain": [
       "[0.023990172892808914, 1.0]"
      ]
     },
     "execution_count": 37,
     "metadata": {},
     "output_type": "execute_result"
    }
   ],
   "source": [
    "model.evaluate(df['clean_input'], y_train)"
   ]
  },
  {
   "cell_type": "code",
   "execution_count": 38,
   "metadata": {},
   "outputs": [
    {
     "name": "stdout",
     "output_type": "stream",
     "text": [
      "                     precision    recall  f1-score   support\n",
      "\n",
      "              biaya       1.00      1.00      1.00        27\n",
      "             daftar       1.00      1.00      1.00        22\n",
      "            dokumen       1.00      1.00      1.00        22\n",
      "       error upload       1.00      1.00      1.00         9\n",
      "                ktp       1.00      1.00      1.00        15\n",
      "        link sosmed       1.00      1.00      1.00        10\n",
      "           lowongan       1.00      1.00      1.00        12\n",
      "      lupa password       1.00      1.00      1.00        21\n",
      "           nama_bot       1.00      1.00      1.00         8\n",
      "           pas foto       1.00      1.00      1.00        15\n",
      "          pengantar       1.00      1.00      1.00        10\n",
      "            penutup       1.00      1.00      1.00        21\n",
      "      qualification       1.00      1.00      1.00        17\n",
      "responsibilities-DS       1.00      1.00      1.00        24\n",
      "             salary       1.00      1.00      1.00        35\n",
      "         sertifikat       1.00      1.00      1.00        14\n",
      "               skck       1.00      1.00      1.00        16\n",
      "           timeline       1.00      1.00      1.00        33\n",
      "           training       1.00      1.00      1.00        22\n",
      "   transkrip-ijazah       1.00      1.00      1.00        15\n",
      "\n",
      "           accuracy                           1.00       368\n",
      "          macro avg       1.00      1.00      1.00       368\n",
      "       weighted avg       1.00      1.00      1.00       368\n",
      "\n"
     ]
    }
   ],
   "source": [
    "y_train_df = pd.DataFrame(y_train, columns=le.classes_)\n",
    "y_train_df['intent'] = y_train_df.idxmax(axis=1)\n",
    "\n",
    "model_pred = model.predict(df['clean_input'])\n",
    "model_pred = pd.DataFrame(model_pred, columns=le.classes_)\n",
    "model_pred['intent'] = model_pred.idxmax(axis=1)\n",
    "\n",
    "from sklearn.metrics import classification_report\n",
    "print(classification_report(y_train_df['intent'], model_pred['intent']))"
   ]
  },
  {
   "cell_type": "code",
   "execution_count": 39,
   "metadata": {},
   "outputs": [],
   "source": [
    "def bot_response(text):\n",
    "    \"\"\"Take text as function input then predict using model. Return response based on highest probability using numpy argmax    \n",
    "    \"\"\"\n",
    "    text = clean_text(text)\n",
    "    pred = model.predict([text])\n",
    "    res = le.classes_[pred.argmax()]\n",
    "    if textvect(text).numpy().max() > 1:\n",
    "        for label_pred in intent_json['intents']:\n",
    "            if label_pred['intent'] == res:\n",
    "                response = label_pred['response']\n",
    "    else:\n",
    "        response = ['Maaf, saya tidak mengerti']\n",
    "    \n",
    "    dict_temp = []\n",
    "    for i in range(len(pred[0])):\n",
    "        temp = {le.classes_[i]: pred[0][i]}\n",
    "        dict_temp.append(temp)\n",
    "    print(dict_temp)\n",
    "    print(le.classes_[pred.argmax()])\n",
    "    return print(np.random.choice(response))"
   ]
  },
  {
   "cell_type": "code",
   "execution_count": 46,
   "metadata": {},
   "outputs": [],
   "source": [
    "# import pickle\n",
    "# pickle.dump(le, open('encoder.pkl', 'wb'))"
   ]
  },
  {
   "cell_type": "code",
   "execution_count": 48,
   "metadata": {},
   "outputs": [],
   "source": [
    "# pickle.dump({'config': textvect.get_config(),\n",
    "#              'weights': textvect.get_weights()}\n",
    "#             , open(\"textvect.pkl\", \"wb\"))"
   ]
  },
  {
   "cell_type": "code",
   "execution_count": 45,
   "metadata": {},
   "outputs": [
    {
     "name": "stderr",
     "output_type": "stream",
     "text": [
      "WARNING:absl:Found untraced functions such as lstm_cell_2_layer_call_fn, lstm_cell_2_layer_call_and_return_conditional_losses, lstm_cell_3_layer_call_fn, lstm_cell_3_layer_call_and_return_conditional_losses while saving (showing 4 of 4). These functions will not be directly callable after loading.\n"
     ]
    },
    {
     "name": "stdout",
     "output_type": "stream",
     "text": [
      "INFO:tensorflow:Assets written to: model\\assets\n"
     ]
    },
    {
     "name": "stderr",
     "output_type": "stream",
     "text": [
      "INFO:tensorflow:Assets written to: model\\assets\n",
      "WARNING:absl:<keras.layers.recurrent.LSTMCell object at 0x000001BBA579FD00> has the same name 'LSTMCell' as a built-in Keras object. Consider renaming <class 'keras.layers.recurrent.LSTMCell'> to avoid naming conflicts when loading with `tf.keras.models.load_model`. If renaming is not possible, pass the object in the `custom_objects` parameter of the load function.\n",
      "WARNING:absl:<keras.layers.recurrent.LSTMCell object at 0x000001BBA56FD150> has the same name 'LSTMCell' as a built-in Keras object. Consider renaming <class 'keras.layers.recurrent.LSTMCell'> to avoid naming conflicts when loading with `tf.keras.models.load_model`. If renaming is not possible, pass the object in the `custom_objects` parameter of the load function.\n"
     ]
    }
   ],
   "source": [
    "# tf.keras.models.save_model(model, 'model')"
   ]
  },
  {
   "cell_type": "code",
   "execution_count": 42,
   "metadata": {},
   "outputs": [
    {
     "name": "stdout",
     "output_type": "stream",
     "text": [
      "[{'biaya': 0.00032070838}, {'daftar': 0.0040558334}, {'dokumen': 8.260318e-06}, {'error upload': 0.0024041194}, {'ktp': 1.0298207e-05}, {'link sosmed': 0.00079323153}, {'lowongan': 0.0026841625}, {'lupa password': 0.00012575349}, {'nama_bot': 0.007540458}, {'pas foto': 0.010254186}, {'pengantar': 0.00026598954}, {'penutup': 6.285351e-05}, {'qualification': 0.0005937552}, {'responsibilities-DS': 0.0008006493}, {'salary': 0.17728098}, {'sertifikat': 0.2075185}, {'skck': 0.5413596}, {'timeline': 1.2068264e-05}, {'training': 0.0015309599}, {'transkrip-ijazah': 0.042377617}]\n",
      "skck\n",
      "Maaf, saya tidak mengerti\n"
     ]
    }
   ],
   "source": [
    "bot_response('laper pengen makan jeruk')"
   ]
  },
  {
   "cell_type": "code",
   "execution_count": 43,
   "metadata": {},
   "outputs": [
    {
     "name": "stdout",
     "output_type": "stream",
     "text": [
      "[{'biaya': 6.7926056e-05}, {'daftar': 0.0011429955}, {'dokumen': 6.343329e-07}, {'error upload': 0.025918745}, {'ktp': 0.00012222306}, {'link sosmed': 3.411949e-05}, {'lowongan': 0.00016333196}, {'lupa password': 3.379874e-05}, {'nama_bot': 0.0014009523}, {'pas foto': 0.9626557}, {'pengantar': 0.0002479675}, {'penutup': 4.560631e-05}, {'qualification': 8.377216e-06}, {'responsibilities-DS': 0.00023101586}, {'salary': 0.002820793}, {'sertifikat': 0.0003212315}, {'skck': 0.0043877778}, {'timeline': 0.0001165808}, {'training': 0.00025660978}, {'transkrip-ijazah': 2.3711224e-05}]\n",
      "pas foto\n",
      "Pas foto merupakan dokumen wajib pendaftaran ya, Kak. Berikut ketentuan pas foto yang harus dipenuhi:\n",
      "- Background berwarna biru dengan pakaian formal (kemeja dan/atau jas)\n",
      "- Foto berukuran 3x4 dan berwarna\n",
      "- Disarankan untuk menggunakan foto terbaru\n",
      "- Upload foto di https://rekrutmen.fiktif.id/dokumen dengan ukuran file tidak lebih dari 1 MB dengan format file jpg/png/jpeg\n"
     ]
    }
   ],
   "source": [
    "bot_response('pas foto hilang gimana ya')"
   ]
  },
  {
   "cell_type": "markdown",
   "metadata": {},
   "source": [
    "ktp, pas foto, password masih ketuker2"
   ]
  },
  {
   "cell_type": "code",
   "execution_count": 44,
   "metadata": {},
   "outputs": [
    {
     "data": {
      "text/plain": [
       "array(['biaya', 'daftar', 'dokumen', 'error upload', 'ktp', 'link sosmed',\n",
       "       'lowongan', 'lupa password', 'nama_bot', 'pas foto', 'pengantar',\n",
       "       'penutup', 'qualification', 'responsibilities-DS', 'salary',\n",
       "       'sertifikat', 'skck', 'timeline', 'training', 'transkrip-ijazah'],\n",
       "      dtype=object)"
      ]
     },
     "execution_count": 44,
     "metadata": {},
     "output_type": "execute_result"
    }
   ],
   "source": [
    "le.classes_"
   ]
  }
 ],
 "metadata": {
  "interpreter": {
   "hash": "c524142758e41ff8da72ba142ad7f8c770fa04ceb078ed7556ced5f6ce4ae027"
  },
  "kernelspec": {
   "display_name": "Python 3.9.12 64-bit",
   "language": "python",
   "name": "python3"
  },
  "language_info": {
   "codemirror_mode": {
    "name": "ipython",
    "version": 3
   },
   "file_extension": ".py",
   "mimetype": "text/x-python",
   "name": "python",
   "nbconvert_exporter": "python",
   "pygments_lexer": "ipython3",
   "version": "3.10.4"
  },
  "orig_nbformat": 4
 },
 "nbformat": 4,
 "nbformat_minor": 2
}
