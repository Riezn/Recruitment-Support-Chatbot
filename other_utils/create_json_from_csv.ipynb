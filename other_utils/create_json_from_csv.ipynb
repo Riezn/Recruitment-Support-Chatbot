{
 "cells": [
  {
   "cell_type": "code",
   "execution_count": 51,
   "metadata": {},
   "outputs": [],
   "source": [
    "import pandas as pd\n",
    "import json"
   ]
  },
  {
   "cell_type": "code",
   "execution_count": 52,
   "metadata": {},
   "outputs": [],
   "source": [
    "df = pd.read_csv('intent.csv')"
   ]
  },
  {
   "cell_type": "code",
   "execution_count": 53,
   "metadata": {},
   "outputs": [],
   "source": [
    "intent_dict = {\n",
    "    'intent': df['intent'].unique().tolist()\n",
    "}"
   ]
  },
  {
   "cell_type": "code",
   "execution_count": 54,
   "metadata": {},
   "outputs": [
    {
     "data": {
      "text/plain": [
       "['dimana cari skck?',\n",
       " 'bagaimana cara buat skck?',\n",
       " 'apa itu skck?',\n",
       " 'apakah skck saya masih berlaku?',\n",
       " 'berapa lama skck saya bisa digunakan?',\n",
       " 'apakah boleh tidak mencantumkan skck?',\n",
       " 'bagaimana kalau saya tidak punya skck?',\n",
       " 'siapa yang membuat skck?',\n",
       " 'bagaimana kalau skck saya tidak lagi berlaku?',\n",
       " 'gimana kalau skckku sudah kadaluarsa?',\n",
       " 'skck punyaku sudah expire',\n",
       " 'aku ga punya skck',\n",
       " 'saya tidak punya skck',\n",
       " 'skck punyaku hilang',\n",
       " 'skck hilang',\n",
       " 'skck kadaluarsa']"
      ]
     },
     "execution_count": 54,
     "metadata": {},
     "output_type": "execute_result"
    }
   ],
   "source": [
    "df['input'][df['intent']=='skck'].tolist()"
   ]
  },
  {
   "cell_type": "code",
   "execution_count": 55,
   "metadata": {},
   "outputs": [
    {
     "data": {
      "text/plain": [
       "array(['skck', 'daftar', 'qualification', 'penutup'], dtype=object)"
      ]
     },
     "execution_count": 55,
     "metadata": {},
     "output_type": "execute_result"
    }
   ],
   "source": [
    "df['intent'].unique()"
   ]
  },
  {
   "cell_type": "code",
   "execution_count": 56,
   "metadata": {},
   "outputs": [
    {
     "data": {
      "text/plain": [
       "'Untuk role Data Scientist ada beberapa kualifikasi yang harus dipenuhi:\\n1. Memiliki gelar sarjana di bidang informatika, ilmu komputer, statistika, matematika, atau bidang lain yang berhubungan\\n2. Memiliki pemahaman mendasar tentang Statistika Analitik, Machine Learning, Deep Learning untuk menyelesaikan permasalahan bisnis\\n3. Memiliki pengalaman kerja di bidang Data Science selama 1-3 tahun\\n4. Memiliki pemahaman dan pengalaman tentang Big Data\\n5. Memiliki kemampuan bekerja sama, kepemimpinan, dan problem solving yang baik'"
      ]
     },
     "execution_count": 56,
     "metadata": {},
     "output_type": "execute_result"
    }
   ],
   "source": [
    "df[df['intent']=='qualification']['response'].iloc[0]"
   ]
  },
  {
   "cell_type": "code",
   "execution_count": 57,
   "metadata": {},
   "outputs": [],
   "source": [
    "intent_list = []\n",
    "\n",
    "for intention in df['intent'].unique():\n",
    "    intent = {\n",
    "        'intent': intention,\n",
    "        'input': df['input'][df['intent']==intention].tolist(),\n",
    "        'response': df['response'][df['intent']==intention].unique().tolist()\n",
    "    }\n",
    "    intent_list.append(intent)"
   ]
  },
  {
   "cell_type": "code",
   "execution_count": 58,
   "metadata": {},
   "outputs": [
    {
     "data": {
      "text/plain": [
       "\"['Surat Keterangan Catatan Kepolisian (SKCK) merupakan syarat wajib pendaftaran dan bisa dibuat secara online melalui https://ditintelkam.ntb.polri.go.id/skck/ atau dibuat langsung di Polda/Polres/Polsek terdekat dengan membawa dokumen persyaratan yang dibutuhkan. SKCK berlaku selama enam bulan setelah diterbitkan.']\""
      ]
     },
     "execution_count": 58,
     "metadata": {},
     "output_type": "execute_result"
    }
   ],
   "source": [
    "str(df['response'][df['intent']=='skck'].unique())"
   ]
  },
  {
   "cell_type": "code",
   "execution_count": 59,
   "metadata": {},
   "outputs": [],
   "source": [
    "intent_json = json.dumps({'intents':intent_list})"
   ]
  },
  {
   "cell_type": "code",
   "execution_count": 60,
   "metadata": {},
   "outputs": [
    {
     "data": {
      "text/plain": [
       "str"
      ]
     },
     "execution_count": 60,
     "metadata": {},
     "output_type": "execute_result"
    }
   ],
   "source": [
    "type(intent_json)"
   ]
  },
  {
   "cell_type": "code",
   "execution_count": 61,
   "metadata": {},
   "outputs": [],
   "source": [
    "with open('intent.json', 'w') as f:\n",
    "    json.dump({'intents':intent_list}, f, ensure_ascii=False, indent=4)"
   ]
  }
 ],
 "metadata": {
  "interpreter": {
   "hash": "c524142758e41ff8da72ba142ad7f8c770fa04ceb078ed7556ced5f6ce4ae027"
  },
  "kernelspec": {
   "display_name": "Python 3.9.12 64-bit",
   "language": "python",
   "name": "python3"
  },
  "language_info": {
   "codemirror_mode": {
    "name": "ipython",
    "version": 3
   },
   "file_extension": ".py",
   "mimetype": "text/x-python",
   "name": "python",
   "nbconvert_exporter": "python",
   "pygments_lexer": "ipython3",
   "version": "3.9.12"
  },
  "orig_nbformat": 4
 },
 "nbformat": 4,
 "nbformat_minor": 2
}
