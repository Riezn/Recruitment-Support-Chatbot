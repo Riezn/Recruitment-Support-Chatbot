{
 "cells": [
  {
   "cell_type": "markdown",
   "metadata": {},
   "source": [
    "# Chatbot Modeling"
   ]
  },
  {
   "cell_type": "markdown",
   "metadata": {},
   "source": [
    "## Import Libs"
   ]
  },
  {
   "cell_type": "code",
   "execution_count": 2,
   "metadata": {},
   "outputs": [
    {
     "name": "stderr",
     "output_type": "stream",
     "text": [
      "[nltk_data] Downloading package punkt to C:\\Users\\Judan Syamsul\n",
      "[nltk_data]     Hadad\\AppData\\Roaming\\nltk_data...\n",
      "[nltk_data]   Package punkt is already up-to-date!\n"
     ]
    },
    {
     "data": {
      "text/plain": [
       "True"
      ]
     },
     "execution_count": 2,
     "metadata": {},
     "output_type": "execute_result"
    }
   ],
   "source": [
    "# General\n",
    "import json\n",
    "import string\n",
    "import pickle\n",
    "import numpy as np\n",
    "import pandas as pd\n",
    "\n",
    "# Preprocessing\n",
    "from sklearn.preprocessing import LabelEncoder\n",
    "\n",
    "# Deep Learning\n",
    "import tensorflow as tf\n",
    "\n",
    "# Word Preprocessing\n",
    "from Sastrawi.Stemmer.StemmerFactory import StemmerFactory\n",
    "from Sastrawi.StopWordRemover.StopWordRemoverFactory import StopWordRemoverFactory\n",
    "import nltk\n",
    "from nltk.tokenize import word_tokenize\n",
    "nltk.download('punkt') # Only needed for first time usage of NLTK"
   ]
  },
  {
   "cell_type": "markdown",
   "metadata": {},
   "source": [
    "## Load Files for Preprocessing and Modeling"
   ]
  },
  {
   "cell_type": "markdown",
   "metadata": {},
   "source": [
    "### Intent"
   ]
  },
  {
   "cell_type": "code",
   "execution_count": 3,
   "metadata": {},
   "outputs": [],
   "source": [
    "# Load json file\n",
    "f = open('intent/intent.json', 'r')\n",
    "intent_json = json.load(f)"
   ]
  },
  {
   "cell_type": "code",
   "execution_count": 4,
   "metadata": {},
   "outputs": [],
   "source": [
    "# Create list from json\n",
    "input = []\n",
    "intent = []\n",
    "\n",
    "for i in range(len(intent_json['intents'])):\n",
    "    for user_input in intent_json['intents'][i]['input']:\n",
    "        input.append(user_input)\n",
    "        intent.append(intent_json['intents'][i]['intent'])"
   ]
  },
  {
   "cell_type": "code",
   "execution_count": 5,
   "metadata": {},
   "outputs": [
    {
     "data": {
      "text/html": [
       "<div>\n",
       "<style scoped>\n",
       "    .dataframe tbody tr th:only-of-type {\n",
       "        vertical-align: middle;\n",
       "    }\n",
       "\n",
       "    .dataframe tbody tr th {\n",
       "        vertical-align: top;\n",
       "    }\n",
       "\n",
       "    .dataframe thead th {\n",
       "        text-align: right;\n",
       "    }\n",
       "</style>\n",
       "<table border=\"1\" class=\"dataframe\">\n",
       "  <thead>\n",
       "    <tr style=\"text-align: right;\">\n",
       "      <th></th>\n",
       "      <th>input</th>\n",
       "      <th>intent</th>\n",
       "    </tr>\n",
       "  </thead>\n",
       "  <tbody>\n",
       "    <tr>\n",
       "      <th>0</th>\n",
       "      <td>halo</td>\n",
       "      <td>sapa</td>\n",
       "    </tr>\n",
       "    <tr>\n",
       "      <th>1</th>\n",
       "      <td>hei</td>\n",
       "      <td>sapa</td>\n",
       "    </tr>\n",
       "    <tr>\n",
       "      <th>2</th>\n",
       "      <td>hey</td>\n",
       "      <td>sapa</td>\n",
       "    </tr>\n",
       "    <tr>\n",
       "      <th>3</th>\n",
       "      <td>hello</td>\n",
       "      <td>sapa</td>\n",
       "    </tr>\n",
       "    <tr>\n",
       "      <th>4</th>\n",
       "      <td>hallo</td>\n",
       "      <td>sapa</td>\n",
       "    </tr>\n",
       "  </tbody>\n",
       "</table>\n",
       "</div>"
      ],
      "text/plain": [
       "   input intent\n",
       "0   halo   sapa\n",
       "1    hei   sapa\n",
       "2    hey   sapa\n",
       "3  hello   sapa\n",
       "4  hallo   sapa"
      ]
     },
     "execution_count": 5,
     "metadata": {},
     "output_type": "execute_result"
    }
   ],
   "source": [
    "# Create dataframe from json\n",
    "df = pd.DataFrame({\n",
    "    'input': input,\n",
    "    'intent' : intent\n",
    "    # 'response' : response\n",
    "})\n",
    "df.head()"
   ]
  },
  {
   "cell_type": "markdown",
   "metadata": {},
   "source": [
    "### Stopwords"
   ]
  },
  {
   "cell_type": "code",
   "execution_count": 6,
   "metadata": {},
   "outputs": [],
   "source": [
    "# Define stemmer and stopword\n",
    "factory = StemmerFactory()\n",
    "stemmer = factory.create_stemmer()\n",
    "\n",
    "factory = StopWordRemoverFactory()\n",
    "stopwords = factory.get_stop_words()"
   ]
  },
  {
   "cell_type": "code",
   "execution_count": 7,
   "metadata": {},
   "outputs": [],
   "source": [
    "stopwords.remove('ok')\n",
    "stopwords.remove('oh')\n",
    "stopwords.remove('tidak')\n",
    "stopwords.remove('ya')"
   ]
  },
  {
   "cell_type": "markdown",
   "metadata": {},
   "source": [
    "### Slang"
   ]
  },
  {
   "cell_type": "code",
   "execution_count": 8,
   "metadata": {},
   "outputs": [],
   "source": [
    "slang = pd.read_csv('lexicon/slang ke semi baku.csv')\n",
    "\n",
    "slang_replace = {}\n",
    "for i, row in enumerate(slang['slang']):\n",
    "    slang_replace[row] = slang['formal'].iloc[i]"
   ]
  },
  {
   "cell_type": "code",
   "execution_count": 9,
   "metadata": {},
   "outputs": [],
   "source": [
    "baku = pd.read_csv('lexicon/slang ke baku.csv')\n",
    "\n",
    "std_word_replace = {}\n",
    "for i, row in enumerate(baku['slang']):\n",
    "    std_word_replace[row] = baku['baku'].iloc[i]"
   ]
  },
  {
   "cell_type": "markdown",
   "metadata": {},
   "source": [
    "## Preprocessing"
   ]
  },
  {
   "cell_type": "code",
   "execution_count": 10,
   "metadata": {},
   "outputs": [],
   "source": [
    "# Create text cleaning function\n",
    "def clean_text(text):\n",
    "    new_text = []\n",
    "    text = text.lower() # Lowercase\n",
    "    # Loop each word in a sentence\n",
    "    for kata in text.split(): \n",
    "        # Keep word not in slang or standard word\n",
    "        if kata not in (slang_replace|std_word_replace): \n",
    "            new_text.append(kata) \n",
    "        # Replace non-formal word with standard word\n",
    "        elif kata in std_word_replace:\n",
    "            new_text+=std_word_replace[kata].split() \n",
    "        # Replace slang with standard word\n",
    "        elif kata in slang_replace:\n",
    "            for kata_slang in slang_replace[kata].split():\n",
    "                new_text.append(std_word_replace.get(kata_slang, kata_slang))\n",
    "    # Join words without stopwords after stemming\n",
    "    new_text = ' '.join(\n",
    "        stemmer.stem(word) for word in new_text if word not in stopwords\n",
    "    )\n",
    "    # Remove punctuations\n",
    "    text = text.translate(str.maketrans('', '', string.punctuation))\n",
    "    return new_text"
   ]
  },
  {
   "cell_type": "code",
   "execution_count": 11,
   "metadata": {},
   "outputs": [
    {
     "data": {
      "text/plain": [
       "'aku lapar banget tidak tahu mau makan jeruk apa tiru deh lamar'"
      ]
     },
     "execution_count": 11,
     "metadata": {},
     "output_type": "execute_result"
    }
   ],
   "source": [
    "kalimat = 'Aku laper banget gatau maunya makan jeruk apa lagi meniru-niru... daah ngelamar'\n",
    "clean_text(kalimat)"
   ]
  },
  {
   "cell_type": "code",
   "execution_count": 12,
   "metadata": {},
   "outputs": [
    {
     "data": {
      "text/plain": [
       "0     halo\n",
       "1      hei\n",
       "2      hai\n",
       "3    hello\n",
       "4     halo\n",
       "Name: clean_input, dtype: object"
      ]
     },
     "execution_count": 12,
     "metadata": {},
     "output_type": "execute_result"
    }
   ],
   "source": [
    "df['clean_input'] = df['input'].apply(clean_text)\n",
    "df['clean_input'].head()"
   ]
  },
  {
   "cell_type": "markdown",
   "metadata": {},
   "source": [
    "## Create Corpus"
   ]
  },
  {
   "cell_type": "code",
   "execution_count": 13,
   "metadata": {},
   "outputs": [],
   "source": [
    "# Create corpus\n",
    "words = set([\n",
    "    word for word in df['clean_input'] for word in word_tokenize(word)\n",
    "    ]\n",
    ")"
   ]
  },
  {
   "cell_type": "code",
   "execution_count": 14,
   "metadata": {},
   "outputs": [],
   "source": [
    "corpus_size = len(words)"
   ]
  },
  {
   "cell_type": "code",
   "execution_count": 15,
   "metadata": {},
   "outputs": [],
   "source": [
    "# Calculate word length of each row\n",
    "df['length'] = df['clean_input'].apply(word_tokenize).apply(len)"
   ]
  },
  {
   "cell_type": "code",
   "execution_count": 16,
   "metadata": {},
   "outputs": [],
   "source": [
    "sequence_length = int(round(df['length'].max(),0))"
   ]
  },
  {
   "cell_type": "code",
   "execution_count": 17,
   "metadata": {},
   "outputs": [
    {
     "data": {
      "text/plain": [
       "(314, 8)"
      ]
     },
     "execution_count": 17,
     "metadata": {},
     "output_type": "execute_result"
    }
   ],
   "source": [
    "corpus_size, sequence_length"
   ]
  },
  {
   "cell_type": "markdown",
   "metadata": {},
   "source": [
    "## Label Encoding"
   ]
  },
  {
   "cell_type": "code",
   "execution_count": 18,
   "metadata": {},
   "outputs": [],
   "source": [
    "# Label encoding\n",
    "le = LabelEncoder()\n",
    "y_train = le.fit_transform(df['intent'])\n",
    "y_train = tf.keras.utils.to_categorical(y_train)"
   ]
  },
  {
   "cell_type": "code",
   "execution_count": 19,
   "metadata": {},
   "outputs": [
    {
     "data": {
      "text/plain": [
       "array(['CV', 'biaya', 'daftar', 'dokumen', 'error upload', 'ktp',\n",
       "       'link sosmed', 'lowongan', 'lupa password', 'nama', 'pas foto',\n",
       "       'pengantar', 'penutup', 'qualification', 'responsibilities',\n",
       "       'salary', 'sapa', 'sertifikat', 'skck', 'timeline', 'training',\n",
       "       'transkrip-ijazah'], dtype=object)"
      ]
     },
     "execution_count": 19,
     "metadata": {},
     "output_type": "execute_result"
    }
   ],
   "source": [
    "le.classes_"
   ]
  },
  {
   "cell_type": "code",
   "execution_count": 20,
   "metadata": {},
   "outputs": [
    {
     "data": {
      "text/plain": [
       "22"
      ]
     },
     "execution_count": 20,
     "metadata": {},
     "output_type": "execute_result"
    }
   ],
   "source": [
    "len(le.classes_)"
   ]
  },
  {
   "cell_type": "markdown",
   "metadata": {},
   "source": [
    "## Modeling"
   ]
  },
  {
   "cell_type": "markdown",
   "metadata": {},
   "source": [
    "### Text Vectorization"
   ]
  },
  {
   "cell_type": "code",
   "execution_count": 21,
   "metadata": {},
   "outputs": [],
   "source": [
    "textvect = tf.keras.layers.TextVectorization(\n",
    "    max_tokens=corpus_size,\n",
    "    standardize='lower_and_strip_punctuation',\n",
    "    split='whitespace',\n",
    "    ngrams=None,\n",
    "    output_mode='int',\n",
    "    output_sequence_length=sequence_length\n",
    ")\n",
    "textvect.adapt(df['clean_input'])"
   ]
  },
  {
   "cell_type": "code",
   "execution_count": 22,
   "metadata": {},
   "outputs": [
    {
     "data": {
      "text/plain": [
       "<tf.Tensor: shape=(8,), dtype=int64, numpy=array([18, 12,  9,  0,  0,  0,  0,  0], dtype=int64)>"
      ]
     },
     "execution_count": 22,
     "metadata": {},
     "output_type": "execute_result"
    }
   ],
   "source": [
    "tes = 'saya mau daftar rekrutmen'\n",
    "textvect(clean_text(tes))"
   ]
  },
  {
   "cell_type": "markdown",
   "metadata": {},
   "source": [
    "### Word Embedding"
   ]
  },
  {
   "cell_type": "code",
   "execution_count": 23,
   "metadata": {},
   "outputs": [],
   "source": [
    "embedding = tf.keras.layers.Embedding(\n",
    "    input_dim=corpus_size,\n",
    "    output_dim=16,\n",
    "    input_length=sequence_length,\n",
    "    embeddings_initializer='uniform'\n",
    ")"
   ]
  },
  {
   "cell_type": "code",
   "execution_count": 24,
   "metadata": {},
   "outputs": [
    {
     "data": {
      "text/plain": [
       "<tf.Tensor: shape=(8, 16), dtype=float32, numpy=\n",
       "array([[ 0.01727624, -0.02078724, -0.01191875, -0.04903857,  0.00421154,\n",
       "        -0.0209415 ,  0.01499659,  0.00696637, -0.0154827 , -0.02698214,\n",
       "        -0.02629602,  0.0093345 , -0.01035144,  0.02435717, -0.02351571,\n",
       "        -0.04749465],\n",
       "       [ 0.00317055,  0.04783611,  0.03803532,  0.04476628, -0.04922102,\n",
       "        -0.04927615,  0.01647028,  0.00841957,  0.00876125, -0.02338641,\n",
       "        -0.03744482, -0.03674288,  0.03587948, -0.04208728, -0.0009889 ,\n",
       "        -0.02805727],\n",
       "       [ 0.01363112,  0.01204417,  0.01691138,  0.00525782,  0.043053  ,\n",
       "        -0.00035746, -0.04072682, -0.01129373, -0.00494387,  0.04524865,\n",
       "         0.01970483,  0.01119577,  0.02011167, -0.00766503, -0.02092525,\n",
       "         0.03506035],\n",
       "       [ 0.00102137, -0.02530444, -0.01831088,  0.01596122, -0.03577871,\n",
       "        -0.00665568,  0.00961898, -0.04072139,  0.02003891, -0.04276066,\n",
       "        -0.01266681,  0.02618278,  0.03372863,  0.04164473, -0.04291748,\n",
       "         0.03924469],\n",
       "       [ 0.00102137, -0.02530444, -0.01831088,  0.01596122, -0.03577871,\n",
       "        -0.00665568,  0.00961898, -0.04072139,  0.02003891, -0.04276066,\n",
       "        -0.01266681,  0.02618278,  0.03372863,  0.04164473, -0.04291748,\n",
       "         0.03924469],\n",
       "       [ 0.00102137, -0.02530444, -0.01831088,  0.01596122, -0.03577871,\n",
       "        -0.00665568,  0.00961898, -0.04072139,  0.02003891, -0.04276066,\n",
       "        -0.01266681,  0.02618278,  0.03372863,  0.04164473, -0.04291748,\n",
       "         0.03924469],\n",
       "       [ 0.00102137, -0.02530444, -0.01831088,  0.01596122, -0.03577871,\n",
       "        -0.00665568,  0.00961898, -0.04072139,  0.02003891, -0.04276066,\n",
       "        -0.01266681,  0.02618278,  0.03372863,  0.04164473, -0.04291748,\n",
       "         0.03924469],\n",
       "       [ 0.00102137, -0.02530444, -0.01831088,  0.01596122, -0.03577871,\n",
       "        -0.00665568,  0.00961898, -0.04072139,  0.02003891, -0.04276066,\n",
       "        -0.01266681,  0.02618278,  0.03372863,  0.04164473, -0.04291748,\n",
       "         0.03924469]], dtype=float32)>"
      ]
     },
     "execution_count": 24,
     "metadata": {},
     "output_type": "execute_result"
    }
   ],
   "source": [
    "embedding(textvect(clean_text(tes)))"
   ]
  },
  {
   "cell_type": "markdown",
   "metadata": {},
   "source": [
    "### Layering"
   ]
  },
  {
   "cell_type": "code",
   "execution_count": 25,
   "metadata": {},
   "outputs": [],
   "source": [
    "# Create model\n",
    "input = tf.keras.layers.Input(shape=(1,), dtype='string')\n",
    "hidden_layer = textvect(input)\n",
    "hidden_layer = embedding(hidden_layer)\n",
    "hidden_layer = tf.keras.layers.Bidirectional(tf.keras.layers.LSTM(16))(hidden_layer)\n",
    "output = tf.keras.layers.Dense(len(le.classes_), activation='softmax')(hidden_layer)\n",
    "model = tf.keras.Model(inputs=input, outputs=output)\n",
    "\n",
    "# Compile model\n",
    "model.compile(\n",
    "    optimizer='adam',\n",
    "    loss='categorical_crossentropy',\n",
    "    metrics=['categorical_accuracy']\n",
    ")"
   ]
  },
  {
   "cell_type": "markdown",
   "metadata": {},
   "source": [
    "### Training"
   ]
  },
  {
   "cell_type": "code",
   "execution_count": 26,
   "metadata": {},
   "outputs": [
    {
     "data": {
      "text/html": [
       "<div>\n",
       "<style scoped>\n",
       "    .dataframe tbody tr th:only-of-type {\n",
       "        vertical-align: middle;\n",
       "    }\n",
       "\n",
       "    .dataframe tbody tr th {\n",
       "        vertical-align: top;\n",
       "    }\n",
       "\n",
       "    .dataframe thead th {\n",
       "        text-align: right;\n",
       "    }\n",
       "</style>\n",
       "<table border=\"1\" class=\"dataframe\">\n",
       "  <thead>\n",
       "    <tr style=\"text-align: right;\">\n",
       "      <th></th>\n",
       "      <th>loss</th>\n",
       "      <th>categorical_accuracy</th>\n",
       "    </tr>\n",
       "  </thead>\n",
       "  <tbody>\n",
       "    <tr>\n",
       "      <th>95</th>\n",
       "      <td>0.018580</td>\n",
       "      <td>0.997895</td>\n",
       "    </tr>\n",
       "    <tr>\n",
       "      <th>96</th>\n",
       "      <td>0.018288</td>\n",
       "      <td>1.000000</td>\n",
       "    </tr>\n",
       "    <tr>\n",
       "      <th>97</th>\n",
       "      <td>0.017965</td>\n",
       "      <td>0.997895</td>\n",
       "    </tr>\n",
       "    <tr>\n",
       "      <th>98</th>\n",
       "      <td>0.017596</td>\n",
       "      <td>1.000000</td>\n",
       "    </tr>\n",
       "    <tr>\n",
       "      <th>99</th>\n",
       "      <td>0.016952</td>\n",
       "      <td>1.000000</td>\n",
       "    </tr>\n",
       "  </tbody>\n",
       "</table>\n",
       "</div>"
      ],
      "text/plain": [
       "        loss  categorical_accuracy\n",
       "95  0.018580              0.997895\n",
       "96  0.018288              1.000000\n",
       "97  0.017965              0.997895\n",
       "98  0.017596              1.000000\n",
       "99  0.016952              1.000000"
      ]
     },
     "execution_count": 26,
     "metadata": {},
     "output_type": "execute_result"
    }
   ],
   "source": [
    "hist = model.fit(df['clean_input'], y_train, epochs=100, verbose=0)\n",
    "pd.DataFrame(hist.history).tail()"
   ]
  },
  {
   "cell_type": "markdown",
   "metadata": {},
   "source": [
    "### Evaluating Model"
   ]
  },
  {
   "cell_type": "code",
   "execution_count": 27,
   "metadata": {},
   "outputs": [
    {
     "name": "stdout",
     "output_type": "stream",
     "text": [
      "15/15 [==============================] - 1s 1ms/step - loss: 0.0166 - categorical_accuracy: 1.0000\n"
     ]
    },
    {
     "data": {
      "text/plain": [
       "[0.016621695831418037, 1.0]"
      ]
     },
     "execution_count": 27,
     "metadata": {},
     "output_type": "execute_result"
    }
   ],
   "source": [
    "model.evaluate(df['clean_input'], y_train)"
   ]
  },
  {
   "cell_type": "code",
   "execution_count": 28,
   "metadata": {},
   "outputs": [
    {
     "name": "stdout",
     "output_type": "stream",
     "text": [
      "                  precision    recall  f1-score   support\n",
      "\n",
      "              CV       1.00      1.00      1.00        12\n",
      "           biaya       1.00      1.00      1.00        27\n",
      "          daftar       1.00      1.00      1.00        22\n",
      "         dokumen       1.00      1.00      1.00        23\n",
      "    error upload       1.00      1.00      1.00         9\n",
      "             ktp       1.00      1.00      1.00        16\n",
      "     link sosmed       1.00      1.00      1.00        17\n",
      "        lowongan       1.00      1.00      1.00        17\n",
      "   lupa password       1.00      1.00      1.00        21\n",
      "            nama       1.00      1.00      1.00         9\n",
      "        pas foto       1.00      1.00      1.00        16\n",
      "       pengantar       1.00      1.00      1.00        10\n",
      "         penutup       1.00      1.00      1.00        48\n",
      "   qualification       1.00      1.00      1.00        20\n",
      "responsibilities       1.00      1.00      1.00        21\n",
      "          salary       1.00      1.00      1.00        37\n",
      "            sapa       1.00      1.00      1.00        19\n",
      "      sertifikat       1.00      1.00      1.00        14\n",
      "            skck       1.00      1.00      1.00        16\n",
      "        timeline       1.00      1.00      1.00        48\n",
      "        training       1.00      1.00      1.00        22\n",
      "transkrip-ijazah       1.00      1.00      1.00        31\n",
      "\n",
      "        accuracy                           1.00       475\n",
      "       macro avg       1.00      1.00      1.00       475\n",
      "    weighted avg       1.00      1.00      1.00       475\n",
      "\n"
     ]
    }
   ],
   "source": [
    "y_train_df = pd.DataFrame(y_train, columns=le.classes_)\n",
    "y_train_df['intent'] = y_train_df.idxmax(axis=1)\n",
    "\n",
    "model_pred = model.predict(df['clean_input'])\n",
    "model_pred = pd.DataFrame(model_pred, columns=le.classes_)\n",
    "model_pred['intent'] = model_pred.idxmax(axis=1)\n",
    "\n",
    "from sklearn.metrics import classification_report\n",
    "print(classification_report(y_train_df['intent'], model_pred['intent']))"
   ]
  },
  {
   "cell_type": "markdown",
   "metadata": {},
   "source": [
    "### Function Covering End-to-End Process"
   ]
  },
  {
   "cell_type": "code",
   "execution_count": 29,
   "metadata": {},
   "outputs": [],
   "source": [
    "def bot_response(text):\n",
    "    \"\"\"Take text as function input then predict using model. Return response based on highest probability using numpy argmax    \n",
    "    \"\"\"\n",
    "    text = clean_text(text)\n",
    "    pred = model.predict([text])\n",
    "    res = le.classes_[pred.argmax()] # Get the index with highest probability\n",
    "    i = 0\n",
    "    try:\n",
    "        if textvect(text).numpy().max() > 1: # If the input is known word(s)\n",
    "            while i < len(intent_json['intents']):\n",
    "                if res == intent_json['intents'][i]['intent']:\n",
    "                    response = intent_json['intents'][i]['response']\n",
    "                    break\n",
    "                else:\n",
    "                    i+=1\n",
    "        else: # If only unknown word(s)\n",
    "            response = ['Maaf, Kak. Aku tidak mengerti...']\n",
    "    except: # If empty string or any error occured\n",
    "        response = ['Maaf, Kak. Aku tidak mengerti...']\n",
    "\n",
    "    # For debugging only\n",
    "    dict_temp = []\n",
    "    for i in range(len(pred[0])):\n",
    "        temp = {le.classes_[i]: pred[0][i]}\n",
    "        dict_temp.append(temp)\n",
    "    print(dict_temp)\n",
    "    print(le.classes_[pred.argmax()])\n",
    "\n",
    "    return print(np.random.choice(response))"
   ]
  },
  {
   "cell_type": "code",
   "execution_count": 30,
   "metadata": {},
   "outputs": [
    {
     "data": {
      "text/plain": [
       "'aku mau daftar rekrutmen'"
      ]
     },
     "execution_count": 30,
     "metadata": {},
     "output_type": "execute_result"
    }
   ],
   "source": [
    "tes1 = 'aku mau daftar rekrutmen'\n",
    "clean_text(tes1)"
   ]
  },
  {
   "cell_type": "code",
   "execution_count": 31,
   "metadata": {},
   "outputs": [
    {
     "data": {
      "text/plain": [
       "array([[3.41042614e-05, 1.30600983e-03, 9.86958206e-01, 1.03317014e-07,\n",
       "        4.25029830e-05, 1.78054597e-06, 1.15282319e-05, 4.96281078e-04,\n",
       "        1.79441338e-06, 1.33625474e-06, 3.87672801e-04, 1.83891498e-05,\n",
       "        4.06584368e-05, 1.02942213e-02, 1.78547980e-05, 4.76114110e-06,\n",
       "        8.58166313e-05, 8.49789217e-07, 1.63138771e-04, 3.69350855e-05,\n",
       "        1.54515453e-06, 9.44350322e-05]], dtype=float32)"
      ]
     },
     "execution_count": 31,
     "metadata": {},
     "output_type": "execute_result"
    }
   ],
   "source": [
    "model.predict([clean_text(tes1)])"
   ]
  },
  {
   "cell_type": "code",
   "execution_count": 32,
   "metadata": {},
   "outputs": [
    {
     "data": {
      "text/plain": [
       "2"
      ]
     },
     "execution_count": 32,
     "metadata": {},
     "output_type": "execute_result"
    }
   ],
   "source": [
    "model.predict([clean_text(tes1)]).argmax()"
   ]
  },
  {
   "cell_type": "code",
   "execution_count": 33,
   "metadata": {},
   "outputs": [
    {
     "data": {
      "text/plain": [
       "'daftar'"
      ]
     },
     "execution_count": 33,
     "metadata": {},
     "output_type": "execute_result"
    }
   ],
   "source": [
    "le.classes_[model.predict([clean_text(tes1)]).argmax()]"
   ]
  },
  {
   "cell_type": "code",
   "execution_count": 34,
   "metadata": {},
   "outputs": [
    {
     "data": {
      "text/plain": [
       "True"
      ]
     },
     "execution_count": 34,
     "metadata": {},
     "output_type": "execute_result"
    }
   ],
   "source": [
    "le.classes_[model.predict([clean_text(tes1)]).argmax()] == intent_json['intents'][2]['intent']"
   ]
  },
  {
   "cell_type": "code",
   "execution_count": 35,
   "metadata": {},
   "outputs": [
    {
     "data": {
      "text/plain": [
       "['Untuk mengikuti rekrutmen ini, mohon ikuti langkah berikut ya, Kak:\\n1. Baca tata cara melamar di https://rekrutmen.fiktif.id/tatacara\\n2. Buat akun di https://rekrutmen.fiktif.id/registrasi menggunakan alamat email dan nomor telepon aktif milik pribadi\\n3. Lengkapi formulir pendaftaran dan upload seluruh dokumen yang dibutuhkan dan tunggu pengumuman tahap berikutnya di https://rekrutmen.fiktif.id/news atau email masing-masing']"
      ]
     },
     "execution_count": 35,
     "metadata": {},
     "output_type": "execute_result"
    }
   ],
   "source": [
    "intent_json['intents'][2]['response']"
   ]
  },
  {
   "cell_type": "code",
   "execution_count": 36,
   "metadata": {},
   "outputs": [
    {
     "name": "stdout",
     "output_type": "stream",
     "text": [
      "[{'CV': 3.410426e-05}, {'biaya': 0.0013060098}, {'daftar': 0.9869582}, {'dokumen': 1.03317014e-07}, {'error upload': 4.2502983e-05}, {'ktp': 1.780546e-06}, {'link sosmed': 1.1528232e-05}, {'lowongan': 0.0004962811}, {'lupa password': 1.7944134e-06}, {'nama': 1.3362547e-06}, {'pas foto': 0.0003876728}, {'pengantar': 1.838915e-05}, {'penutup': 4.0658437e-05}, {'qualification': 0.010294221}, {'responsibilities': 1.7854798e-05}, {'salary': 4.761141e-06}, {'sapa': 8.581663e-05}, {'sertifikat': 8.497892e-07}, {'skck': 0.00016313877}, {'timeline': 3.6935086e-05}, {'training': 1.5451545e-06}, {'transkrip-ijazah': 9.443503e-05}]\n",
      "daftar\n",
      "Untuk mengikuti rekrutmen ini, mohon ikuti langkah berikut ya, Kak:\n",
      "1. Baca tata cara melamar di https://rekrutmen.fiktif.id/tatacara\n",
      "2. Buat akun di https://rekrutmen.fiktif.id/registrasi menggunakan alamat email dan nomor telepon aktif milik pribadi\n",
      "3. Lengkapi formulir pendaftaran dan upload seluruh dokumen yang dibutuhkan dan tunggu pengumuman tahap berikutnya di https://rekrutmen.fiktif.id/news atau email masing-masing\n"
     ]
    }
   ],
   "source": [
    "bot_response('aku mau daftar rekrutmen')"
   ]
  },
  {
   "cell_type": "markdown",
   "metadata": {},
   "source": [
    "### Saving Model"
   ]
  },
  {
   "cell_type": "code",
   "execution_count": 37,
   "metadata": {},
   "outputs": [],
   "source": [
    "import pickle\n",
    "pickle.dump(le, open('saved_model/encoder.pkl', 'wb'))"
   ]
  },
  {
   "cell_type": "code",
   "execution_count": 38,
   "metadata": {},
   "outputs": [],
   "source": [
    "pickle.dump({'config': textvect.get_config(),\n",
    "             'weights': textvect.get_weights()}\n",
    "            , open(\"saved_model/textvect.pkl\", \"wb\"))"
   ]
  },
  {
   "cell_type": "code",
   "execution_count": 39,
   "metadata": {},
   "outputs": [],
   "source": [
    "model.save('saved_model/model', save_traces=True)"
   ]
  },
  {
   "cell_type": "markdown",
   "metadata": {},
   "source": [
    "## Inference"
   ]
  },
  {
   "cell_type": "code",
   "execution_count": 40,
   "metadata": {},
   "outputs": [
    {
     "data": {
      "text/plain": [
       "<tf.Tensor: shape=(8,), dtype=int64, numpy=array([233,   0,   0,   0,   0,   0,   0,   0], dtype=int64)>"
      ]
     },
     "execution_count": 40,
     "metadata": {},
     "output_type": "execute_result"
    }
   ],
   "source": [
    "textvect('ok')"
   ]
  },
  {
   "cell_type": "code",
   "execution_count": 41,
   "metadata": {},
   "outputs": [
    {
     "data": {
      "text/plain": [
       "'ok'"
      ]
     },
     "execution_count": 41,
     "metadata": {},
     "output_type": "execute_result"
    }
   ],
   "source": [
    "clean_text('ok')"
   ]
  },
  {
   "cell_type": "code",
   "execution_count": 42,
   "metadata": {},
   "outputs": [
    {
     "data": {
      "text/plain": [
       "True"
      ]
     },
     "execution_count": 42,
     "metadata": {},
     "output_type": "execute_result"
    }
   ],
   "source": [
    "textvect('ok').numpy().max() > 1"
   ]
  },
  {
   "cell_type": "code",
   "execution_count": 43,
   "metadata": {},
   "outputs": [
    {
     "name": "stdout",
     "output_type": "stream",
     "text": [
      "[{'CV': 5.36883e-05}, {'biaya': 0.007395609}, {'daftar': 0.0016359695}, {'dokumen': 0.0008477761}, {'error upload': 1.575233e-07}, {'ktp': 0.0005843639}, {'link sosmed': 0.820636}, {'lowongan': 0.000102379825}, {'lupa password': 0.006315019}, {'nama': 0.00040211546}, {'pas foto': 0.0005634637}, {'pengantar': 1.5575746e-05}, {'penutup': 0.032228664}, {'qualification': 9.674149e-05}, {'responsibilities': 1.721717e-05}, {'salary': 0.029005488}, {'sapa': 0.043097135}, {'sertifikat': 0.0012886999}, {'skck': 0.00012526671}, {'timeline': 0.0003172845}, {'training': 0.019812303}, {'transkrip-ijazah': 0.035459265}]\n",
      "link sosmed\n",
      "Maaf, Kak. Aku tidak mengerti...\n"
     ]
    }
   ],
   "source": [
    "bot_response('a')"
   ]
  },
  {
   "cell_type": "code",
   "execution_count": 44,
   "metadata": {},
   "outputs": [
    {
     "name": "stdout",
     "output_type": "stream",
     "text": [
      "[{'CV': 2.2069027e-07}, {'biaya': 0.0020134135}, {'daftar': 0.0003073075}, {'dokumen': 0.00043082391}, {'error upload': 7.895572e-10}, {'ktp': 2.39478e-07}, {'link sosmed': 0.00016925728}, {'lowongan': 4.198607e-05}, {'lupa password': 0.0004760598}, {'nama': 1.8830763e-06}, {'pas foto': 1.580732e-07}, {'pengantar': 5.6112373e-08}, {'penutup': 0.9905691}, {'qualification': 3.6861835e-05}, {'responsibilities': 1.4891566e-05}, {'salary': 0.0012615839}, {'sapa': 0.0016094416}, {'sertifikat': 3.580304e-08}, {'skck': 2.782781e-06}, {'timeline': 0.0018119157}, {'training': 0.0009757699}, {'transkrip-ijazah': 0.0002762013}]\n",
      "penutup\n",
      "Terima kasih telah bertanya. Senang bisa membantumu :D\n"
     ]
    }
   ],
   "source": [
    "bot_response('ya')"
   ]
  },
  {
   "cell_type": "code",
   "execution_count": 45,
   "metadata": {},
   "outputs": [
    {
     "data": {
      "text/plain": [
       "('jeruk',\n",
       " <tf.Tensor: shape=(8,), dtype=int64, numpy=array([1, 0, 0, 0, 0, 0, 0, 0], dtype=int64)>)"
      ]
     },
     "execution_count": 45,
     "metadata": {},
     "output_type": "execute_result"
    }
   ],
   "source": [
    "testext = 'jeruk'\n",
    "clean_text(testext), textvect(clean_text(testext))"
   ]
  },
  {
   "cell_type": "code",
   "execution_count": 46,
   "metadata": {},
   "outputs": [
    {
     "data": {
      "text/plain": [
       "False"
      ]
     },
     "execution_count": 46,
     "metadata": {},
     "output_type": "execute_result"
    }
   ],
   "source": [
    "textvect(clean_text('laper pengen makan jeruk')).numpy().max() > 1"
   ]
  },
  {
   "cell_type": "code",
   "execution_count": 47,
   "metadata": {},
   "outputs": [
    {
     "name": "stdout",
     "output_type": "stream",
     "text": [
      "[{'CV': 1.6411526e-07}, {'biaya': 0.001864196}, {'daftar': 0.0002562904}, {'dokumen': 0.00016881076}, {'error upload': 1.2396235e-09}, {'ktp': 6.731565e-08}, {'link sosmed': 0.0001283172}, {'lowongan': 4.3904907e-05}, {'lupa password': 0.00038904496}, {'nama': 2.2123256e-06}, {'pas foto': 1.958348e-07}, {'pengantar': 1.151137e-07}, {'penutup': 0.9940013}, {'qualification': 5.80017e-05}, {'responsibilities': 1.7246173e-05}, {'salary': 0.0005495991}, {'sapa': 0.0009511915}, {'sertifikat': 1.4964932e-08}, {'skck': 1.2198878e-06}, {'timeline': 0.00093475165}, {'training': 0.0005533632}, {'transkrip-ijazah': 7.996002e-05}]\n",
      "penutup\n",
      "Terima kasih telah bertanya. Senang bisa membantumu :D\n"
     ]
    }
   ],
   "source": [
    "bot_response('oh ok')"
   ]
  },
  {
   "cell_type": "code",
   "execution_count": 48,
   "metadata": {},
   "outputs": [
    {
     "name": "stdout",
     "output_type": "stream",
     "text": [
      "[{'CV': 9.126592e-05}, {'biaya': 0.0018630566}, {'daftar': 0.00425789}, {'dokumen': 0.00014764487}, {'error upload': 1.8197965e-05}, {'ktp': 1.969937e-07}, {'link sosmed': 0.00029554655}, {'lowongan': 0.98559266}, {'lupa password': 0.00075157726}, {'nama': 4.9915594e-05}, {'pas foto': 8.569103e-07}, {'pengantar': 2.7303118e-05}, {'penutup': 0.0005332018}, {'qualification': 0.0030277157}, {'responsibilities': 0.00057007215}, {'salary': 1.834881e-05}, {'sapa': 0.000459054}, {'sertifikat': 5.6223794e-06}, {'skck': 6.5278204e-05}, {'timeline': 0.0022178087}, {'training': 2.9053028e-06}, {'transkrip-ijazah': 3.8835747e-06}]\n",
      "lowongan\n",
      "Saat ini PT Fiktif sedang membuka lowongan untuk posisi Data Analyst, Data Scientist, dan Data Engineer. Yuk daftar lewat https://rekrutmen.fiktif.id/\n"
     ]
    }
   ],
   "source": [
    "bot_response('ada lowongan apa nih di pt fiktif')"
   ]
  },
  {
   "cell_type": "code",
   "execution_count": 49,
   "metadata": {},
   "outputs": [
    {
     "name": "stdout",
     "output_type": "stream",
     "text": [
      "[{'CV': 2.908049e-05}, {'biaya': 0.00029828688}, {'daftar': 0.07239391}, {'dokumen': 0.00013096702}, {'error upload': 3.0858308e-07}, {'ktp': 3.3702447e-05}, {'link sosmed': 0.0013146426}, {'lowongan': 0.0008550244}, {'lupa password': 0.0006279098}, {'nama': 6.914554e-05}, {'pas foto': 3.135934e-06}, {'pengantar': 3.3143408e-07}, {'penutup': 0.0639518}, {'qualification': 0.007311456}, {'responsibilities': 0.0013466298}, {'salary': 0.00044325012}, {'sapa': 0.832983}, {'sertifikat': 1.4019523e-06}, {'skck': 0.00026106357}, {'timeline': 0.0030226817}, {'training': 0.012111078}, {'transkrip-ijazah': 0.002811091}]\n",
      "sapa\n",
      "Maaf, Kak. Aku tidak mengerti...\n"
     ]
    }
   ],
   "source": [
    "bot_response('ingin')"
   ]
  },
  {
   "cell_type": "code",
   "execution_count": 50,
   "metadata": {},
   "outputs": [
    {
     "name": "stdout",
     "output_type": "stream",
     "text": [
      "[{'CV': 0.000518769}, {'biaya': 0.00020780317}, {'daftar': 0.0006725984}, {'dokumen': 1.7531819e-06}, {'error upload': 0.00028842772}, {'ktp': 0.0059102927}, {'link sosmed': 0.000121205194}, {'lowongan': 4.2596633e-07}, {'lupa password': 1.3231415e-06}, {'nama': 1.707878e-05}, {'pas foto': 0.9885134}, {'pengantar': 0.002006357}, {'penutup': 3.562962e-06}, {'qualification': 4.9234124e-05}, {'responsibilities': 8.7609914e-07}, {'salary': 5.5123513e-05}, {'sapa': 8.473102e-06}, {'sertifikat': 0.0005949707}, {'skck': 0.000110772664}, {'timeline': 6.3338854e-07}, {'training': 0.0002761693}, {'transkrip-ijazah': 0.00064090214}]\n",
      "pas foto\n",
      "Pas foto merupakan dokumen wajib pendaftaran ya, Kak.\n",
      "\n",
      "Berikut ketentuan pas foto yang harus dipenuhi:\n",
      "- Background berwarna biru dengan pakaian formal (kemeja dan/atau jas)\n",
      "- Foto berukuran 3x4 dan berwarna\n",
      "- Disarankan untuk menggunakan foto terbaru\n",
      "- Upload foto di https://rekrutmen.fiktif.id/dokumen dengan ukuran file tidak lebih dari 1 MB dengan format file jpg/png/jpeg\n",
      "\n",
      "Kalau ukuran file melebihi, silahkan diperkecil dulu dengan aplikasi untuk edit foto.\n"
     ]
    }
   ],
   "source": [
    "bot_response('pas foto hilang gimana ya')"
   ]
  },
  {
   "cell_type": "markdown",
   "metadata": {},
   "source": [
    "ktp, pas foto, password masih ketuker2"
   ]
  },
  {
   "cell_type": "code",
   "execution_count": 51,
   "metadata": {},
   "outputs": [
    {
     "data": {
      "text/plain": [
       "array(['CV', 'biaya', 'daftar', 'dokumen', 'error upload', 'ktp',\n",
       "       'link sosmed', 'lowongan', 'lupa password', 'nama', 'pas foto',\n",
       "       'pengantar', 'penutup', 'qualification', 'responsibilities',\n",
       "       'salary', 'sapa', 'sertifikat', 'skck', 'timeline', 'training',\n",
       "       'transkrip-ijazah'], dtype=object)"
      ]
     },
     "execution_count": 51,
     "metadata": {},
     "output_type": "execute_result"
    }
   ],
   "source": [
    "le.classes_"
   ]
  },
  {
   "cell_type": "code",
   "execution_count": 52,
   "metadata": {},
   "outputs": [
    {
     "data": {
      "text/plain": [
       "<tf.Tensor: shape=(8,), dtype=int64, numpy=array([153,   0,   0,   0,   0,   0,   0,   0], dtype=int64)>"
      ]
     },
     "execution_count": 52,
     "metadata": {},
     "output_type": "execute_result"
    }
   ],
   "source": [
    "textvect('loker')"
   ]
  },
  {
   "cell_type": "code",
   "execution_count": 53,
   "metadata": {},
   "outputs": [
    {
     "data": {
      "text/plain": [
       "<tf.Tensor: shape=(8,), dtype=int64, numpy=array([1, 0, 0, 0, 0, 0, 0, 0], dtype=int64)>"
      ]
     },
     "execution_count": 53,
     "metadata": {},
     "output_type": "execute_result"
    }
   ],
   "source": [
    "textvect('wis')"
   ]
  },
  {
   "cell_type": "code",
   "execution_count": 54,
   "metadata": {},
   "outputs": [],
   "source": [
    "data = {'user_input':'hai hai'}\n",
    "data = json.dumps(data)\n",
    "loaded_data = json.loads(data)"
   ]
  },
  {
   "cell_type": "code",
   "execution_count": 55,
   "metadata": {},
   "outputs": [
    {
     "data": {
      "text/plain": [
       "dict"
      ]
     },
     "execution_count": 55,
     "metadata": {},
     "output_type": "execute_result"
    }
   ],
   "source": [
    "type(loaded_data)"
   ]
  },
  {
   "cell_type": "code",
   "execution_count": 56,
   "metadata": {},
   "outputs": [],
   "source": [
    "tespred = str(model.predict([clean_text(loaded_data['user_input'])]).argmax())"
   ]
  },
  {
   "cell_type": "code",
   "execution_count": 57,
   "metadata": {},
   "outputs": [],
   "source": [
    "tes_res = {'pred':tespred}\n",
    "tes_res = json.dumps(tes_res)\n",
    "loaded_res = json.loads(tes_res)"
   ]
  },
  {
   "cell_type": "code",
   "execution_count": 58,
   "metadata": {},
   "outputs": [
    {
     "data": {
      "text/plain": [
       "'sapa'"
      ]
     },
     "execution_count": 58,
     "metadata": {},
     "output_type": "execute_result"
    }
   ],
   "source": [
    "le.classes_[int(loaded_res['pred'])]"
   ]
  },
  {
   "cell_type": "code",
   "execution_count": 59,
   "metadata": {},
   "outputs": [
    {
     "data": {
      "text/plain": [
       "'hai hai'"
      ]
     },
     "execution_count": 59,
     "metadata": {},
     "output_type": "execute_result"
    }
   ],
   "source": [
    "loaded_data['user_input']"
   ]
  },
  {
   "cell_type": "code",
   "execution_count": 60,
   "metadata": {},
   "outputs": [
    {
     "data": {
      "text/plain": [
       "1000"
      ]
     },
     "execution_count": 60,
     "metadata": {},
     "output_type": "execute_result"
    }
   ],
   "source": [
    "1000"
   ]
  },
  {
   "cell_type": "code",
   "execution_count": 61,
   "metadata": {},
   "outputs": [
    {
     "data": {
      "text/plain": [
       "'1000'"
      ]
     },
     "execution_count": 61,
     "metadata": {},
     "output_type": "execute_result"
    }
   ],
   "source": [
    "str(1000)"
   ]
  },
  {
   "cell_type": "code",
   "execution_count": 62,
   "metadata": {},
   "outputs": [
    {
     "data": {
      "text/plain": [
       "1000"
      ]
     },
     "execution_count": 62,
     "metadata": {},
     "output_type": "execute_result"
    }
   ],
   "source": [
    "int(str(1000))"
   ]
  },
  {
   "cell_type": "code",
   "execution_count": 63,
   "metadata": {},
   "outputs": [
    {
     "data": {
      "text/plain": [
       "'pas foto'"
      ]
     },
     "execution_count": 63,
     "metadata": {},
     "output_type": "execute_result"
    }
   ],
   "source": [
    "le.classes_[int(str(10))]"
   ]
  },
  {
   "cell_type": "code",
   "execution_count": 64,
   "metadata": {},
   "outputs": [
    {
     "data": {
      "text/plain": [
       "<tf.Tensor: shape=(8,), dtype=int64, numpy=array([153,   0,   0,   0,   0,   0,   0,   0], dtype=int64)>"
      ]
     },
     "execution_count": 64,
     "metadata": {},
     "output_type": "execute_result"
    }
   ],
   "source": [
    "textvect('loker')"
   ]
  },
  {
   "cell_type": "code",
   "execution_count": 65,
   "metadata": {},
   "outputs": [
    {
     "name": "stdout",
     "output_type": "stream",
     "text": [
      "Curriculum Vitae (CV) wajib diupload bersama dokumen lain ya, Kak. Isi CV bisa mengikuti contoh-contoh yang ada di internet dan tidak lebih dari 1 halaman serta berukuran tidak lebih dari 1 MB.\n"
     ]
    }
   ],
   "source": [
    "user_input = 'apa kualifikasi engineer'\n",
    "clean_input = clean_text(user_input)\n",
    "pred = model.predict([clean_input]).argmax()\n",
    "if textvect(clean_input).numpy().max() <= 1:\n",
    "    label_idx = 1000\n",
    "else:\n",
    "    label_idx = pred \n",
    "if label_idx != 1000:\n",
    "    i = 0\n",
    "    while i < len(intent_json['intents']):\n",
    "        if le.classes_[label_idx] == intent_json['intents'][i]['intent'] and (le.classes_[label_idx] != 'responsibilities' or le.classes_[label_idx] != 'qualification'):\n",
    "            response = intent_json['intents'][i]['response']\n",
    "            break\n",
    "        elif le.classes_[label_idx] == 'responsibilities':\n",
    "            if any(x in clean_input for x in ['scientist', 'ds']):\n",
    "                response = [\"Berikut adalah tanggung jawab yang akan diberikan untuk posisi Data Scientist:\\n- Merancang dan mengembangkan berbagai solusi Machine Learning dan Deep Learning untuk meningkatkan pengalaman pengguna bagi konsumen\\n- Berkolaborasi dengan seluruh elemen bisnis dan bertanggung jawab untuk merencanakan solusi end-to-end berbasis data untuk menyelesaikan permasalahan bisnis\\n- Menjadi thinking partner bagi stakeholder lain untuk memperbaiki alur perjalanan data dan penggunaannya dalam operasional perusahaan, misal merancang proses feedback-loop atau human-in-the-loop untuk meningkatkan performa model secara berkelanjutan\"]\n",
    "                break\n",
    "            elif any(x in clean_input for x in ['engineer', 'de']):\n",
    "                response = [\"Berikut adalah tanggung jawab yang akan diberikan untuk posisi Data Engineer:\\n- Membangun dan menjaga end-to-end data pipeline dari input dan output heterogen\\n- Menangani dan mengelola data warehouse\\n- Membantu tim mentransformasikan data (ETL) dan mengembangkan proses ETL dari beberapa sumber\\n- Menganalisis dan mengorganisir data mentah \\n- Memastikan kualitas data dan integrasi data\"]\n",
    "                break\n",
    "            elif any(x in clean_input for x in ['analyst', 'da', 'analis']):\n",
    "                response = [\"Berikut adalah tanggung jawab yang akan diberikan untuk posisi Data Analyst:\\n- Mengumpulkan dan menyediakan data untuk membantu stakeholder lain meningkatkan metrik bisnis perusahaan dan retensi pelanggan\\n- Menganalisis data untuk menemukan insight yang dapat ditindaklanjuti seperti membuat funnel conversion analysis, cohort analysis, long-term trends, user segmentation, dan dapat membantu meningkatkan kinerja perusahaan dan mendukung pengambilan keputusan yang lebih baik\\n - Mengidentifikasi kebutuhan dan peluang bisnis berdasarkan data yang tersedia\"]\n",
    "                break\n",
    "        elif le.classes_[label_idx] == 'qualification':\n",
    "            if any(x in clean_input for x in ['scientist', 'ds']):\n",
    "                response = [\"Untuk posisi Data Scientist ada beberapa kualifikasi yang harus dipenuhi:\\n1. Memiliki gelar sarjana di bidang informatika, ilmu komputer, statistika, matematika, atau bidang lain yang berhubungan\\n2. Memiliki pemahaman mendasar tentang Statistika Analitik, Machine Learning, Deep Learning untuk menyelesaikan permasalahan bisnis\\n3. Memiliki pengalaman kerja di bidang Data Science selama 1-3 tahun\\n4. Memiliki pemahaman dan pengalaman tentang Big Data\\n5. Memiliki kemampuan bekerja sama, kepemimpinan, dan problem solving yang baik\"]\n",
    "                break\n",
    "            elif any(x in clean_input for x in ['engineer', 'de']):\n",
    "                response = [\"Untuk posisi Data Engineer ada beberapa kualifikasi yang harus dipenuhi:\\n1. Memiliki gelar sarjana di bidang informatika, ilmu komputer, statistika, matematika, atau bidang lain yang berhubungan\\n2. Memiliki pengalaman bekerja dengan tools untuk ETL seperti AWS Glue, SSIS, Informatica, dll.\\n3. Memiliki pengalaman kerja di bidang Data Engineer selama 1-3 tahun\\n4. Memiliki pemahaman yang baik tentang ETL, SQL, dan noSQL\\n5. Memiliki kemampuan bekerja sama, kepemimpinan, dan problem solving yang baik\"]\n",
    "                break\n",
    "            elif any(x in clean_input for x in ['analyst', 'da', 'analis']):\n",
    "                response = [\"Untuk posisi Data Analyst ada beberapa kualifikasi yang harus dipenuhi:\\n1. Memiliki gelar sarjana di bidang informatika, ilmu komputer, statistika, matematika, atau bidang lain yang berhubungan\\n2. Memiliki pemahaman mendasar tentang Statistika Analitik dan Inferensial untuk mencari peluang bisnis\\n3. Memiliki pengalaman kerja di bidang Data Analyst selama 1-3 tahun\\n4. Memiliki pemahaman dan pengalaman tentang Big Data serta visualisasi dengan tools seperti Power BI, Tableau, dll.\\n5. Memiliki kemampuan bekerja sama, kepemimpinan, dan problem solving yang baik\"]\n",
    "                break\n",
    "        else:\n",
    "            i+=1\n",
    "else:\n",
    "    response = ['Maaf, Kak. Aku tidak mengerti chatnya...']\n",
    "\n",
    "print(np.random.choice(response))"
   ]
  },
  {
   "cell_type": "code",
   "execution_count": 66,
   "metadata": {},
   "outputs": [
    {
     "data": {
      "text/plain": [
       "'CV'"
      ]
     },
     "execution_count": 66,
     "metadata": {},
     "output_type": "execute_result"
    }
   ],
   "source": [
    "le.classes_[label_idx]"
   ]
  }
 ],
 "metadata": {
  "interpreter": {
   "hash": "87147628ceb55968efe4bb59da7a0e7c4394b9758046b539c4601b1e67cb397e"
  },
  "kernelspec": {
   "display_name": "Python 3.9.12 64-bit",
   "language": "python",
   "name": "python3"
  },
  "language_info": {
   "codemirror_mode": {
    "name": "ipython",
    "version": 3
   },
   "file_extension": ".py",
   "mimetype": "text/x-python",
   "name": "python",
   "nbconvert_exporter": "python",
   "pygments_lexer": "ipython3",
   "version": "3.9.12"
  },
  "orig_nbformat": 4
 },
 "nbformat": 4,
 "nbformat_minor": 2
}
