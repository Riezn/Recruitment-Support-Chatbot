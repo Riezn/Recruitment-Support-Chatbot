{
 "cells": [
  {
   "cell_type": "markdown",
   "metadata": {},
   "source": [
    "# Chatbot Modeling"
   ]
  },
  {
   "cell_type": "markdown",
   "metadata": {},
   "source": [
    "## Import Libs"
   ]
  },
  {
   "cell_type": "code",
   "execution_count": 1,
   "metadata": {},
   "outputs": [
    {
     "name": "stderr",
     "output_type": "stream",
     "text": [
      "[nltk_data] Downloading package punkt to\n",
      "[nltk_data]     C:\\Users\\ASUS\\AppData\\Roaming\\nltk_data...\n",
      "[nltk_data]   Package punkt is already up-to-date!\n"
     ]
    },
    {
     "data": {
      "text/plain": [
       "True"
      ]
     },
     "execution_count": 1,
     "metadata": {},
     "output_type": "execute_result"
    }
   ],
   "source": [
    "# General\n",
    "import json\n",
    "import string\n",
    "import pickle\n",
    "import numpy as np\n",
    "import pandas as pd\n",
    "\n",
    "# Preprocessing\n",
    "from sklearn.preprocessing import LabelEncoder\n",
    "\n",
    "# Deep Learning\n",
    "import tensorflow as tf\n",
    "\n",
    "# Word Preprocessing\n",
    "from Sastrawi.Stemmer.StemmerFactory import StemmerFactory\n",
    "from Sastrawi.StopWordRemover.StopWordRemoverFactory import StopWordRemoverFactory\n",
    "import nltk\n",
    "from nltk.tokenize import word_tokenize\n",
    "nltk.download('punkt') # Only needed for first time usage of NLTK"
   ]
  },
  {
   "cell_type": "markdown",
   "metadata": {},
   "source": [
    "## Load Files for Preprocessing and Modeling"
   ]
  },
  {
   "cell_type": "markdown",
   "metadata": {},
   "source": [
    "### Intent"
   ]
  },
  {
   "cell_type": "code",
   "execution_count": 2,
   "metadata": {},
   "outputs": [],
   "source": [
    "# Load json file\n",
    "f = open('intent/intent.json', 'r')\n",
    "intent_json = json.load(f)"
   ]
  },
  {
   "cell_type": "code",
   "execution_count": 3,
   "metadata": {},
   "outputs": [],
   "source": [
    "# Create list from json\n",
    "input = []\n",
    "intent = []\n",
    "\n",
    "for i in range(len(intent_json['intents'])):\n",
    "    for user_input in intent_json['intents'][i]['input']:\n",
    "        input.append(user_input)\n",
    "        intent.append(intent_json['intents'][i]['intent'])"
   ]
  },
  {
   "cell_type": "code",
   "execution_count": 4,
   "metadata": {},
   "outputs": [
    {
     "data": {
      "text/html": [
       "<div>\n",
       "<style scoped>\n",
       "    .dataframe tbody tr th:only-of-type {\n",
       "        vertical-align: middle;\n",
       "    }\n",
       "\n",
       "    .dataframe tbody tr th {\n",
       "        vertical-align: top;\n",
       "    }\n",
       "\n",
       "    .dataframe thead th {\n",
       "        text-align: right;\n",
       "    }\n",
       "</style>\n",
       "<table border=\"1\" class=\"dataframe\">\n",
       "  <thead>\n",
       "    <tr style=\"text-align: right;\">\n",
       "      <th></th>\n",
       "      <th>input</th>\n",
       "      <th>intent</th>\n",
       "    </tr>\n",
       "  </thead>\n",
       "  <tbody>\n",
       "    <tr>\n",
       "      <th>0</th>\n",
       "      <td>halo</td>\n",
       "      <td>sapa</td>\n",
       "    </tr>\n",
       "    <tr>\n",
       "      <th>1</th>\n",
       "      <td>hei</td>\n",
       "      <td>sapa</td>\n",
       "    </tr>\n",
       "    <tr>\n",
       "      <th>2</th>\n",
       "      <td>hey</td>\n",
       "      <td>sapa</td>\n",
       "    </tr>\n",
       "    <tr>\n",
       "      <th>3</th>\n",
       "      <td>hello</td>\n",
       "      <td>sapa</td>\n",
       "    </tr>\n",
       "    <tr>\n",
       "      <th>4</th>\n",
       "      <td>hallo</td>\n",
       "      <td>sapa</td>\n",
       "    </tr>\n",
       "  </tbody>\n",
       "</table>\n",
       "</div>"
      ],
      "text/plain": [
       "   input intent\n",
       "0   halo   sapa\n",
       "1    hei   sapa\n",
       "2    hey   sapa\n",
       "3  hello   sapa\n",
       "4  hallo   sapa"
      ]
     },
     "execution_count": 4,
     "metadata": {},
     "output_type": "execute_result"
    }
   ],
   "source": [
    "# Create dataframe from json\n",
    "df = pd.DataFrame({\n",
    "    'input': input,\n",
    "    'intent' : intent\n",
    "    # 'response' : response\n",
    "})\n",
    "df.head()"
   ]
  },
  {
   "cell_type": "markdown",
   "metadata": {},
   "source": [
    "### Stopwords"
   ]
  },
  {
   "cell_type": "code",
   "execution_count": 5,
   "metadata": {},
   "outputs": [],
   "source": [
    "# Define stemmer and stopword\n",
    "factory = StemmerFactory()\n",
    "stemmer = factory.create_stemmer()\n",
    "\n",
    "factory = StopWordRemoverFactory()\n",
    "stopwords = factory.get_stop_words()"
   ]
  },
  {
   "cell_type": "code",
   "execution_count": 6,
   "metadata": {},
   "outputs": [],
   "source": [
    "stopwords.remove('ok')\n",
    "stopwords.remove('oh')\n",
    "stopwords.remove('tidak')\n",
    "stopwords.remove('ya')"
   ]
  },
  {
   "cell_type": "markdown",
   "metadata": {},
   "source": [
    "### Slang"
   ]
  },
  {
   "cell_type": "code",
   "execution_count": 7,
   "metadata": {},
   "outputs": [],
   "source": [
    "# slang = pd.read_csv('lexicon/slang ke semi baku.csv')\n",
    "\n",
    "# slang_replace = {}\n",
    "# for i, row in enumerate(slang['slang']):\n",
    "#     slang_replace[row] = slang['formal'].iloc[i]"
   ]
  },
  {
   "cell_type": "code",
   "execution_count": 8,
   "metadata": {},
   "outputs": [],
   "source": [
    "# baku = pd.read_csv('lexicon/slang ke baku.csv')\n",
    "\n",
    "# std_word_replace = {}\n",
    "# for i, row in enumerate(baku['slang']):\n",
    "#     std_word_replace[row] = baku['baku'].iloc[i]"
   ]
  },
  {
   "cell_type": "code",
   "execution_count": 9,
   "metadata": {},
   "outputs": [],
   "source": [
    "baku = pd.read_csv('lexicon/baku.csv')"
   ]
  },
  {
   "cell_type": "code",
   "execution_count": 10,
   "metadata": {},
   "outputs": [],
   "source": [
    "std_word_replace = {}\n",
    "for i, row in enumerate(baku['slang']):\n",
    "    std_word_replace[row] = baku['baku'].iloc[i]"
   ]
  },
  {
   "cell_type": "code",
   "execution_count": 11,
   "metadata": {},
   "outputs": [
    {
     "data": {
      "text/plain": [
       "'tidak'"
      ]
     },
     "execution_count": 11,
     "metadata": {},
     "output_type": "execute_result"
    }
   ],
   "source": [
    "std_word_replace['gak']"
   ]
  },
  {
   "cell_type": "markdown",
   "metadata": {},
   "source": [
    "## Preprocessing"
   ]
  },
  {
   "cell_type": "code",
   "execution_count": 12,
   "metadata": {},
   "outputs": [],
   "source": [
    "# Create text cleaning function\n",
    "def clean_text(text):\n",
    "    new_text = []\n",
    "    text = text.lower() # Lowercase\n",
    "    # Loop each word in a sentence\n",
    "    for kata in text.split(): \n",
    "        # Keep word not in slang or standard word\n",
    "        if kata not in std_word_replace: \n",
    "            new_text.append(kata) \n",
    "        # Replace non-formal word with standard word\n",
    "        elif kata in std_word_replace:\n",
    "            new_text+=std_word_replace[kata].split() \n",
    "    # Join words without stopwords after stemming\n",
    "    new_text = ' '.join(\n",
    "        stemmer.stem(word) for word in new_text if word not in stopwords\n",
    "    )\n",
    "    # Remove punctuations\n",
    "    text = text.translate(str.maketrans('', '', string.punctuation))\n",
    "    return new_text"
   ]
  },
  {
   "cell_type": "code",
   "execution_count": 13,
   "metadata": {},
   "outputs": [
    {
     "data": {
      "text/plain": [
       "'aku lapar banget tidak tahu mau makan jeruk apa tiru deh lamar'"
      ]
     },
     "execution_count": 13,
     "metadata": {},
     "output_type": "execute_result"
    }
   ],
   "source": [
    "kalimat = 'Aku laper banget gatau maunya makan jeruk apa lagi meniru-niru... daah ngelamar'\n",
    "clean_text(kalimat)"
   ]
  },
  {
   "cell_type": "code",
   "execution_count": 14,
   "metadata": {},
   "outputs": [
    {
     "data": {
      "text/plain": [
       "0     halo\n",
       "1      hei\n",
       "2      hai\n",
       "3    hello\n",
       "4     halo\n",
       "Name: clean_input, dtype: object"
      ]
     },
     "execution_count": 14,
     "metadata": {},
     "output_type": "execute_result"
    }
   ],
   "source": [
    "df['clean_input'] = df['input'].apply(clean_text)\n",
    "df['clean_input'].head()"
   ]
  },
  {
   "cell_type": "markdown",
   "metadata": {},
   "source": [
    "## Create Corpus"
   ]
  },
  {
   "cell_type": "code",
   "execution_count": 15,
   "metadata": {},
   "outputs": [],
   "source": [
    "# Create corpus\n",
    "words = set([\n",
    "    word for word in df['clean_input'] for word in word_tokenize(word)\n",
    "    ]\n",
    ")"
   ]
  },
  {
   "cell_type": "code",
   "execution_count": 16,
   "metadata": {},
   "outputs": [],
   "source": [
    "corpus_size = len(words)"
   ]
  },
  {
   "cell_type": "code",
   "execution_count": 17,
   "metadata": {},
   "outputs": [],
   "source": [
    "# Calculate word length of each row\n",
    "df['length'] = df['clean_input'].apply(word_tokenize).apply(len)"
   ]
  },
  {
   "cell_type": "code",
   "execution_count": 18,
   "metadata": {},
   "outputs": [],
   "source": [
    "sequence_length = int(round(df['length'].max(),0))"
   ]
  },
  {
   "cell_type": "code",
   "execution_count": 19,
   "metadata": {},
   "outputs": [
    {
     "data": {
      "text/plain": [
       "(352, 8)"
      ]
     },
     "execution_count": 19,
     "metadata": {},
     "output_type": "execute_result"
    }
   ],
   "source": [
    "corpus_size, sequence_length"
   ]
  },
  {
   "cell_type": "markdown",
   "metadata": {},
   "source": [
    "## Label Encoding"
   ]
  },
  {
   "cell_type": "code",
   "execution_count": 20,
   "metadata": {},
   "outputs": [],
   "source": [
    "# Label encoding\n",
    "le = LabelEncoder()\n",
    "y_train = le.fit_transform(df['intent'])\n",
    "y_train = tf.keras.utils.to_categorical(y_train)"
   ]
  },
  {
   "cell_type": "code",
   "execution_count": 21,
   "metadata": {},
   "outputs": [
    {
     "data": {
      "text/plain": [
       "array(['CV', 'biaya', 'daftar', 'dokumen', 'error upload', 'ktp',\n",
       "       'link sosmed', 'lowongan', 'lupa password', 'nama', 'pas foto',\n",
       "       'pengantar', 'penutup', 'qualification', 'responsibilities',\n",
       "       'salary', 'sapa', 'sertifikat', 'skck', 'timeline', 'training',\n",
       "       'transkrip-ijazah'], dtype=object)"
      ]
     },
     "execution_count": 21,
     "metadata": {},
     "output_type": "execute_result"
    }
   ],
   "source": [
    "le.classes_"
   ]
  },
  {
   "cell_type": "code",
   "execution_count": 22,
   "metadata": {},
   "outputs": [
    {
     "data": {
      "text/plain": [
       "22"
      ]
     },
     "execution_count": 22,
     "metadata": {},
     "output_type": "execute_result"
    }
   ],
   "source": [
    "len(le.classes_)"
   ]
  },
  {
   "cell_type": "markdown",
   "metadata": {},
   "source": [
    "## Modeling"
   ]
  },
  {
   "cell_type": "markdown",
   "metadata": {},
   "source": [
    "### Text Vectorization"
   ]
  },
  {
   "cell_type": "code",
   "execution_count": 23,
   "metadata": {},
   "outputs": [],
   "source": [
    "textvect = tf.keras.layers.TextVectorization(\n",
    "    max_tokens=corpus_size,\n",
    "    standardize='lower_and_strip_punctuation',\n",
    "    split='whitespace',\n",
    "    ngrams=None,\n",
    "    output_mode='int',\n",
    "    output_sequence_length=sequence_length\n",
    ")\n",
    "textvect.adapt(df['clean_input'])"
   ]
  },
  {
   "cell_type": "code",
   "execution_count": 24,
   "metadata": {},
   "outputs": [
    {
     "data": {
      "text/plain": [
       "<tf.Tensor: shape=(8,), dtype=int64, numpy=array([22, 12, 11,  0,  0,  0,  0,  0], dtype=int64)>"
      ]
     },
     "execution_count": 24,
     "metadata": {},
     "output_type": "execute_result"
    }
   ],
   "source": [
    "tes = 'saya mau daftar rekrutmen'\n",
    "textvect(clean_text(tes))"
   ]
  },
  {
   "cell_type": "markdown",
   "metadata": {},
   "source": [
    "### Word Embedding"
   ]
  },
  {
   "cell_type": "code",
   "execution_count": 25,
   "metadata": {},
   "outputs": [],
   "source": [
    "embedding = tf.keras.layers.Embedding(\n",
    "    input_dim=corpus_size,\n",
    "    output_dim=16,\n",
    "    input_length=sequence_length,\n",
    "    embeddings_initializer='uniform'\n",
    ")"
   ]
  },
  {
   "cell_type": "code",
   "execution_count": 26,
   "metadata": {},
   "outputs": [
    {
     "data": {
      "text/plain": [
       "<tf.Tensor: shape=(8, 16), dtype=float32, numpy=\n",
       "array([[-0.00431864, -0.00600551,  0.04074701, -0.03494113, -0.02862122,\n",
       "         0.03925189, -0.01519897,  0.03140778,  0.04204262,  0.03446306,\n",
       "        -0.01218202,  0.0471083 , -0.04838435,  0.02143338,  0.0086353 ,\n",
       "         0.04718659],\n",
       "       [-0.01082016,  0.03313905,  0.01812093, -0.02978057, -0.0409055 ,\n",
       "         0.04579781,  0.00854098,  0.00857363,  0.04625325,  0.04924398,\n",
       "        -0.04154586,  0.03287314,  0.00188011,  0.03037728, -0.00063781,\n",
       "        -0.02044158],\n",
       "       [ 0.00138515,  0.04211135,  0.04754808, -0.01087421, -0.02151618,\n",
       "         0.04651405, -0.00453151, -0.048998  , -0.04395633,  0.02800468,\n",
       "        -0.02774354,  0.02561859, -0.00235011, -0.00193802, -0.01057472,\n",
       "        -0.02505268],\n",
       "       [ 0.00180967, -0.00501917, -0.03107287,  0.02208437,  0.02426105,\n",
       "         0.01398769,  0.02986543, -0.02855657,  0.00790197, -0.00058115,\n",
       "        -0.01238186, -0.0148887 ,  0.0128679 ,  0.0274126 ,  0.02289916,\n",
       "         0.01988527],\n",
       "       [ 0.00180967, -0.00501917, -0.03107287,  0.02208437,  0.02426105,\n",
       "         0.01398769,  0.02986543, -0.02855657,  0.00790197, -0.00058115,\n",
       "        -0.01238186, -0.0148887 ,  0.0128679 ,  0.0274126 ,  0.02289916,\n",
       "         0.01988527],\n",
       "       [ 0.00180967, -0.00501917, -0.03107287,  0.02208437,  0.02426105,\n",
       "         0.01398769,  0.02986543, -0.02855657,  0.00790197, -0.00058115,\n",
       "        -0.01238186, -0.0148887 ,  0.0128679 ,  0.0274126 ,  0.02289916,\n",
       "         0.01988527],\n",
       "       [ 0.00180967, -0.00501917, -0.03107287,  0.02208437,  0.02426105,\n",
       "         0.01398769,  0.02986543, -0.02855657,  0.00790197, -0.00058115,\n",
       "        -0.01238186, -0.0148887 ,  0.0128679 ,  0.0274126 ,  0.02289916,\n",
       "         0.01988527],\n",
       "       [ 0.00180967, -0.00501917, -0.03107287,  0.02208437,  0.02426105,\n",
       "         0.01398769,  0.02986543, -0.02855657,  0.00790197, -0.00058115,\n",
       "        -0.01238186, -0.0148887 ,  0.0128679 ,  0.0274126 ,  0.02289916,\n",
       "         0.01988527]], dtype=float32)>"
      ]
     },
     "execution_count": 26,
     "metadata": {},
     "output_type": "execute_result"
    }
   ],
   "source": [
    "embedding(textvect(clean_text(tes)))"
   ]
  },
  {
   "cell_type": "markdown",
   "metadata": {},
   "source": [
    "### Layering"
   ]
  },
  {
   "cell_type": "code",
   "execution_count": 27,
   "metadata": {},
   "outputs": [],
   "source": [
    "# Create model\n",
    "input = tf.keras.layers.Input(shape=(1,), dtype='string')\n",
    "hidden_layer = textvect(input)\n",
    "hidden_layer = embedding(hidden_layer)\n",
    "hidden_layer = tf.keras.layers.Bidirectional(tf.keras.layers.LSTM(16))(hidden_layer)\n",
    "output = tf.keras.layers.Dense(len(le.classes_), activation='softmax')(hidden_layer)\n",
    "model = tf.keras.Model(inputs=input, outputs=output)\n",
    "\n",
    "# Compile model\n",
    "model.compile(\n",
    "    optimizer='adam',\n",
    "    loss='categorical_crossentropy',\n",
    "    metrics=['categorical_accuracy']\n",
    ")"
   ]
  },
  {
   "cell_type": "markdown",
   "metadata": {},
   "source": [
    "### Training"
   ]
  },
  {
   "cell_type": "code",
   "execution_count": 28,
   "metadata": {},
   "outputs": [
    {
     "data": {
      "text/html": [
       "<div>\n",
       "<style scoped>\n",
       "    .dataframe tbody tr th:only-of-type {\n",
       "        vertical-align: middle;\n",
       "    }\n",
       "\n",
       "    .dataframe tbody tr th {\n",
       "        vertical-align: top;\n",
       "    }\n",
       "\n",
       "    .dataframe thead th {\n",
       "        text-align: right;\n",
       "    }\n",
       "</style>\n",
       "<table border=\"1\" class=\"dataframe\">\n",
       "  <thead>\n",
       "    <tr style=\"text-align: right;\">\n",
       "      <th></th>\n",
       "      <th>loss</th>\n",
       "      <th>categorical_accuracy</th>\n",
       "    </tr>\n",
       "  </thead>\n",
       "  <tbody>\n",
       "    <tr>\n",
       "      <th>95</th>\n",
       "      <td>0.032032</td>\n",
       "      <td>0.998168</td>\n",
       "    </tr>\n",
       "    <tr>\n",
       "      <th>96</th>\n",
       "      <td>0.029016</td>\n",
       "      <td>0.998168</td>\n",
       "    </tr>\n",
       "    <tr>\n",
       "      <th>97</th>\n",
       "      <td>0.025745</td>\n",
       "      <td>1.000000</td>\n",
       "    </tr>\n",
       "    <tr>\n",
       "      <th>98</th>\n",
       "      <td>0.025300</td>\n",
       "      <td>1.000000</td>\n",
       "    </tr>\n",
       "    <tr>\n",
       "      <th>99</th>\n",
       "      <td>0.024718</td>\n",
       "      <td>1.000000</td>\n",
       "    </tr>\n",
       "  </tbody>\n",
       "</table>\n",
       "</div>"
      ],
      "text/plain": [
       "        loss  categorical_accuracy\n",
       "95  0.032032              0.998168\n",
       "96  0.029016              0.998168\n",
       "97  0.025745              1.000000\n",
       "98  0.025300              1.000000\n",
       "99  0.024718              1.000000"
      ]
     },
     "execution_count": 28,
     "metadata": {},
     "output_type": "execute_result"
    }
   ],
   "source": [
    "hist = model.fit(df['clean_input'], y_train, epochs=100, verbose=0)\n",
    "pd.DataFrame(hist.history).tail()"
   ]
  },
  {
   "cell_type": "markdown",
   "metadata": {},
   "source": [
    "### Evaluating Model"
   ]
  },
  {
   "cell_type": "code",
   "execution_count": 29,
   "metadata": {},
   "outputs": [
    {
     "name": "stdout",
     "output_type": "stream",
     "text": [
      "18/18 [==============================] - 2s 3ms/step - loss: 0.0235 - categorical_accuracy: 1.0000\n"
     ]
    },
    {
     "data": {
      "text/plain": [
       "[0.023468678817152977, 1.0]"
      ]
     },
     "execution_count": 29,
     "metadata": {},
     "output_type": "execute_result"
    }
   ],
   "source": [
    "model.evaluate(df['clean_input'], y_train)"
   ]
  },
  {
   "cell_type": "code",
   "execution_count": 30,
   "metadata": {},
   "outputs": [
    {
     "name": "stdout",
     "output_type": "stream",
     "text": [
      "                  precision    recall  f1-score   support\n",
      "\n",
      "              CV       1.00      1.00      1.00        12\n",
      "           biaya       1.00      1.00      1.00        28\n",
      "          daftar       1.00      1.00      1.00        22\n",
      "         dokumen       1.00      1.00      1.00        23\n",
      "    error upload       1.00      1.00      1.00        13\n",
      "             ktp       1.00      1.00      1.00        17\n",
      "     link sosmed       1.00      1.00      1.00        38\n",
      "        lowongan       1.00      1.00      1.00        17\n",
      "   lupa password       1.00      1.00      1.00        24\n",
      "            nama       1.00      1.00      1.00         9\n",
      "        pas foto       1.00      1.00      1.00        23\n",
      "       pengantar       1.00      1.00      1.00        16\n",
      "         penutup       1.00      1.00      1.00        48\n",
      "   qualification       1.00      1.00      1.00        21\n",
      "responsibilities       1.00      1.00      1.00        33\n",
      "          salary       1.00      1.00      1.00        38\n",
      "            sapa       1.00      1.00      1.00        21\n",
      "      sertifikat       1.00      1.00      1.00        14\n",
      "            skck       1.00      1.00      1.00        16\n",
      "        timeline       1.00      1.00      1.00        53\n",
      "        training       1.00      1.00      1.00        28\n",
      "transkrip-ijazah       1.00      1.00      1.00        32\n",
      "\n",
      "        accuracy                           1.00       546\n",
      "       macro avg       1.00      1.00      1.00       546\n",
      "    weighted avg       1.00      1.00      1.00       546\n",
      "\n"
     ]
    }
   ],
   "source": [
    "y_train_df = pd.DataFrame(y_train, columns=le.classes_)\n",
    "y_train_df['intent'] = y_train_df.idxmax(axis=1)\n",
    "\n",
    "model_pred = model.predict(df['clean_input'])\n",
    "model_pred = pd.DataFrame(model_pred, columns=le.classes_)\n",
    "model_pred['intent'] = model_pred.idxmax(axis=1)\n",
    "\n",
    "from sklearn.metrics import classification_report\n",
    "print(classification_report(y_train_df['intent'], model_pred['intent']))"
   ]
  },
  {
   "cell_type": "markdown",
   "metadata": {},
   "source": [
    "### Function Covering End-to-End Process"
   ]
  },
  {
   "cell_type": "code",
   "execution_count": 31,
   "metadata": {},
   "outputs": [],
   "source": [
    "def bot_response(text):\n",
    "    \"\"\"Take text as function input then predict using model. Return response based on highest probability using numpy argmax    \n",
    "    \"\"\"\n",
    "    text = clean_text(text)\n",
    "    pred = model.predict([text])\n",
    "    res = le.classes_[pred.argmax()] # Get the index with highest probability\n",
    "    i = 0\n",
    "    try:\n",
    "        if textvect(text).numpy().max() > 1: # If the input is known word(s)\n",
    "            while i < len(intent_json['intents']):\n",
    "                if res == intent_json['intents'][i]['intent']:\n",
    "                    response = intent_json['intents'][i]['response']\n",
    "                    break\n",
    "                else:\n",
    "                    i+=1\n",
    "        else: # If only unknown word(s)\n",
    "            response = ['Maaf, Kak. Aku tidak mengerti...']\n",
    "    except: # If empty string or any error occured\n",
    "        response = ['Maaf, Kak. Aku tidak mengerti...']\n",
    "\n",
    "    # For debugging only\n",
    "    dict_temp = []\n",
    "    for i in range(len(pred[0])):\n",
    "        temp = {le.classes_[i]: pred[0][i]}\n",
    "        dict_temp.append(temp)\n",
    "    print(dict_temp)\n",
    "    print(le.classes_[pred.argmax()])\n",
    "\n",
    "    return print(np.random.choice(response))"
   ]
  },
  {
   "cell_type": "code",
   "execution_count": 32,
   "metadata": {},
   "outputs": [
    {
     "data": {
      "text/plain": [
       "'aku mau daftar rekrutmen'"
      ]
     },
     "execution_count": 32,
     "metadata": {},
     "output_type": "execute_result"
    }
   ],
   "source": [
    "tes1 = 'aku mau daftar rekrutmen'\n",
    "clean_text(tes1)"
   ]
  },
  {
   "cell_type": "code",
   "execution_count": 33,
   "metadata": {},
   "outputs": [
    {
     "data": {
      "text/plain": [
       "array([[3.6499318e-06, 2.0937042e-04, 9.5738101e-01, 2.6261874e-03,\n",
       "        1.7256076e-06, 1.4831529e-04, 5.6147121e-05, 1.7104638e-04,\n",
       "        2.5318521e-05, 9.2375744e-04, 1.9316751e-04, 3.4116172e-06,\n",
       "        3.6567333e-06, 3.7070073e-02, 7.1733035e-07, 5.5122467e-08,\n",
       "        1.6145184e-04, 6.9911883e-05, 4.1101598e-06, 8.1579637e-04,\n",
       "        1.8741899e-05, 1.1232085e-04]], dtype=float32)"
      ]
     },
     "execution_count": 33,
     "metadata": {},
     "output_type": "execute_result"
    }
   ],
   "source": [
    "model.predict([clean_text(tes1)])"
   ]
  },
  {
   "cell_type": "code",
   "execution_count": 34,
   "metadata": {},
   "outputs": [
    {
     "data": {
      "text/plain": [
       "2"
      ]
     },
     "execution_count": 34,
     "metadata": {},
     "output_type": "execute_result"
    }
   ],
   "source": [
    "model.predict([clean_text(tes1)]).argmax()"
   ]
  },
  {
   "cell_type": "code",
   "execution_count": 35,
   "metadata": {},
   "outputs": [
    {
     "data": {
      "text/plain": [
       "'daftar'"
      ]
     },
     "execution_count": 35,
     "metadata": {},
     "output_type": "execute_result"
    }
   ],
   "source": [
    "le.classes_[model.predict([clean_text(tes1)]).argmax()]"
   ]
  },
  {
   "cell_type": "code",
   "execution_count": 36,
   "metadata": {},
   "outputs": [
    {
     "data": {
      "text/plain": [
       "True"
      ]
     },
     "execution_count": 36,
     "metadata": {},
     "output_type": "execute_result"
    }
   ],
   "source": [
    "le.classes_[model.predict([clean_text(tes1)]).argmax()] == intent_json['intents'][2]['intent']"
   ]
  },
  {
   "cell_type": "code",
   "execution_count": 37,
   "metadata": {},
   "outputs": [
    {
     "data": {
      "text/plain": [
       "['Untuk mengikuti rekrutmen ini, mohon ikuti langkah berikut ya, Kak:\\n1. Baca tata cara melamar di https://rekrutmen.fiktif.id/tatacara\\n2. Buat akun di https://rekrutmen.fiktif.id/registrasi menggunakan alamat email dan nomor telepon aktif milik pribadi\\n3. Lengkapi formulir pendaftaran dan upload seluruh dokumen yang dibutuhkan dan tunggu pengumuman tahap berikutnya di https://rekrutmen.fiktif.id/news atau email masing-masing']"
      ]
     },
     "execution_count": 37,
     "metadata": {},
     "output_type": "execute_result"
    }
   ],
   "source": [
    "intent_json['intents'][2]['response']"
   ]
  },
  {
   "cell_type": "code",
   "execution_count": 38,
   "metadata": {},
   "outputs": [
    {
     "name": "stdout",
     "output_type": "stream",
     "text": [
      "[{'CV': 3.6499318e-06}, {'biaya': 0.00020937042}, {'daftar': 0.957381}, {'dokumen': 0.0026261874}, {'error upload': 1.7256076e-06}, {'ktp': 0.00014831529}, {'link sosmed': 5.614712e-05}, {'lowongan': 0.00017104638}, {'lupa password': 2.531852e-05}, {'nama': 0.00092375744}, {'pas foto': 0.0001931675}, {'pengantar': 3.4116172e-06}, {'penutup': 3.6567333e-06}, {'qualification': 0.037070073}, {'responsibilities': 7.1733035e-07}, {'salary': 5.5122467e-08}, {'sapa': 0.00016145184}, {'sertifikat': 6.991188e-05}, {'skck': 4.11016e-06}, {'timeline': 0.0008157964}, {'training': 1.87419e-05}, {'transkrip-ijazah': 0.00011232085}]\n",
      "daftar\n",
      "Untuk mengikuti rekrutmen ini, mohon ikuti langkah berikut ya, Kak:\n",
      "1. Baca tata cara melamar di https://rekrutmen.fiktif.id/tatacara\n",
      "2. Buat akun di https://rekrutmen.fiktif.id/registrasi menggunakan alamat email dan nomor telepon aktif milik pribadi\n",
      "3. Lengkapi formulir pendaftaran dan upload seluruh dokumen yang dibutuhkan dan tunggu pengumuman tahap berikutnya di https://rekrutmen.fiktif.id/news atau email masing-masing\n"
     ]
    }
   ],
   "source": [
    "bot_response('aku mau daftar rekrutmen')"
   ]
  },
  {
   "cell_type": "markdown",
   "metadata": {},
   "source": [
    "### Saving Model"
   ]
  },
  {
   "cell_type": "code",
   "execution_count": 39,
   "metadata": {},
   "outputs": [],
   "source": [
    "import pickle\n",
    "pickle.dump(le, open('saved_model/encoder.pkl', 'wb'))"
   ]
  },
  {
   "cell_type": "code",
   "execution_count": 40,
   "metadata": {},
   "outputs": [],
   "source": [
    "pickle.dump({'config': textvect.get_config(),\n",
    "             'weights': textvect.get_weights()}\n",
    "            , open(\"saved_model/textvect.pkl\", \"wb\"))"
   ]
  },
  {
   "cell_type": "code",
   "execution_count": 41,
   "metadata": {},
   "outputs": [
    {
     "name": "stderr",
     "output_type": "stream",
     "text": [
      "WARNING:absl:Found untraced functions such as lstm_cell_1_layer_call_fn, lstm_cell_1_layer_call_and_return_conditional_losses, lstm_cell_2_layer_call_fn, lstm_cell_2_layer_call_and_return_conditional_losses while saving (showing 4 of 4). These functions will not be directly callable after loading.\n"
     ]
    },
    {
     "name": "stdout",
     "output_type": "stream",
     "text": [
      "INFO:tensorflow:Assets written to: saved_model/model\\assets\n"
     ]
    },
    {
     "name": "stderr",
     "output_type": "stream",
     "text": [
      "INFO:tensorflow:Assets written to: saved_model/model\\assets\n",
      "WARNING:absl:<keras.layers.recurrent.LSTMCell object at 0x00000241DDEC4250> has the same name 'LSTMCell' as a built-in Keras object. Consider renaming <class 'keras.layers.recurrent.LSTMCell'> to avoid naming conflicts when loading with `tf.keras.models.load_model`. If renaming is not possible, pass the object in the `custom_objects` parameter of the load function.\n",
      "WARNING:absl:<keras.layers.recurrent.LSTMCell object at 0x00000241DDEE0880> has the same name 'LSTMCell' as a built-in Keras object. Consider renaming <class 'keras.layers.recurrent.LSTMCell'> to avoid naming conflicts when loading with `tf.keras.models.load_model`. If renaming is not possible, pass the object in the `custom_objects` parameter of the load function.\n"
     ]
    }
   ],
   "source": [
    "model.save('saved_model/model', save_traces=True)"
   ]
  },
  {
   "cell_type": "markdown",
   "metadata": {},
   "source": [
    "## Inference"
   ]
  },
  {
   "cell_type": "code",
   "execution_count": 42,
   "metadata": {},
   "outputs": [
    {
     "data": {
      "text/plain": [
       "<tf.Tensor: shape=(8,), dtype=int64, numpy=array([267,   0,   0,   0,   0,   0,   0,   0], dtype=int64)>"
      ]
     },
     "execution_count": 42,
     "metadata": {},
     "output_type": "execute_result"
    }
   ],
   "source": [
    "textvect('ok')"
   ]
  },
  {
   "cell_type": "code",
   "execution_count": 43,
   "metadata": {},
   "outputs": [
    {
     "data": {
      "text/plain": [
       "'ok'"
      ]
     },
     "execution_count": 43,
     "metadata": {},
     "output_type": "execute_result"
    }
   ],
   "source": [
    "clean_text('ok')"
   ]
  },
  {
   "cell_type": "code",
   "execution_count": 44,
   "metadata": {},
   "outputs": [
    {
     "data": {
      "text/plain": [
       "True"
      ]
     },
     "execution_count": 44,
     "metadata": {},
     "output_type": "execute_result"
    }
   ],
   "source": [
    "textvect('ok').numpy().max() > 1"
   ]
  },
  {
   "cell_type": "code",
   "execution_count": 45,
   "metadata": {},
   "outputs": [
    {
     "name": "stdout",
     "output_type": "stream",
     "text": [
      "[{'CV': 0.047842514}, {'biaya': 0.04942192}, {'daftar': 0.08601724}, {'dokumen': 0.010020016}, {'error upload': 0.001243502}, {'ktp': 0.013547988}, {'link sosmed': 0.00034736114}, {'lowongan': 0.43180516}, {'lupa password': 0.026689481}, {'nama': 0.1665461}, {'pas foto': 0.0658423}, {'pengantar': 4.6225792e-05}, {'penutup': 0.00082994235}, {'qualification': 0.045604862}, {'responsibilities': 0.0017073184}, {'salary': 0.0005130706}, {'sapa': 0.011233536}, {'sertifikat': 0.014310752}, {'skck': 0.003714205}, {'timeline': 0.0043190112}, {'training': 0.0002831681}, {'transkrip-ijazah': 0.018114274}]\n",
      "lowongan\n",
      "Maaf, Kak. Aku tidak mengerti...\n"
     ]
    }
   ],
   "source": [
    "bot_response('a')"
   ]
  },
  {
   "cell_type": "code",
   "execution_count": 46,
   "metadata": {},
   "outputs": [
    {
     "name": "stdout",
     "output_type": "stream",
     "text": [
      "[{'CV': 9.3230345e-05}, {'biaya': 0.00041688807}, {'daftar': 1.4174524e-05}, {'dokumen': 0.00028086244}, {'error upload': 5.276974e-08}, {'ktp': 4.4857857e-06}, {'link sosmed': 0.0012552438}, {'lowongan': 6.2103674e-05}, {'lupa password': 4.8935203e-07}, {'nama': 8.971853e-05}, {'pas foto': 1.1903045e-05}, {'pengantar': 0.00014197978}, {'penutup': 0.9900686}, {'qualification': 4.232843e-06}, {'responsibilities': 0.000111525944}, {'salary': 0.00047430245}, {'sapa': 0.00029212565}, {'sertifikat': 1.858246e-07}, {'skck': 4.917968e-06}, {'timeline': 0.0050283424}, {'training': 0.0016361757}, {'transkrip-ijazah': 8.354385e-06}]\n",
      "penutup\n",
      "Terima kasih telah bertanya. Senang bisa membantumu :D\n"
     ]
    }
   ],
   "source": [
    "bot_response('ya')"
   ]
  },
  {
   "cell_type": "code",
   "execution_count": 47,
   "metadata": {},
   "outputs": [
    {
     "data": {
      "text/plain": [
       "('jeruk',\n",
       " <tf.Tensor: shape=(8,), dtype=int64, numpy=array([1, 0, 0, 0, 0, 0, 0, 0], dtype=int64)>)"
      ]
     },
     "execution_count": 47,
     "metadata": {},
     "output_type": "execute_result"
    }
   ],
   "source": [
    "testext = 'jeruk'\n",
    "clean_text(testext), textvect(clean_text(testext))"
   ]
  },
  {
   "cell_type": "code",
   "execution_count": 48,
   "metadata": {},
   "outputs": [
    {
     "data": {
      "text/plain": [
       "False"
      ]
     },
     "execution_count": 48,
     "metadata": {},
     "output_type": "execute_result"
    }
   ],
   "source": [
    "textvect(clean_text('laper pengen makan jeruk')).numpy().max() > 1"
   ]
  },
  {
   "cell_type": "code",
   "execution_count": 49,
   "metadata": {},
   "outputs": [
    {
     "name": "stdout",
     "output_type": "stream",
     "text": [
      "[{'CV': 0.00012652249}, {'biaya': 2.6025142e-05}, {'daftar': 6.9787177e-07}, {'dokumen': 0.0010799901}, {'error upload': 1.4099629e-06}, {'ktp': 2.302944e-05}, {'link sosmed': 0.00041731502}, {'lowongan': 1.24246835e-05}, {'lupa password': 4.5507644e-08}, {'nama': 2.6144748e-05}, {'pas foto': 5.451497e-07}, {'pengantar': 0.00017011147}, {'penutup': 0.99212945}, {'qualification': 2.7802223e-06}, {'responsibilities': 2.3791083e-05}, {'salary': 6.913265e-05}, {'sapa': 1.704399e-05}, {'sertifikat': 3.6298766e-07}, {'skck': 1.4476653e-05}, {'timeline': 0.00012657173}, {'training': 0.0057316255}, {'transkrip-ijazah': 5.481896e-07}]\n",
      "penutup\n",
      "Terima kasih telah bertanya. Senang bisa membantumu :D\n"
     ]
    }
   ],
   "source": [
    "bot_response('oh ok')"
   ]
  },
  {
   "cell_type": "code",
   "execution_count": 50,
   "metadata": {},
   "outputs": [
    {
     "name": "stdout",
     "output_type": "stream",
     "text": [
      "[{'CV': 0.0002414947}, {'biaya': 0.00087421254}, {'daftar': 0.0047578844}, {'dokumen': 0.005162675}, {'error upload': 0.00021321345}, {'ktp': 4.269608e-05}, {'link sosmed': 0.0027397862}, {'lowongan': 0.89379126}, {'lupa password': 0.0036681888}, {'nama': 0.00074775616}, {'pas foto': 0.001782132}, {'pengantar': 2.4382167e-05}, {'penutup': 9.852817e-06}, {'qualification': 0.07416442}, {'responsibilities': 0.00210998}, {'salary': 7.6103825e-05}, {'sapa': 0.0008199398}, {'sertifikat': 0.0024317147}, {'skck': 0.0048006736}, {'timeline': 0.00026628308}, {'training': 7.3127594e-06}, {'transkrip-ijazah': 0.0012680179}]\n",
      "lowongan\n",
      "Saat ini PT Fiktif sedang membuka lowongan untuk posisi Data Analyst, Data Scientist, dan Data Engineer. Yuk daftar lewat https://rekrutmen.fiktif.id/\n"
     ]
    }
   ],
   "source": [
    "bot_response('ada lowongan apa nih di pt fiktif')"
   ]
  },
  {
   "cell_type": "code",
   "execution_count": 51,
   "metadata": {},
   "outputs": [
    {
     "name": "stdout",
     "output_type": "stream",
     "text": [
      "[{'CV': 0.0006396031}, {'biaya': 0.043710046}, {'daftar': 0.001498491}, {'dokumen': 0.00053036015}, {'error upload': 2.9588472e-07}, {'ktp': 1.5209243e-05}, {'link sosmed': 0.0027411818}, {'lowongan': 0.0012655057}, {'lupa password': 0.00039797404}, {'nama': 0.0008609855}, {'pas foto': 0.00085367647}, {'pengantar': 0.00063521997}, {'penutup': 0.030765012}, {'qualification': 0.00049248117}, {'responsibilities': 0.0021254572}, {'salary': 0.0016581819}, {'sapa': 0.7219143}, {'sertifikat': 4.490714e-06}, {'skck': 2.7255397e-05}, {'timeline': 0.07442133}, {'training': 0.11516344}, {'transkrip-ijazah': 0.00027952986}]\n",
      "sapa\n",
      "Maaf, Kak. Aku tidak mengerti...\n"
     ]
    }
   ],
   "source": [
    "bot_response('ingin')"
   ]
  },
  {
   "cell_type": "code",
   "execution_count": 52,
   "metadata": {},
   "outputs": [
    {
     "name": "stdout",
     "output_type": "stream",
     "text": [
      "[{'CV': 0.010454456}, {'biaya': 0.0007756159}, {'daftar': 0.000109488385}, {'dokumen': 3.862607e-05}, {'error upload': 1.5368205e-06}, {'ktp': 5.2935782e-05}, {'link sosmed': 2.3943501e-05}, {'lowongan': 0.00092982757}, {'lupa password': 8.67447e-05}, {'nama': 0.0005225215}, {'pas foto': 0.97983813}, {'pengantar': 0.00040879767}, {'penutup': 4.7553214e-05}, {'qualification': 8.734105e-05}, {'responsibilities': 0.0052101724}, {'salary': 0.00013049148}, {'sapa': 0.00017100792}, {'sertifikat': 6.2571544e-06}, {'skck': 5.3874905e-06}, {'timeline': 0.0008712072}, {'training': 1.4528187e-05}, {'transkrip-ijazah': 0.00021350298}]\n",
      "pas foto\n",
      "Pas foto merupakan dokumen wajib pendaftaran ya, Kak.\n",
      "\n",
      "Berikut ketentuan pas foto yang harus dipenuhi:\n",
      "- Background berwarna biru dengan pakaian formal (kemeja dan/atau jas)\n",
      "- Foto berukuran 3x4 dan berwarna\n",
      "- Disarankan untuk menggunakan foto terbaru\n",
      "- Upload foto di https://rekrutmen.fiktif.id/dokumen dengan ukuran file tidak lebih dari 1 MB dengan format file jpg/png/jpeg\n",
      "\n",
      "Kalau ukuran file melebihi, silahkan diperkecil dulu dengan aplikasi untuk edit foto.\n"
     ]
    }
   ],
   "source": [
    "bot_response('pas foto hilang gimana ya')"
   ]
  },
  {
   "cell_type": "markdown",
   "metadata": {},
   "source": [
    "ktp, pas foto, password masih ketuker2"
   ]
  },
  {
   "cell_type": "code",
   "execution_count": 53,
   "metadata": {},
   "outputs": [
    {
     "data": {
      "text/plain": [
       "array(['CV', 'biaya', 'daftar', 'dokumen', 'error upload', 'ktp',\n",
       "       'link sosmed', 'lowongan', 'lupa password', 'nama', 'pas foto',\n",
       "       'pengantar', 'penutup', 'qualification', 'responsibilities',\n",
       "       'salary', 'sapa', 'sertifikat', 'skck', 'timeline', 'training',\n",
       "       'transkrip-ijazah'], dtype=object)"
      ]
     },
     "execution_count": 53,
     "metadata": {},
     "output_type": "execute_result"
    }
   ],
   "source": [
    "le.classes_"
   ]
  },
  {
   "cell_type": "code",
   "execution_count": 54,
   "metadata": {},
   "outputs": [
    {
     "data": {
      "text/plain": [
       "<tf.Tensor: shape=(8,), dtype=int64, numpy=array([133,   0,   0,   0,   0,   0,   0,   0], dtype=int64)>"
      ]
     },
     "execution_count": 54,
     "metadata": {},
     "output_type": "execute_result"
    }
   ],
   "source": [
    "textvect('loker')"
   ]
  },
  {
   "cell_type": "code",
   "execution_count": 55,
   "metadata": {},
   "outputs": [
    {
     "data": {
      "text/plain": [
       "<tf.Tensor: shape=(8,), dtype=int64, numpy=array([1, 0, 0, 0, 0, 0, 0, 0], dtype=int64)>"
      ]
     },
     "execution_count": 55,
     "metadata": {},
     "output_type": "execute_result"
    }
   ],
   "source": [
    "textvect('wis')"
   ]
  },
  {
   "cell_type": "code",
   "execution_count": 56,
   "metadata": {},
   "outputs": [],
   "source": [
    "data = {'user_input':'hai hai'}\n",
    "data = json.dumps(data)\n",
    "loaded_data = json.loads(data)"
   ]
  },
  {
   "cell_type": "code",
   "execution_count": 57,
   "metadata": {},
   "outputs": [
    {
     "data": {
      "text/plain": [
       "dict"
      ]
     },
     "execution_count": 57,
     "metadata": {},
     "output_type": "execute_result"
    }
   ],
   "source": [
    "type(loaded_data)"
   ]
  },
  {
   "cell_type": "code",
   "execution_count": 58,
   "metadata": {},
   "outputs": [],
   "source": [
    "tespred = str(model.predict([clean_text(loaded_data['user_input'])]).argmax())"
   ]
  },
  {
   "cell_type": "code",
   "execution_count": 59,
   "metadata": {},
   "outputs": [],
   "source": [
    "tes_res = {'pred':tespred}\n",
    "tes_res = json.dumps(tes_res)\n",
    "loaded_res = json.loads(tes_res)"
   ]
  },
  {
   "cell_type": "code",
   "execution_count": 60,
   "metadata": {},
   "outputs": [
    {
     "data": {
      "text/plain": [
       "'sapa'"
      ]
     },
     "execution_count": 60,
     "metadata": {},
     "output_type": "execute_result"
    }
   ],
   "source": [
    "le.classes_[int(loaded_res['pred'])]"
   ]
  },
  {
   "cell_type": "code",
   "execution_count": 61,
   "metadata": {},
   "outputs": [
    {
     "data": {
      "text/plain": [
       "'hai hai'"
      ]
     },
     "execution_count": 61,
     "metadata": {},
     "output_type": "execute_result"
    }
   ],
   "source": [
    "loaded_data['user_input']"
   ]
  },
  {
   "cell_type": "code",
   "execution_count": 62,
   "metadata": {},
   "outputs": [
    {
     "data": {
      "text/plain": [
       "1000"
      ]
     },
     "execution_count": 62,
     "metadata": {},
     "output_type": "execute_result"
    }
   ],
   "source": [
    "1000"
   ]
  },
  {
   "cell_type": "code",
   "execution_count": 63,
   "metadata": {},
   "outputs": [
    {
     "data": {
      "text/plain": [
       "'1000'"
      ]
     },
     "execution_count": 63,
     "metadata": {},
     "output_type": "execute_result"
    }
   ],
   "source": [
    "str(1000)"
   ]
  },
  {
   "cell_type": "code",
   "execution_count": 64,
   "metadata": {},
   "outputs": [
    {
     "data": {
      "text/plain": [
       "1000"
      ]
     },
     "execution_count": 64,
     "metadata": {},
     "output_type": "execute_result"
    }
   ],
   "source": [
    "int(str(1000))"
   ]
  },
  {
   "cell_type": "code",
   "execution_count": 65,
   "metadata": {},
   "outputs": [
    {
     "data": {
      "text/plain": [
       "'pas foto'"
      ]
     },
     "execution_count": 65,
     "metadata": {},
     "output_type": "execute_result"
    }
   ],
   "source": [
    "le.classes_[int(str(10))]"
   ]
  },
  {
   "cell_type": "code",
   "execution_count": 66,
   "metadata": {},
   "outputs": [
    {
     "data": {
      "text/plain": [
       "<tf.Tensor: shape=(8,), dtype=int64, numpy=array([133,   0,   0,   0,   0,   0,   0,   0], dtype=int64)>"
      ]
     },
     "execution_count": 66,
     "metadata": {},
     "output_type": "execute_result"
    }
   ],
   "source": [
    "textvect('loker')"
   ]
  },
  {
   "cell_type": "code",
   "execution_count": 67,
   "metadata": {},
   "outputs": [
    {
     "name": "stdout",
     "output_type": "stream",
     "text": [
      "Untuk posisi Data Engineer ada beberapa kualifikasi yang harus dipenuhi:\n",
      "1. Memiliki gelar sarjana di bidang informatika, ilmu komputer, statistika, matematika, atau bidang lain yang berhubungan\n",
      "2. Memiliki pengalaman bekerja dengan tools untuk ETL seperti AWS Glue, SSIS, Informatica, dll.\n",
      "3. Memiliki pengalaman kerja di bidang Data Engineer selama 1-3 tahun\n",
      "4. Memiliki pemahaman yang baik tentang ETL, SQL, dan noSQL\n",
      "5. Memiliki kemampuan bekerja sama, kepemimpinan, dan problem solving yang baik\n"
     ]
    }
   ],
   "source": [
    "user_input = 'apa kualifikasi engineer'\n",
    "clean_input = clean_text(user_input)\n",
    "pred = model.predict([clean_input]).argmax()\n",
    "if textvect(clean_input).numpy().max() <= 1:\n",
    "    label_idx = 1000\n",
    "else:\n",
    "    label_idx = pred \n",
    "if label_idx != 1000:\n",
    "    i = 0\n",
    "    while i < len(intent_json['intents']):\n",
    "        if le.classes_[label_idx] == intent_json['intents'][i]['intent'] and (le.classes_[label_idx] != 'responsibilities' or le.classes_[label_idx] != 'qualification'):\n",
    "            response = intent_json['intents'][i]['response']\n",
    "            break\n",
    "        elif le.classes_[label_idx] == 'responsibilities':\n",
    "            if any(x in clean_input for x in ['scientist', 'ds']):\n",
    "                response = [\"Berikut adalah tanggung jawab yang akan diberikan untuk posisi Data Scientist:\\n- Merancang dan mengembangkan berbagai solusi Machine Learning dan Deep Learning untuk meningkatkan pengalaman pengguna bagi konsumen\\n- Berkolaborasi dengan seluruh elemen bisnis dan bertanggung jawab untuk merencanakan solusi end-to-end berbasis data untuk menyelesaikan permasalahan bisnis\\n- Menjadi thinking partner bagi stakeholder lain untuk memperbaiki alur perjalanan data dan penggunaannya dalam operasional perusahaan, misal merancang proses feedback-loop atau human-in-the-loop untuk meningkatkan performa model secara berkelanjutan\"]\n",
    "                break\n",
    "            elif any(x in clean_input for x in ['engineer', 'de']):\n",
    "                response = [\"Berikut adalah tanggung jawab yang akan diberikan untuk posisi Data Engineer:\\n- Membangun dan menjaga end-to-end data pipeline dari input dan output heterogen\\n- Menangani dan mengelola data warehouse\\n- Membantu tim mentransformasikan data (ETL) dan mengembangkan proses ETL dari beberapa sumber\\n- Menganalisis dan mengorganisir data mentah \\n- Memastikan kualitas data dan integrasi data\"]\n",
    "                break\n",
    "            elif any(x in clean_input for x in ['analyst', 'da', 'analis']):\n",
    "                response = [\"Berikut adalah tanggung jawab yang akan diberikan untuk posisi Data Analyst:\\n- Mengumpulkan dan menyediakan data untuk membantu stakeholder lain meningkatkan metrik bisnis perusahaan dan retensi pelanggan\\n- Menganalisis data untuk menemukan insight yang dapat ditindaklanjuti seperti membuat funnel conversion analysis, cohort analysis, long-term trends, user segmentation, dan dapat membantu meningkatkan kinerja perusahaan dan mendukung pengambilan keputusan yang lebih baik\\n - Mengidentifikasi kebutuhan dan peluang bisnis berdasarkan data yang tersedia\"]\n",
    "                break\n",
    "        elif le.classes_[label_idx] == 'qualification':\n",
    "            if any(x in clean_input for x in ['scientist', 'ds']):\n",
    "                response = [\"Untuk posisi Data Scientist ada beberapa kualifikasi yang harus dipenuhi:\\n1. Memiliki gelar sarjana di bidang informatika, ilmu komputer, statistika, matematika, atau bidang lain yang berhubungan\\n2. Memiliki pemahaman mendasar tentang Statistika Analitik, Machine Learning, Deep Learning untuk menyelesaikan permasalahan bisnis\\n3. Memiliki pengalaman kerja di bidang Data Science selama 1-3 tahun\\n4. Memiliki pemahaman dan pengalaman tentang Big Data\\n5. Memiliki kemampuan bekerja sama, kepemimpinan, dan problem solving yang baik\"]\n",
    "                break\n",
    "            elif any(x in clean_input for x in ['engineer', 'de']):\n",
    "                response = [\"Untuk posisi Data Engineer ada beberapa kualifikasi yang harus dipenuhi:\\n1. Memiliki gelar sarjana di bidang informatika, ilmu komputer, statistika, matematika, atau bidang lain yang berhubungan\\n2. Memiliki pengalaman bekerja dengan tools untuk ETL seperti AWS Glue, SSIS, Informatica, dll.\\n3. Memiliki pengalaman kerja di bidang Data Engineer selama 1-3 tahun\\n4. Memiliki pemahaman yang baik tentang ETL, SQL, dan noSQL\\n5. Memiliki kemampuan bekerja sama, kepemimpinan, dan problem solving yang baik\"]\n",
    "                break\n",
    "            elif any(x in clean_input for x in ['analyst', 'da', 'analis']):\n",
    "                response = [\"Untuk posisi Data Analyst ada beberapa kualifikasi yang harus dipenuhi:\\n1. Memiliki gelar sarjana di bidang informatika, ilmu komputer, statistika, matematika, atau bidang lain yang berhubungan\\n2. Memiliki pemahaman mendasar tentang Statistika Analitik dan Inferensial untuk mencari peluang bisnis\\n3. Memiliki pengalaman kerja di bidang Data Analyst selama 1-3 tahun\\n4. Memiliki pemahaman dan pengalaman tentang Big Data serta visualisasi dengan tools seperti Power BI, Tableau, dll.\\n5. Memiliki kemampuan bekerja sama, kepemimpinan, dan problem solving yang baik\"]\n",
    "                break\n",
    "        else:\n",
    "            i+=1\n",
    "else:\n",
    "    response = ['Maaf, Kak. Aku tidak mengerti chatnya...']\n",
    "\n",
    "print(np.random.choice(response))"
   ]
  },
  {
   "cell_type": "code",
   "execution_count": 68,
   "metadata": {},
   "outputs": [
    {
     "data": {
      "text/plain": [
       "'qualification'"
      ]
     },
     "execution_count": 68,
     "metadata": {},
     "output_type": "execute_result"
    }
   ],
   "source": [
    "le.classes_[label_idx]"
   ]
  }
 ],
 "metadata": {
  "interpreter": {
   "hash": "27f6fea6f47ae512550f0b8facdbd035a93e1dd89633f7bf2dd00a2502c71d0d"
  },
  "kernelspec": {
   "display_name": "Python 3.10.3 64-bit",
   "language": "python",
   "name": "python3"
  },
  "language_info": {
   "codemirror_mode": {
    "name": "ipython",
    "version": 3
   },
   "file_extension": ".py",
   "mimetype": "text/x-python",
   "name": "python",
   "nbconvert_exporter": "python",
   "pygments_lexer": "ipython3",
   "version": "3.10.3"
  },
  "orig_nbformat": 4
 },
 "nbformat": 4,
 "nbformat_minor": 2
}
